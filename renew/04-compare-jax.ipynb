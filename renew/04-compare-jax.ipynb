{
 "cells": [
  {
   "cell_type": "markdown",
   "metadata": {},
   "source": [
    "### Comparison between jax and non-jax models\n",
    "Quick notebook to verify that jax and non-jax models can produce similar results\n",
    "under equivalent configurations.\n",
    "Specifically, if the window length for looking backwards at \n",
    "previous incidence values for the jax values is set to a high value\n",
    "(relative to the size of the tail of its generation time distribution)\n",
    "we get very similar numerical outputs back."
   ]
  },
  {
   "cell_type": "code",
   "execution_count": null,
   "metadata": {},
   "outputs": [],
   "source": [
    "import numpy as np\n",
    "import pandas as pd\n",
    "pd.options.plotting.backend = \"plotly\"\n",
    "\n",
    "from emu_renewal.distributions import JaxGammaDens\n",
    "from emu_renewal.renew import RenewalModel, JaxModel"
   ]
  },
  {
   "cell_type": "code",
   "execution_count": null,
   "metadata": {},
   "outputs": [],
   "source": [
    "# Reasonable parameter values for Malaysia data from previous calibration\n",
    "gen_time_mean = 8.9744\n",
    "gen_time_sd = 5.4449\n",
    "proc_vals = np.array([0.1130, -0.7540, -0.0427, -0.0868, 0.3491, 0.4198, 0.2779, 0.4796, 0.1858, 0.389, 0.2204, 0.0243])\n",
    "seed_peak = np.log(13892.0057)"
   ]
  },
  {
   "cell_type": "code",
   "execution_count": null,
   "metadata": {},
   "outputs": [],
   "source": [
    "window_len = 50\n",
    "j = JaxModel(33e6, 50, 326, 30, 12, JaxGammaDens(), window_len)\n",
    "m = RenewalModel(33e6, 276, 30, 12)\n",
    "\n",
    "def get_inc_result(gen_mean, gen_sd, proc, seed):\n",
    "    return j.func(gen_mean, gen_sd, proc, seed)"
   ]
  },
  {
   "cell_type": "code",
   "execution_count": null,
   "metadata": {},
   "outputs": [],
   "source": [
    "incidence_j = get_inc_result(gen_time_mean, gen_time_sd, proc_vals, seed_peak).incidence\n",
    "incidence_m = m.func(gen_time_mean, gen_time_sd, proc_vals, seed_peak).incidence"
   ]
  },
  {
   "cell_type": "code",
   "execution_count": null,
   "metadata": {},
   "outputs": [],
   "source": [
    "pd.DataFrame({\"original\": incidence_m, \"jax\": incidence_j}).plot()"
   ]
  }
 ],
 "metadata": {
  "kernelspec": {
   "display_name": "Python 3 (ipykernel)",
   "language": "python",
   "name": "python3"
  },
  "language_info": {
   "codemirror_mode": {
    "name": "ipython",
    "version": 3
   },
   "file_extension": ".py",
   "mimetype": "text/x-python",
   "name": "python",
   "nbconvert_exporter": "python",
   "pygments_lexer": "ipython3",
   "version": "3.10.13"
  }
 },
 "nbformat": 4,
 "nbformat_minor": 4
}
