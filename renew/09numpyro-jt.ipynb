{
 "cells": [
  {
   "cell_type": "code",
   "execution_count": null,
   "metadata": {},
   "outputs": [],
   "source": [
    "from jax import jit, random\n",
    "from jax import numpy as jnp\n",
    "import numpy as np\n",
    "import pandas as pd\n",
    "from datetime import datetime\n",
    "import numpyro\n",
    "from numpyro import distributions as dist\n",
    "import arviz as az\n",
    "\n",
    "import summer2\n",
    "\n",
    "from emu_renewal.distributions import JaxGammaDens\n",
    "from emu_renewal.renew import JaxModel"
   ]
  },
  {
   "cell_type": "code",
   "execution_count": null,
   "metadata": {},
   "outputs": [],
   "source": [
    "distri = JaxGammaDens()\n",
    "j = JaxModel(33e6, 50, 276, 30, 12, distri)\n",
    "\n",
    "@jit\n",
    "def get_inc_result(gen_mean, gen_sd, proc, seed):\n",
    "    return j.func(gen_mean, gen_sd, proc, seed)"
   ]
  },
  {
   "cell_type": "code",
   "execution_count": null,
   "metadata": {},
   "outputs": [],
   "source": [
    "run_in = 30\n",
    "n_process_periods = 12\n",
    "raw_data = pd.read_csv(\"https://github.com/monash-emu/wpro_working/raw/main/data/new_cases.csv\", index_col=0)[\"MYS\"]\n",
    "raw_data.index = pd.to_datetime(raw_data.index)\n",
    "mys_data = raw_data.loc[datetime(2021, 3, 1): datetime(2021, 11, 1)].reset_index()[\"MYS\"]\n",
    "mys_data.index += run_in\n",
    "n_times = len(mys_data) + run_in\n",
    "calib_kwargs = {\"pop\": 33e6, \"n_times\": n_times, \"run_in\": run_in, \"targets\": mys_data}"
   ]
  },
  {
   "cell_type": "code",
   "execution_count": null,
   "metadata": {},
   "outputs": [],
   "source": [
    "priors = {\n",
    "    \"gen_mean\": dist.Uniform(2.0, 10.0),\n",
    "    \"gen_sd\": dist.Uniform(1.0, 5.0),\n",
    "    \"proc\": dist.Uniform(np.repeat(-2.0, 4), np.repeat(2.0, 4)),\n",
    "    \"seed\": dist.Uniform(4.0, 15.0),  # This is actually the log seed\n",
    "}\n",
    "\n",
    "def calib_model():\n",
    "    param_updates = {k: numpyro.sample(k, v) for k, v in priors.items()}\n",
    "    model_res = get_inc_result(**param_updates).incidence[run_in:]\n",
    "    like = dist.Normal(model_res, jnp.std(jnp.array(mys_data)) * 0.1).log_prob(jnp.array(mys_data)).sum()\n",
    "    numpyro.factor(\"incidence\", like)"
   ]
  },
  {
   "cell_type": "code",
   "execution_count": null,
   "metadata": {},
   "outputs": [],
   "source": [
    "kernel = numpyro.infer.NUTS(calib_model)\n",
    "mcmc = numpyro.infer.MCMC(kernel, num_chains=2, num_samples=1000, num_warmup=1000)\n",
    "rng_key = random.PRNGKey(1)\n",
    "mcmc.run(rng_key, extra_fields=(\"accept_prob\",))"
   ]
  },
  {
   "cell_type": "code",
   "execution_count": null,
   "metadata": {},
   "outputs": [],
   "source": [
    "idata = az.from_numpyro(mcmc)"
   ]
  },
  {
   "cell_type": "code",
   "execution_count": null,
   "metadata": {},
   "outputs": [],
   "source": [
    "az.plot_trace(idata);"
   ]
  }
 ],
 "metadata": {
  "kernelspec": {
   "display_name": "Python 3 (ipykernel)",
   "language": "python",
   "name": "python3"
  },
  "language_info": {
   "codemirror_mode": {
    "name": "ipython",
    "version": 3
   },
   "file_extension": ".py",
   "mimetype": "text/x-python",
   "name": "python",
   "nbconvert_exporter": "python",
   "pygments_lexer": "ipython3",
   "version": "3.10.11"
  }
 },
 "nbformat": 4,
 "nbformat_minor": 4
}
