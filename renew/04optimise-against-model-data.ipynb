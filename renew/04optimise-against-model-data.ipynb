{
 "cells": [
  {
   "cell_type": "markdown",
   "id": "d316eb3c-d354-439c-ad0b-e896bb350ce8",
   "metadata": {},
   "source": [
    "## Test optimisation algorithms against results produced by model with known parameters\n",
    "Using a similar approach to the preceding notebooks ($i_t = R_t\\sum_{\\tau<t} i_\\tau g_{t-\\tau}$),\n",
    "test various optimisation algorithms using model-created outputs\n",
    "(so that we know the ideal parameters that the algorithm should be approaching).\n",
    "So that we can start using these various model components in more sophisticated ways,\n",
    "I'll begin writing the code as properly encapsulated functions\n",
    "and tracking a few key model quantities."
   ]
  },
  {
   "cell_type": "code",
   "execution_count": null,
   "id": "1a49b5a0-50c7-468d-acfa-0a9a5ea6e067",
   "metadata": {},
   "outputs": [],
   "source": [
    "from typing import List\n",
    "import numpy as np\n",
    "import pandas as pd\n",
    "pd.options.plotting.backend = 'plotly'\n",
    "from scipy.optimize import minimize, shgo\n",
    "import nevergrad as ng\n",
    "\n",
    "from emu_renewal.renew import RenewalModel\n",
    "from emu_renewal.outputs import Outputs, plot_output_fit"
   ]
  },
  {
   "cell_type": "code",
   "execution_count": null,
   "id": "d3299a2b-b443-45a8-aa27-a3c90e575b8e",
   "metadata": {},
   "outputs": [],
   "source": [
    "# def model_func(gen_time_mean: float, gen_time_sd: float, process_req: List[float], pop: int, seed: int, n_times: int) -> tuple:\n",
    "#     \"\"\"The common features of the model.\n",
    "#     Get the generation time distribution from the user request,\n",
    "#     linearly interpolate the non-mechanistic process,\n",
    "#     exponentiate the result and run the renewal process.\n",
    "#     \"\"\"\n",
    "#     gen_time_densities = get_gamma_densities_from_params(gen_time_mean, gen_time_sd, n_times)\n",
    "#     req_x_vals = np.linspace(0.0, n_times, len(process_req))\n",
    "#     func = get_linear_interp_func(req_x_vals, process_req)\n",
    "#     process_vals = func(np.array([float(t) for t in range(n_times)]))\n",
    "#     process_vals_exp = np.exp(np.array(process_vals))\n",
    "#     model_result = renew_basic(gen_time_densities, process_vals_exp, pop, seed, n_times)\n",
    "#     return model_result, process_vals_exp\n",
    "\n",
    "# def process_calib_func(parameters: List[float], gen_time_mean, gen_time_sd, pop: int, seed: int, n_times: int, targets: dict) -> float:\n",
    "#     \"\"\"Only optimise the non-mechanistic process parameters,\n",
    "#     least squares loss function.\n",
    "#     \"\"\"\n",
    "#     incidence = model_func(gen_time_mean, gen_time_sd, parameters, pop, seed, n_times)[0][0]\n",
    "#     return sum([(incidence[t] - d) ** 2 for t, d in targets.items()])    \n",
    "\n",
    "# def all_param_calib_func(parameters: List[float], pop: int, seed: int, n_times: int, targets: dict) -> float:\n",
    "#     \"\"\"Additionally include the generation time parameters as parameters,\n",
    "#     least squares loss function.\n",
    "#     \"\"\"\n",
    "#     gen_time_mean, gen_time_sd, *process_req = parameters\n",
    "#     incidence = model_func(gen_time_mean, gen_time_sd, process_req, pop, seed, n_times)[0][0]\n",
    "#     return sum([(incidence[t] - d) ** 2 for t, d in targets.items()])"
   ]
  },
  {
   "cell_type": "code",
   "execution_count": null,
   "id": "14fafa18-a445-4df5-a223-ed02eb23f542",
   "metadata": {},
   "outputs": [],
   "source": [
    "test_process = [1.8, 2.5, 1.6, 0.7]\n",
    "n_times = 40\n",
    "model = RenewalModel(100.0, n_times, 10, 5)\n",
    "gen_mean = 5.5\n",
    "gen_sd = 1.8\n",
    "seed = 1.0\n",
    "test_results = model.func(gen_mean, gen_sd, np.log(test_process), seed)\n",
    "\n",
    "def calib_func(parameters: List[float], targets: dict) -> float:\n",
    "    incidence = model.func(gen_mean, gen_sd, parameters, seed).incidence\n",
    "    return sum([(incidence[t] - d) ** 2 for t, d in enumerate(targets)])"
   ]
  },
  {
   "cell_type": "markdown",
   "id": "26d42533-c135-4c09-a22f-12b64c101fe1",
   "metadata": {},
   "source": [
    "### Local optimisation algorithm\n",
    "#### Process values optimised only\n",
    "Local optimisation algorithm.\n",
    "It works for this simple case, but quickly breaks down in many other use cases."
   ]
  },
  {
   "cell_type": "code",
   "execution_count": null,
   "id": "4d84825c-4a0f-43c2-9772-2ca5664abf3b",
   "metadata": {},
   "outputs": [],
   "source": [
    "param_bounds = [[-1000.0, np.log(10.0)]] * 4\n",
    "result = minimize(calib_func, [np.log(2.0)] * 4, method='Nelder-Mead', args=(test_results.incidence), bounds=param_bounds)\n",
    "print(f'target: {test_process}')\n",
    "print(f'result: {np.exp(result.x)}')"
   ]
  },
  {
   "cell_type": "code",
   "execution_count": null,
   "id": "fb0b26fc-8d0c-41d0-80d9-187f386c442c",
   "metadata": {},
   "outputs": [],
   "source": [
    "plot_output_fit(pd.Series(test_results.incidence), test_results, 40, 1.0)"
   ]
  },
  {
   "cell_type": "code",
   "execution_count": null,
   "id": "c6b9ae51-c010-4d9b-9e04-5da164127b0d",
   "metadata": {},
   "outputs": [],
   "source": [
    "param_bounds = [[-1000.0, np.log(10.0)]] * 4\n",
    "result = minimize(process_calib_func, [np.log(2.0)] * 4, method='Nelder-Mead', args=(test_gen_mean, test_gen_sd, population, infectious_seed, n_times, test_vals), bounds=param_bounds)\n",
    "model_result, process_vals = model_func(test_gen_mean, test_gen_sd, result.x, population, infectious_seed, n_times)\n",
    "optimised, suscept, r_t = model_result\n",
    "# plot_output_fit(test_vals, model_result, process_vals, n_times)"
   ]
  },
  {
   "cell_type": "markdown",
   "id": "beca7386-b374-4be0-8913-bb07b43564da",
   "metadata": {
    "tags": []
   },
   "source": [
    "#### Generation time parameters included\n",
    "The same local optimisation algorithm, \n",
    "but now additionally including generation time parameters in local optimisation."
   ]
  },
  {
   "cell_type": "code",
   "execution_count": null,
   "id": "4d852142-63be-4a0e-80fc-22aeff302b22",
   "metadata": {},
   "outputs": [],
   "source": [
    "param_bounds = [[1.0, 10.0]] + [[1.0, 5.0]] + [[-10000.0, np.log(10.0)]] * 4\n",
    "result = minimize(all_param_calib_func, [5.0, 1.5] + [np.log(2.0)] * 4, method='Nelder-Mead', args=(population, infectious_seed, n_times, test_vals), bounds=param_bounds)\n",
    "model_result, process_vals = model_func(result.x[0], result.x[1], result.x[2:], population, infectious_seed, n_times)\n",
    "optimised, suscept, r_t = model_result\n",
    "# plot_output_fit(test_vals, model_result, process_vals, n_times)"
   ]
  },
  {
   "cell_type": "markdown",
   "id": "87d954d5-2437-477e-bd67-35c64981f092",
   "metadata": {},
   "source": [
    "### Global algorithm\n",
    "Global optimisation with `scipy`'s `shgo` - need to capture arguments through closure due to bug in optimisation function\n",
    "as per [comment found online](https://stackoverflow.com/questions/72794609/scipy-issue-passing-arguments-to-optimize-shgo-function)."
   ]
  },
  {
   "cell_type": "code",
   "execution_count": null,
   "id": "0afe849e-392b-4d2c-8722-8c41c0d108ca",
   "metadata": {},
   "outputs": [],
   "source": [
    "param_bounds = [[0.1, 10.0]] + [[0.1, 4.0]] + [[np.log(1.0), np.log(5.0)]] * 4\n",
    "global_result = shgo(lambda x, p=population, s=infectious_seed, t=n_times, d=test_vals: all_param_calib_func(x, p, s, t, d), param_bounds)\n",
    "model_result, process_vals = model_func(global_result.x[0], global_result.x[1], global_result.x[2:], population, infectious_seed, n_times)\n",
    "optimised, suscept, r_t = model_result\n",
    "print(test_process)\n",
    "print(np.exp(np.array(global_result.x[2:])))\n",
    "plot_output_fit(test_vals, model_result, process_vals, n_times)"
   ]
  },
  {
   "cell_type": "markdown",
   "id": "090d2941-b31f-4b2f-a463-72db3a705323",
   "metadata": {},
   "source": [
    "### `nevergrad` algorithms\n",
    "#### `NGOpt` with default settings\n",
    "`NGOpt` applied without additional user requests."
   ]
  },
  {
   "cell_type": "code",
   "execution_count": null,
   "id": "35bd0cc9-6a4b-4b1a-a51a-1a996765ff76",
   "metadata": {},
   "outputs": [],
   "source": [
    "def obj_func(parameters):\n",
    "    return all_param_calib_func(parameters, pop=1e2, seed=1.0, n_times=n_times, targets=test_vals)\n",
    "optimizer = ng.optimizers.NGOpt(parametrization=6, budget=2000)\n",
    "ngopt_result = optimizer.minimize(obj_func)\n",
    "ngopt_output, ngopt_process = model_func(ngopt_result.value[0], ngopt_result.value[1], ngopt_result.value[2:], 1e2, 1.0, len(test_vals))\n",
    "print(test_process)\n",
    "print(np.exp(ngopt_result.value[2:]))\n",
    "plot_output_fit(test_vals, ngopt_output, ngopt_process, n_times)"
   ]
  },
  {
   "cell_type": "markdown",
   "id": "77311aa9-f00d-4bd0-ad08-50c801579227",
   "metadata": {},
   "source": [
    "#### `NGOpt` with parameterisation\n",
    "Specify starting points and bounds for algorithm."
   ]
  },
  {
   "cell_type": "code",
   "execution_count": null,
   "id": "1d57a58a-c84f-4ccf-8baf-b79c4304176b",
   "metadata": {},
   "outputs": [],
   "source": [
    "gen_time_mean_param = ng.p.Scalar(init=5.0, lower=0.1, upper=10.0)\n",
    "gen_time_sd_param = ng.p.Scalar(init=1.0, lower=0.1, upper=4.0)\n",
    "process_param = ng.p.Array(init=[0.0] * 4, lower=-10.0, upper=10.0)\n",
    "instrum = ng.p.Instrumentation(gen_time_mean_param, gen_time_sd_param, process_param)\n",
    "def obj_func(gen_time_mean, gen_time_sd, parameters):\n",
    "    return all_param_calib_func([gen_time_mean, gen_time_sd] + list(parameters), pop=1e2, seed=1.0, n_times=n_times, targets=test_vals)\n",
    "optimizer = ng.optimizers.NGOpt(parametrization=instrum, budget=2000)\n",
    "ngopt_result = optimizer.minimize(obj_func).value[0]  # Zero index gets us the args (not kwargs)\n",
    "ngopt_output, ngopt_process = model_func(ngopt_result[0], ngopt_result[1], ngopt_result[2], 1e2, 1.0, len(test_vals))\n",
    "print(ngopt_result[0])\n",
    "print(ngopt_result[1])\n",
    "print(test_process)\n",
    "print(np.exp(ngopt_result[2]))\n",
    "plot_output_fit(test_vals, ngopt_output, ngopt_process, n_times)"
   ]
  },
  {
   "cell_type": "markdown",
   "id": "47d4de3b-495c-4d15-99df-c22f9ad70beb",
   "metadata": {},
   "source": [
    "#### `TwoPointsDE`\n",
    "Doesn't work quite as well with `TwoPointsDE`."
   ]
  },
  {
   "cell_type": "code",
   "execution_count": null,
   "id": "ea83253d-9a37-4165-a58e-613bd64be8c7",
   "metadata": {},
   "outputs": [],
   "source": [
    "gen_time_mean_param = ng.p.Scalar(init=5.0, lower=0.1, upper=10.0)\n",
    "gen_time_sd_param = ng.p.Scalar(init=1.0, lower=0.1, upper=4.0)\n",
    "process_param = ng.p.Array(init=[0.0] * 4, lower=-10.0, upper=10.0)\n",
    "instrum = ng.p.Instrumentation(gen_time_mean_param, gen_time_sd_param, process_param)\n",
    "def obj_func(gen_time_mean, gen_time_sd, parameters):\n",
    "    return all_param_calib_func([gen_time_mean, gen_time_sd] + list(parameters), pop=1e2, seed=1.0, n_times=n_times, targets=test_vals)\n",
    "optimizer = ng.optimizers.TwoPointsDE(parametrization=instrum, budget=2000)\n",
    "ngopt_result = optimizer.minimize(obj_func).value[0]\n",
    "ngopt_output, ngopt_process = model_func(ngopt_result[0], ngopt_result[1], ngopt_result[2], 1e2, 1.0, len(test_vals))\n",
    "print(ngopt_result[0])\n",
    "print(ngopt_result[1])\n",
    "print(test_process)\n",
    "print(np.exp(ngopt_result[2]))\n",
    "plot_output_fit(test_vals, ngopt_output, ngopt_process, n_times)"
   ]
  },
  {
   "cell_type": "markdown",
   "id": "bbf2d766-f91b-4878-80ad-6d4ccb0f248c",
   "metadata": {},
   "source": [
    "#### `NGOpt` optimisation with jittered synthetic data\n",
    "Same as previous best algorithm, but with jitter applied to data."
   ]
  },
  {
   "cell_type": "code",
   "execution_count": null,
   "id": "87da5ad0-cea0-4cfe-8910-2bce6105b747",
   "metadata": {},
   "outputs": [],
   "source": [
    "spread = 0.2\n",
    "jitter = pd.Series(np.random.normal(scale=spread, size=n_times) + 1.0)\n",
    "jittered_vals = test_vals * jitter\n",
    "gen_time_mean_param = ng.p.Scalar(init=5.0, lower=0.1, upper=10.0)\n",
    "gen_time_sd_param = ng.p.Scalar(init=1.0, lower=0.1, upper=4.0)\n",
    "process_param = ng.p.Array(init=[0.0] * 4, lower=-10.0, upper=10.0)\n",
    "instrum = ng.p.Instrumentation(gen_time_mean_param, gen_time_sd_param, process_param)\n",
    "def obj_func(gen_time_mean, gen_time_sd, parameters):\n",
    "    return all_param_calib_func([gen_time_mean, gen_time_sd] + list(parameters), pop=1e2, seed=1.0, n_times=n_times, targets=test_vals)\n",
    "optimizer = ng.optimizers.NGOpt(parametrization=instrum, budget=2000)\n",
    "jitter_result = optimizer.minimize(obj_func).value[0]\n",
    "jitter_output, process_vals = model_func(jitter_result[0], jitter_result[1], jitter_result[2], 1e2, 1.0, len(test_vals))\n",
    "print(test_process)\n",
    "print(np.exp(jitter_result[2]))\n",
    "plot_output_fit(jittered_vals, jitter_output, process_vals, n_times)"
   ]
  }
 ],
 "metadata": {
  "kernelspec": {
   "display_name": "Python 3 (ipykernel)",
   "language": "python",
   "name": "python3"
  },
  "language_info": {
   "codemirror_mode": {
    "name": "ipython",
    "version": 3
   },
   "file_extension": ".py",
   "mimetype": "text/x-python",
   "name": "python",
   "nbconvert_exporter": "python",
   "pygments_lexer": "ipython3",
   "version": "3.10.0"
  }
 },
 "nbformat": 4,
 "nbformat_minor": 5
}
