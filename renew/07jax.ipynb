{
 "cells": [
  {
   "cell_type": "code",
   "execution_count": null,
   "metadata": {},
   "outputs": [],
   "source": [
    "# We want to this first because it handles all our jax init functions etc\n",
    "import summer2"
   ]
  },
  {
   "cell_type": "code",
   "execution_count": null,
   "metadata": {},
   "outputs": [],
   "source": [
    "from jax import lax, jit, numpy as jnp\n",
    "import numpy as np\n",
    "import pandas as pd"
   ]
  },
  {
   "cell_type": "code",
   "execution_count": null,
   "metadata": {},
   "outputs": [],
   "source": [
    "from emu_renewal.renew import RenewalModel"
   ]
  },
  {
   "cell_type": "code",
   "execution_count": null,
   "metadata": {},
   "outputs": [],
   "source": [
    "# Set some global values - these get consumed by our jax model function later\n",
    "\n",
    "population = 50000.0\n",
    "n_times = 300\n",
    "run_in = 10\n",
    "n_process_periods = 4\n",
    "\n",
    "\n",
    "# example parameter values for validation\n",
    "gen_time_mean = 8.5\n",
    "gen_time_sd = 3.0\n",
    "proc_vals = np.array([0.1,0.2,0.3,0.4])\n",
    "seed_peak = 10.0"
   ]
  },
  {
   "cell_type": "code",
   "execution_count": null,
   "metadata": {},
   "outputs": [],
   "source": [
    "m = RenewalModel(population, n_times, run_in, n_process_periods)"
   ]
  },
  {
   "cell_type": "code",
   "execution_count": null,
   "metadata": {},
   "outputs": [],
   "source": [
    "%%timeit\n",
    "_ = m.func(gen_time_mean,gen_time_sd,proc_vals,seed_peak)"
   ]
  },
  {
   "cell_type": "code",
   "execution_count": null,
   "metadata": {},
   "outputs": [],
   "source": [
    "incidence_orig = m.func(gen_time_mean,gen_time_sd,proc_vals,seed_peak).incidence\n",
    "pd.Series(incidence_orig).plot()"
   ]
  },
  {
   "cell_type": "code",
   "execution_count": null,
   "metadata": {},
   "outputs": [],
   "source": [
    "from typing import NamedTuple\n",
    "\n",
    "# Maximum window length for gamma densities (ie width of sliding window of incidence history)\n",
    "WLEN = 30\n",
    "\n",
    "# Our state class, used by lax.scan\n",
    "class RenewalState(NamedTuple):\n",
    "    incidence: jnp.array # WLEN sliding window\n",
    "    suscept: float # previous suscept value\n"
   ]
  },
  {
   "cell_type": "code",
   "execution_count": null,
   "metadata": {},
   "outputs": [],
   "source": [
    "from jax.scipy.stats.gamma import cdf\n",
    "from jax import numpy as jnp, vmap, grad"
   ]
  },
  {
   "cell_type": "code",
   "execution_count": null,
   "metadata": {},
   "outputs": [],
   "source": [
    "# jax gamma density function\n",
    "\n",
    "def get_densities(window_len, mean, sd):\n",
    "    scale = (sd*sd)/mean\n",
    "    a = mean/scale\n",
    "    return jnp.diff(cdf(jnp.arange(window_len+1),a=a,scale=scale))"
   ]
  },
  {
   "cell_type": "code",
   "execution_count": null,
   "metadata": {},
   "outputs": [],
   "source": [
    "from emu_renewal.process import cosine_multicurve, sinterp"
   ]
  },
  {
   "cell_type": "code",
   "execution_count": null,
   "metadata": {},
   "outputs": [],
   "source": [
    "def seed_func(t, seed):\n",
    "    xvals = sinterp.get_scale_data(jnp.array([0.0,run_in*0.5,run_in]))\n",
    "    yvals = sinterp.get_scale_data(jnp.array([0.0,seed,0.0]))\n",
    "    return cosine_multicurve(t, xvals, yvals)\n",
    "\n",
    "@jit\n",
    "def model_func(gen_time_mean, gen_time_sd, process_req, seed):\n",
    "    \n",
    "    densities = get_densities(WLEN, gen_time_mean, gen_time_sd)\n",
    "\n",
    "    init_state = RenewalState(np.zeros(WLEN), population)\n",
    "\n",
    "    xvals = sinterp.get_scale_data(jnp.linspace(0.0, n_times, n_process_periods))\n",
    "    yvals = sinterp.get_scale_data(process_req)\n",
    "    process_vals = jnp.exp(vmap(cosine_multicurve, in_axes=(0,None,None))(jnp.arange(n_times),xvals,yvals))\n",
    "\n",
    "    def state_update(state: RenewalState, t) -> tuple[RenewalState, jnp.array]:\n",
    "        r_t = process_vals[t] * state.suscept / population\n",
    "        renewal = (densities * state.incidence).sum() * r_t\n",
    "        seed_component = seed_func(t, seed)\n",
    "        total_new_incidence = renewal + seed_component\n",
    "        total_new_incidence = jnp.where(total_new_incidence > state.suscept, state.suscept, total_new_incidence)\n",
    "        suscept = state.suscept - total_new_incidence\n",
    "        incidence = jnp.zeros_like(state.incidence)\n",
    "        incidence = incidence.at[1:].set(state.incidence[:-1])\n",
    "        incidence = incidence.at[0].set(total_new_incidence)\n",
    "        return RenewalState(incidence, suscept), jnp.array([total_new_incidence, suscept])\n",
    "\n",
    "    end_state, outputs = lax.scan(state_update, init_state, jnp.arange(n_times))\n",
    "\n",
    "    return outputs"
   ]
  },
  {
   "cell_type": "code",
   "execution_count": null,
   "metadata": {},
   "outputs": [],
   "source": [
    "incidence_jax = model_func(gen_time_mean, gen_time_sd, proc_vals, seed_peak)[:,0]\n",
    "pd.Series(incidence_jax).plot()"
   ]
  }
 ],
 "metadata": {
  "kernelspec": {
   "display_name": "py310",
   "language": "python",
   "name": "python3"
  },
  "language_info": {
   "codemirror_mode": {
    "name": "ipython",
    "version": 3
   },
   "file_extension": ".py",
   "mimetype": "text/x-python",
   "name": "python",
   "nbconvert_exporter": "python",
   "pygments_lexer": "ipython3",
   "version": "3.10.10"
  }
 },
 "nbformat": 4,
 "nbformat_minor": 2
}
