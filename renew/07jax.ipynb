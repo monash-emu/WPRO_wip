{
 "cells": [
  {
   "cell_type": "code",
   "execution_count": 75,
   "metadata": {},
   "outputs": [],
   "source": [
    "import summer2"
   ]
  },
  {
   "cell_type": "code",
   "execution_count": 76,
   "metadata": {},
   "outputs": [],
   "source": [
    "from jax import lax, jit, numpy as jnp\n",
    "import numpy as np\n",
    "import pandas as pd"
   ]
  },
  {
   "cell_type": "code",
   "execution_count": 77,
   "metadata": {},
   "outputs": [],
   "source": [
    "from emu_renewal.renew import RenewalModel"
   ]
  },
  {
   "cell_type": "code",
   "execution_count": 78,
   "metadata": {},
   "outputs": [],
   "source": [
    "m = RenewalModel(50000.0, 300, 10, 4)"
   ]
  },
  {
   "cell_type": "code",
   "execution_count": 79,
   "metadata": {},
   "outputs": [
    {
     "data": {
      "text/plain": [
       "<Axes: >"
      ]
     },
     "execution_count": 79,
     "metadata": {},
     "output_type": "execute_result"
    },
    {
     "data": {
      "image/png": "[encoded data removed]",
      "text/plain": [
       "<Figure size 640x480 with 1 Axes>"
      ]
     },
     "metadata": {},
     "output_type": "display_data"
    }
   ],
   "source": [
    "pd.Series(m.func(8.5,3.0,np.array([0.5,0.2,0.1,0.5]),10.0).incidence).plot()"
   ]
  },
  {
   "cell_type": "code",
   "execution_count": 80,
   "metadata": {},
   "outputs": [],
   "source": [
    "from typing import NamedTuple\n",
    "\n",
    "class RenewalState(NamedTuple):\n",
    "    incidence: jnp.array\n",
    "    suscept: float\n",
    "\n",
    "    \n",
    "\n"
   ]
  },
  {
   "cell_type": "code",
   "execution_count": 81,
   "metadata": {},
   "outputs": [],
   "source": [
    "from jax.scipy.stats.gamma import cdf"
   ]
  },
  {
   "cell_type": "code",
   "execution_count": 82,
   "metadata": {},
   "outputs": [
    {
     "data": {
      "text/plain": [
       "array(0.)"
      ]
     },
     "execution_count": 82,
     "metadata": {},
     "output_type": "execute_result"
    }
   ],
   "source": [
    "m.seeder.get_interp_func([0.0,5.0])(8.0)"
   ]
  },
  {
   "cell_type": "code",
   "execution_count": 83,
   "metadata": {},
   "outputs": [],
   "source": [
    "def get_densities(window_len, mean, sd):\n",
    "    scale = (sd*sd)/mean\n",
    "    a = mean/scale\n",
    "    return jnp.diff(cdf(jnp.arange(window_len+1),a=a,scale=scale))"
   ]
  },
  {
   "cell_type": "code",
   "execution_count": 84,
   "metadata": {},
   "outputs": [
    {
     "data": {
      "text/plain": [
       "array([5.19810028e-17, 1.59958588e-10, 3.74818966e-07, 4.65744025e-05,\n",
       "       1.14549947e-03, 9.97233142e-03, 4.20115236e-02, 1.03596318e-01,\n",
       "       1.69434265e-01, 2.00394644e-01, 1.82388168e-01, 1.33768273e-01,\n",
       "       8.18814160e-02, 4.29865015e-02, 1.97773700e-02, 8.11408320e-03,\n",
       "       3.01094585e-03, 1.02246450e-03, 3.20869183e-04, 9.38277236e-05,\n",
       "       2.57462232e-05, 6.66957002e-06, 1.63965192e-06, 3.84280624e-07,\n",
       "       8.62017918e-08, 1.85727634e-08, 3.85545529e-09, 7.73234032e-10,\n",
       "       1.50193746e-10, 2.83176815e-11])"
      ]
     },
     "execution_count": 84,
     "metadata": {},
     "output_type": "execute_result"
    }
   ],
   "source": [
    "m.dens_obj.get_densities(30,10,2)"
   ]
  },
  {
   "cell_type": "code",
   "execution_count": 85,
   "metadata": {},
   "outputs": [
    {
     "data": {
      "text/plain": [
       "Array([5.19810028e-17, 1.59958588e-10, 3.74818966e-07, 4.65744025e-05,\n",
       "       1.14549947e-03, 9.97233142e-03, 4.20115236e-02, 1.03596318e-01,\n",
       "       1.69434265e-01, 2.00394644e-01, 1.82388168e-01, 1.33768273e-01,\n",
       "       8.18814160e-02, 4.29865015e-02, 1.97773700e-02, 8.11408320e-03,\n",
       "       3.01094585e-03, 1.02246450e-03, 3.20869183e-04, 9.38277236e-05,\n",
       "       2.57462232e-05, 6.66957002e-06, 1.63965192e-06, 3.84280624e-07,\n",
       "       8.62017918e-08, 1.85727634e-08, 3.85545529e-09, 7.73234032e-10,\n",
       "       1.50193746e-10, 2.83176815e-11], dtype=float64)"
      ]
     },
     "execution_count": 85,
     "metadata": {},
     "output_type": "execute_result"
    }
   ],
   "source": [
    "get_densities(30,10.0,2.0)"
   ]
  },
  {
   "cell_type": "code",
   "execution_count": 98,
   "metadata": {},
   "outputs": [],
   "source": [
    "@jit\n",
    "def model_func(gen_time_mean, gen_time_sd, population, init_state):\n",
    "    \n",
    "    densities = get_densities(30, gen_time_mean, gen_time_sd)\n",
    "\n",
    "    def state_update(state: RenewalState, t) -> (RenewalState, jnp.array):\n",
    "        r_t = state.suscept / population\n",
    "        renewal = (densities * state.incidence).sum() * r_t\n",
    "        suscept = state.suscept - renewal\n",
    "        suscept = jnp.where(suscept > 0, suscept, 0.0)\n",
    "        incidence = jnp.zeros_like(state.incidence)\n",
    "        incidence = incidence.at[1:].set(state.incidence[:-1])\n",
    "        incidence = incidence.at[0].set(renewal)\n",
    "        return RenewalState(incidence, suscept), jnp.array([renewal, suscept])\n",
    "\n",
    "    end_state, outputs = lax.scan(state_update, init_state, jnp.arange(3000))\n",
    "\n",
    "    return outputs"
   ]
  },
  {
   "cell_type": "code",
   "execution_count": 99,
   "metadata": {},
   "outputs": [
    {
     "data": {
      "text/plain": [
       "Array([25, 26, 27, 28, 29,  0,  1,  2,  3,  4,  5,  6,  7,  8,  9, 10, 11,\n",
       "       12, 13, 14, 15, 16, 17, 18, 19, 20, 21, 22, 23, 24], dtype=int32)"
      ]
     },
     "execution_count": 99,
     "metadata": {},
     "output_type": "execute_result"
    }
   ],
   "source": [
    "jnp.roll(np.arange(30),5)"
   ]
  },
  {
   "cell_type": "code",
   "execution_count": 100,
   "metadata": {},
   "outputs": [
    {
     "data": {
      "text/plain": [
       "24"
      ]
     },
     "execution_count": 100,
     "metadata": {},
     "output_type": "execute_result"
    }
   ],
   "source": [
    "(-1-5)%30"
   ]
  },
  {
   "cell_type": "code",
   "execution_count": 101,
   "metadata": {},
   "outputs": [],
   "source": [
    "@jit\n",
    "def model_funcrb(gen_time_mean, gen_time_sd, population, init_state):\n",
    "    \n",
    "    densities = get_densities(30, gen_time_mean, gen_time_sd)\n",
    "\n",
    "    def state_update(state: RenewalState, t) -> (RenewalState, jnp.array):\n",
    "        r_t = state.suscept / population\n",
    "        incidence_history = jnp.roll(state.incidence, t%30)\n",
    "        renewal = (densities * incidence_history).sum() * r_t\n",
    "        suscept = state.suscept - renewal\n",
    "        suscept = jnp.where(suscept > 0, suscept, 0.0)\n",
    "        rb_idx = t % 30\n",
    "\n",
    "        #incidence = incidence.at[].set(state.incidence[:-1])\n",
    "        incidence = state.incidence.at[(-1-t)%30].set(renewal)\n",
    "        return RenewalState(incidence, suscept), jnp.array([renewal, suscept])\n",
    "\n",
    "    end_state, outputs = lax.scan(state_update, init_state, jnp.arange(3000))\n",
    "\n",
    "    return outputs"
   ]
  },
  {
   "cell_type": "code",
   "execution_count": 102,
   "metadata": {},
   "outputs": [
    {
     "name": "stdout",
     "output_type": "stream",
     "text": [
      "136 µs ± 8.32 µs per loop (mean ± std. dev. of 7 runs, 1 loop each)\n"
     ]
    }
   ],
   "source": [
    "WLEN = 30\n",
    "densities = m.dens_obj.get_densities(WLEN,8.0,2.0)\n",
    "init_incidence = np.zeros(WLEN)\n",
    "init_incidence[:] = 1.0\n",
    "\n",
    "\n",
    "%timeit model_func(8.0, 2.0, 1000.0, RenewalState(init_incidence, 1000.0))"
   ]
  },
  {
   "cell_type": "code",
   "execution_count": 105,
   "metadata": {},
   "outputs": [
    {
     "name": "stdout",
     "output_type": "stream",
     "text": [
      "133 µs ± 9.65 µs per loop (mean ± std. dev. of 7 runs, 10,000 loops each)\n"
     ]
    }
   ],
   "source": [
    "%timeit model_funcrb(8.0, 2.0, 1000.0, RenewalState(init_incidence, 1000.0))"
   ]
  },
  {
   "cell_type": "code",
   "execution_count": 106,
   "metadata": {},
   "outputs": [
    {
     "name": "stdout",
     "output_type": "stream",
     "text": [
      "136 µs ± 1.8 µs per loop (mean ± std. dev. of 7 runs, 10,000 loops each)\n"
     ]
    }
   ],
   "source": [
    "%timeit model_func(8.0, 2.0, 1000.0, RenewalState(init_incidence, 1000.0))"
   ]
  },
  {
   "cell_type": "code",
   "execution_count": 93,
   "metadata": {},
   "outputs": [
    {
     "data": {
      "text/plain": [
       "<Axes: >"
      ]
     },
     "execution_count": 93,
     "metadata": {},
     "output_type": "execute_result"
    },
    {
     "data": {
      "image/png": "[encoded data removed]",
      "text/plain": [
       "<Figure size 640x480 with 1 Axes>"
      ]
     },
     "metadata": {},
     "output_type": "display_data"
    }
   ],
   "source": [
    "pd.Series(model_funcrb(8.0,2.0, 1000.0, RenewalState(init_incidence, 1000.0))[:,0]).plot()"
   ]
  },
  {
   "cell_type": "code",
   "execution_count": 92,
   "metadata": {},
   "outputs": [
    {
     "data": {
      "text/plain": [
       "<Axes: >"
      ]
     },
     "execution_count": 92,
     "metadata": {},
     "output_type": "execute_result"
    },
    {
     "data": {
      "image/png": "[encoded data removed]",
      "text/plain": [
       "<Figure size 640x480 with 1 Axes>"
      ]
     },
     "metadata": {},
     "output_type": "display_data"
    }
   ],
   "source": [
    "pd.Series(model_func(8.0,2.0, 1000.0, RenewalState(init_incidence, 1000.0))[:,0]).plot()"
   ]
  },
  {
   "cell_type": "code",
   "execution_count": 41,
   "metadata": {},
   "outputs": [
    {
     "name": "stdout",
     "output_type": "stream",
     "text": [
      "CPU times: total: 0 ns\n",
      "Wall time: 0 ns\n"
     ]
    },
    {
     "data": {
      "text/plain": [
       "Array([[ 0.0000e+00, -2.0000e+00,  1.0000e+00],\n",
       "       [ 1.0000e+00, -4.0000e+00, -2.0000e+00],\n",
       "       [ 2.0000e+00, -1.6000e+01, -4.0000e+00],\n",
       "       [ 3.0000e+00, -2.5600e+02, -1.6000e+01],\n",
       "       [ 4.0000e+00, -6.5536e+04, -2.5600e+02]], dtype=float32)"
      ]
     },
     "execution_count": 41,
     "metadata": {},
     "output_type": "execute_result"
    }
   ],
   "source": [
    "%%time\n",
    "do_scan(-1.0)"
   ]
  },
  {
   "cell_type": "code",
   "execution_count": 24,
   "metadata": {},
   "outputs": [
    {
     "data": {
      "text/plain": [
       "Array([[0.0000e+00, 2.0000e+00, 1.0000e+00],\n",
       "       [1.0000e+00, 4.0000e+00, 2.0000e+00],\n",
       "       [2.0000e+00, 1.6000e+01, 4.0000e+00],\n",
       "       [3.0000e+00, 2.5600e+02, 1.6000e+01],\n",
       "       [4.0000e+00, 6.5536e+04, 2.5600e+02]], dtype=float32)"
      ]
     },
     "execution_count": 24,
     "metadata": {},
     "output_type": "execute_result"
    }
   ],
   "source": [
    "outputs "
   ]
  },
  {
   "cell_type": "code",
   "execution_count": null,
   "metadata": {},
   "outputs": [],
   "source": []
  }
 ],
 "metadata": {
  "kernelspec": {
   "display_name": "py310",
   "language": "python",
   "name": "python3"
  },
  "language_info": {
   "codemirror_mode": {
    "name": "ipython",
    "version": 3
   },
   "file_extension": ".py",
   "mimetype": "text/x-python",
   "name": "python",
   "nbconvert_exporter": "python",
   "pygments_lexer": "ipython3",
   "version": "3.10.13"
  }
 },
 "nbformat": 4,
 "nbformat_minor": 2
}
