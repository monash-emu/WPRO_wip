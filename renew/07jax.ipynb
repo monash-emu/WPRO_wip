{
 "cells": [
  {
   "cell_type": "code",
   "execution_count": null,
   "metadata": {},
   "outputs": [],
   "source": [
    "from jax.scipy.stats import gamma\n",
    "from jax import jit\n",
    "from jax import numpy as jnp\n",
    "from IPython.display import Markdown\n",
    "import numpy as np\n",
    "import pandas as pd\n",
    "pd.options.plotting.backend = 'plotly'\n",
    "\n",
    "import summer2\n",
    "\n",
    "from emu_renewal.renew import RenewalModel, JaxModel"
   ]
  },
  {
   "cell_type": "code",
   "execution_count": null,
   "metadata": {},
   "outputs": [],
   "source": [
    "# Parameter values that previously worked for fitting to the example Malaysia data\n",
    "gen_time_mean = 8.974486528334516\n",
    "gen_time_sd = 5.444942511395974\n",
    "proc_vals = np.array([0.11303378, -0.75406457, -0.04278638, -0.08685292, 0.34915623, 0.41983523, 0.27799167, 0.47966875, 0.18586957, 0.3891201, 0.22046122, 0.02434282])\n",
    "seed_peak = 13892.00570877276"
   ]
  },
  {
   "cell_type": "code",
   "execution_count": null,
   "metadata": {},
   "outputs": [],
   "source": [
    "class JaxGammaDens():\n",
    "    def get_params(self, mean, sd):\n",
    "        scale = (sd * sd) / mean\n",
    "        a = mean / scale\n",
    "        return {'a': a, 'scale': scale}\n",
    "    \n",
    "    def get_densities(self, window_len, mean, sd):\n",
    "        return jnp.diff(gamma.cdf(jnp.arange(window_len + 1), **self.get_params(mean, sd)))\n",
    "    \n",
    "    def get_description(self):\n",
    "        '''Get the description of this code.\n",
    "\n",
    "        Returns:\n",
    "            The description in markdown format\n",
    "        '''\n",
    "        return '\\n\\n### Generation times\\n' \\\n",
    "            'Generation times for each day are calculated by ' \\\n",
    "            'first finding the parameters needed to construct ' \\\n",
    "            'a gamma distribution with mean and standard deviation ' \\\n",
    "            'equal to those specified by the submitted parameter values. ' \\\n",
    "            'The integrals of the probability density of this distribution ' \\\n",
    "            'between consecutive integer values are then calculated for ' \\\n",
    "            'later combination with the incidence time series. '"
   ]
  },
  {
   "cell_type": "code",
   "execution_count": null,
   "metadata": {},
   "outputs": [],
   "source": [
    "dist = JaxGammaDens()\n",
    "j = JaxModel(33e6, 50, 276, 30, 12, dist)\n",
    "\n",
    "# @jit\n",
    "def get_inc_result(gen_mean, gen_sd, proc, seed):\n",
    "    return j.model_func(gen_mean, gen_sd, proc, jnp.log(seed))"
   ]
  },
  {
   "cell_type": "code",
   "execution_count": null,
   "metadata": {},
   "outputs": [],
   "source": [
    "# Markdown(j.get_description())"
   ]
  },
  {
   "cell_type": "code",
   "execution_count": null,
   "metadata": {},
   "outputs": [],
   "source": [
    "results_jax = get_inc_result(gen_time_mean, gen_time_sd, proc_vals, seed_peak)"
   ]
  },
  {
   "cell_type": "code",
   "execution_count": null,
   "metadata": {},
   "outputs": [],
   "source": [
    "incidence_jax = results_jax.incidence"
   ]
  },
  {
   "cell_type": "code",
   "execution_count": null,
   "metadata": {},
   "outputs": [],
   "source": [
    "m = RenewalModel(33e6, 276, 30, 12)\n",
    "incidence_orig = m.func(gen_time_mean, gen_time_sd, proc_vals, np.log(seed_peak)).incidence\n",
    "pd.DataFrame(\n",
    "    {\n",
    "        'original': incidence_orig,\n",
    "        'jax': incidence_jax,\n",
    "    }\n",
    ").plot()"
   ]
  }
 ],
 "metadata": {
  "kernelspec": {
   "display_name": "Python 3 (ipykernel)",
   "language": "python",
   "name": "python3"
  },
  "language_info": {
   "codemirror_mode": {
    "name": "ipython",
    "version": 3
   },
   "file_extension": ".py",
   "mimetype": "text/x-python",
   "name": "python",
   "nbconvert_exporter": "python",
   "pygments_lexer": "ipython3",
   "version": "3.10.11"
  }
 },
 "nbformat": 4,
 "nbformat_minor": 4
}
