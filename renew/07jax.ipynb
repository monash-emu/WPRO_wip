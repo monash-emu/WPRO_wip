{
 "cells": [
  {
   "cell_type": "code",
   "execution_count": null,
   "metadata": {},
   "outputs": [],
   "source": [
    "from jax import lax, jit, numpy as jnp\n",
    "from jax.scipy.stats import gamma\n",
    "from jax import numpy as jnp, vmap, grad\n",
    "from IPython.display import Markdown\n",
    "import numpy as np\n",
    "import pandas as pd\n",
    "pd.options.plotting.backend = 'plotly'\n",
    "\n",
    "import summer2\n",
    "\n",
    "from emu_renewal.renew import RenewalModel\n",
    "from emu_renewal.process import cosine_multicurve, sinterp\n",
    "from typing import NamedTuple"
   ]
  },
  {
   "cell_type": "code",
   "execution_count": null,
   "metadata": {},
   "outputs": [],
   "source": [
    "# Parameter values that previously worked for fitting to the example Malaysia data\n",
    "gen_time_mean = 8.974486528334516\n",
    "gen_time_sd = 5.444942511395974\n",
    "proc_vals = np.array([0.11303378, -0.75406457, -0.04278638, -0.08685292, 0.34915623, 0.41983523, 0.27799167, 0.47966875, 0.18586957, 0.3891201, 0.22046122, 0.02434282])\n",
    "seed_peak = 13892.00570877276"
   ]
  },
  {
   "cell_type": "code",
   "execution_count": null,
   "metadata": {},
   "outputs": [],
   "source": [
    "class JaxGammaDens():\n",
    "    def get_params(self, mean, sd):\n",
    "        scale = (sd * sd) / mean\n",
    "        a = mean / scale\n",
    "        return {'a': a, 'scale': scale}\n",
    "    \n",
    "    def get_densities(self, window_len, mean, sd):\n",
    "        return jnp.diff(gamma.cdf(jnp.arange(window_len + 1), **self.get_params(mean, sd)))\n",
    "    \n",
    "    def get_description(self):\n",
    "        '''Get the description of this code.\n",
    "\n",
    "        Returns:\n",
    "            The description in markdown format\n",
    "        '''\n",
    "        return '\\n\\n### Generation times\\n' \\\n",
    "            'Generation times for each day are calculated by ' \\\n",
    "            'first finding the parameters needed to construct ' \\\n",
    "            'a gamma distribution with mean and standard deviation ' \\\n",
    "            'equal to those specified by the submitted parameter values. ' \\\n",
    "            'The integrals of the probability density of this distribution ' \\\n",
    "            'between consecutive integer values are then calculated for ' \\\n",
    "            'later combination with the incidence time series. '"
   ]
  },
  {
   "cell_type": "code",
   "execution_count": null,
   "metadata": {},
   "outputs": [],
   "source": [
    "class RenewalState(NamedTuple):\n",
    "    incidence: jnp.array\n",
    "    suscept: float\n",
    "\n",
    "class JaxModel:\n",
    "    def __init__(self, population, window_len, n_times, run_in, n_process_periods, dens_obj):\n",
    "        self.pop = population\n",
    "        self.n_times = n_times\n",
    "        self.run_in = run_in\n",
    "        self.n_process_periods = n_process_periods\n",
    "        self.window_len = window_len\n",
    "        self.x_proc_vals = sinterp.get_scale_data(jnp.linspace(0.0, self.n_times, self.n_process_periods))\n",
    "        self.dens_obj = dens_obj\n",
    "        self.model_times = jnp.arange(self.n_times)\n",
    "        self.seed_x_vals = [0.0, round(self.run_in * 0.5), self.run_in]\n",
    "\n",
    "    def seed_func(self, t, seed):\n",
    "        x_vals = sinterp.get_scale_data(jnp.array(self.seed_x_vals))\n",
    "        y_vals = sinterp.get_scale_data(jnp.array([0.0, jnp.exp(seed), 0.0]))\n",
    "        return cosine_multicurve(t, x_vals, y_vals)\n",
    "    \n",
    "    def model_func(self, gen_time_mean, gen_time_sd, process_req, seed):\n",
    "        densities = self.dens_obj.get_densities(self.window_len, gen_time_mean, gen_time_sd)\n",
    "\n",
    "        y_proc_vals = sinterp.get_scale_data(process_req)\n",
    "        process_vals = jnp.exp(vmap(cosine_multicurve, in_axes=(0, None, None))(self.model_times, self.x_proc_vals, y_proc_vals))\n",
    "\n",
    "        init_state = RenewalState(np.zeros(self.window_len), self.pop)\n",
    "        \n",
    "        def state_update(state: RenewalState, t) -> tuple[RenewalState, jnp.array]:\n",
    "            r_t = process_vals[t] * state.suscept / self.pop\n",
    "            renewal = (densities * state.incidence).sum() * r_t\n",
    "            seed_component = self.seed_func(t, seed)\n",
    "            total_new_incidence = renewal + seed_component\n",
    "            total_new_incidence = jnp.where(total_new_incidence > state.suscept, state.suscept, total_new_incidence)\n",
    "            suscept = state.suscept - total_new_incidence\n",
    "            incidence = jnp.zeros_like(state.incidence)\n",
    "            incidence = incidence.at[1:].set(state.incidence[:-1])\n",
    "            incidence = incidence.at[0].set(total_new_incidence)\n",
    "            return RenewalState(incidence, suscept), jnp.array([total_new_incidence, suscept])\n",
    "\n",
    "        end_state, outputs = lax.scan(state_update, init_state, self.model_times)\n",
    "\n",
    "        return outputs\n",
    "    \n",
    "    def get_description(self):\n",
    "        renew_desc = (\n",
    "            '\\n\\n### Renewal process\\n'\n",
    "            'Calculation of the renewal process '\n",
    "            'consists of multiplying the incidence values for the preceding days '\n",
    "            'by the reversed generation time distribution values. '\n",
    "            'This follows a standard formula, '\n",
    "            'described elsewhere by several groups,[@cori2013; @faria2021] i.e. '\n",
    "            '$$i_t = R_t\\sum_{\\\\tau<t} i_\\\\tau g_{t-\\\\tau}$$\\n'\n",
    "            '$R_t$ is calculated as the product of the proportion '\n",
    "            'of the population remaining susceptible '\n",
    "            'and the non-mechanistic random process '\n",
    "            'generated external to the renewal model. '\n",
    "            'The susceptible population is calculated by '\n",
    "            'subtracting the number of new incident cases from the '\n",
    "            'running total of susceptibles at each iteration.\\n'\n",
    "        )\n",
    "\n",
    "        non_mech_desc = (\n",
    "            '\\n\\n### Non-mechanistic process\\n'\n",
    "            'The time values corresponding to the submitted process values '\n",
    "            'are set to be evenly spaced throughout the simulation period. '\n",
    "            'Next, a continuous function of time was constructed from '\n",
    "            'the non-mechanistic process series values submitted to the model. '\n",
    "            'After curve fitting, the sequence of parameter values pertaining to '\n",
    "            'the non-mechanistic process are exponentiated, '\n",
    "            'such that parameter exploration for these quantities is '\n",
    "            'undertaken in the log-transformed space. '\n",
    "        )\n",
    "        \n",
    "        seed_desc = (\n",
    "            '\\n\\n### Seeding\\n'\n",
    "            'Seeding was achieved by interpolating using a cosine function. '\n",
    "            f'The number of seeded cases scaled from ? at time {self.seed_x_vals[0]} '\n",
    "        )\n",
    "        \n",
    "        return renew_desc + non_mech_desc + self.dens_obj.get_description() + seed_desc"
   ]
  },
  {
   "cell_type": "code",
   "execution_count": null,
   "metadata": {},
   "outputs": [],
   "source": [
    "dist = JaxGammaDens()\n",
    "j = JaxModel(33e6, 50, 276, 30, 12, dist)\n",
    "\n",
    "@jit\n",
    "def get_inc_result(gen_time_mean, gen_time_sd, proc_vals, seed_peak):\n",
    "    return j.model_func(gen_time_mean, gen_time_sd, proc_vals, jnp.log(seed_peak))[:, 0]"
   ]
  },
  {
   "cell_type": "code",
   "execution_count": null,
   "metadata": {},
   "outputs": [],
   "source": [
    "Markdown(j.get_description())"
   ]
  },
  {
   "cell_type": "code",
   "execution_count": null,
   "metadata": {},
   "outputs": [],
   "source": [
    "incidence_jax = get_inc_result(gen_time_mean, gen_time_sd, proc_vals, seed_peak)"
   ]
  },
  {
   "cell_type": "code",
   "execution_count": null,
   "metadata": {},
   "outputs": [],
   "source": [
    "m = RenewalModel(33e6, 276, 30, 12)\n",
    "incidence_orig = m.func(gen_time_mean, gen_time_sd, proc_vals, np.log(seed_peak)).incidence\n",
    "pd.DataFrame(\n",
    "    {\n",
    "        'original': incidence_orig,\n",
    "        'jax': incidence_jax,\n",
    "    }\n",
    ").plot()"
   ]
  }
 ],
 "metadata": {
  "kernelspec": {
   "display_name": "Python 3 (ipykernel)",
   "language": "python",
   "name": "python3"
  },
  "language_info": {
   "codemirror_mode": {
    "name": "ipython",
    "version": 3
   },
   "file_extension": ".py",
   "mimetype": "text/x-python",
   "name": "python",
   "nbconvert_exporter": "python",
   "pygments_lexer": "ipython3",
   "version": "3.10.11"
  }
 },
 "nbformat": 4,
 "nbformat_minor": 4
}
