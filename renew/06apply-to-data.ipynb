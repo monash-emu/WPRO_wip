{
 "cells": [
  {
   "cell_type": "raw",
   "id": "c25d2911-9339-408a-94bc-9ed67d1ab905",
   "metadata": {},
   "source": [
    "---\n",
    "title: \"Renewal model fitting\"\n",
    "format: \n",
    "  pdf\n",
    "execute:\n",
    "  echo: false\n",
    "jupyter: python3\n",
    "bibliography: renew.bib\n",
    "csl: https://www.zotero.org/styles/the-lancet\n",
    "---"
   ]
  },
  {
   "cell_type": "markdown",
   "id": "d316eb3c-d354-439c-ad0b-e896bb350ce8",
   "metadata": {},
   "source": [
    "## Results\n",
    "Fit models to real-world data, as shown in @fig-fit."
   ]
  },
  {
   "cell_type": "code",
   "execution_count": null,
   "id": "1a49b5a0-50c7-468d-acfa-0a9a5ea6e067",
   "metadata": {},
   "outputs": [],
   "source": [
    "import warnings\n",
    "from typing import List\n",
    "import numpy as np\n",
    "import pandas as pd\n",
    "from datetime import datetime\n",
    "import nevergrad as ng\n",
    "from IPython.display import Markdown\n",
    "from collections import namedtuple\n",
    "\n",
    "from emu_renewal.renew import RenewalModel, TruncRenewalModel\n",
    "from emu_renewal.outputs import plot_output_fit"
   ]
  },
  {
   "cell_type": "code",
   "execution_count": null,
   "id": "209cb833-ab7d-41b5-ac33-da70c5eb56d0",
   "metadata": {},
   "outputs": [],
   "source": [
    "# Data and fixed parameters\n",
    "run_in = 30\n",
    "n_process_periods = 12\n",
    "raw_data = pd.read_csv('https://github.com/monash-emu/wpro_working/raw/main/data/new_cases.csv', index_col=0)['MYS']\n",
    "raw_data.index = pd.to_datetime(raw_data.index)\n",
    "mys_data = raw_data.loc[datetime(2021, 3, 1): datetime(2021, 11, 1)].reset_index()['MYS']\n",
    "mys_data.index += run_in\n",
    "n_times = len(mys_data) + run_in\n",
    "calib_kwargs = {'pop': 33e6, 'n_times': n_times, 'run_in': run_in, 'targets': mys_data}\n",
    "fixed_param_desc = '### Fixed parameter values\\n ' \\\n",
    "    f'The target population is initialised as {str(int(calib_kwargs[\"pop\"]))} susceptible persons. ' \\\n",
    "    f'The simulation runs for a run-in period of {run_in} days before comparison against the calibration data commences.\\n'"
   ]
  },
  {
   "cell_type": "code",
   "execution_count": null,
   "id": "32799d2c-7186-47d2-81e4-1a402989961d",
   "metadata": {},
   "outputs": [],
   "source": [
    "# Define parameter ranges\n",
    "scalar_req = {\n",
    "    'Generation time mean (days)' : {'init': 5.0, 'lower': 0.1, 'upper': 14.0},\n",
    "    'Generation time standard deviation (days)': {'init': 5.0, 'lower': 2.5, 'upper': 8.0},\n",
    "    'Case detection proportion': {'init': 0.06, 'lower': 0.04, 'upper': 0.2},\n",
    "    'Log starting seed rate': {'init': np.log(1e4), 'lower': np.log(5e3), 'upper': np.log(2e4)},\n",
    "}\n",
    "params_df = pd.DataFrame(scalar_req).transpose()\n",
    "proc_req = {'init': 0.0, 'lower': -2.0, 'upper': 2.0}"
   ]
  },
  {
   "cell_type": "code",
   "execution_count": null,
   "id": "bc7458b1-8c73-4e6d-9358-b9d056276fa0",
   "metadata": {},
   "outputs": [],
   "source": [
    "#| warning: false\n",
    "calib_desc = '\\n\\n### Calibration targets\\nThe model described above was fit to the target data ' \\\n",
    "    'to minimise the square of the difference between the modelled notification rate ' \\\n",
    "    'and the reported case numbers at each date considered. ' \\\n",
    "    'Modelled notifications are calculated as the product of modelled incidence and the ' \\\n",
    "    '(constant through time) case detection proportion. '\n",
    "\n",
    "model = RenewalModel(calib_kwargs['pop'], n_times, run_in, n_process_periods)\n",
    "\n",
    "def calib_func(parameters: List[float], pop: int, n_times: int, run_in: int, targets: dict) -> float:\n",
    "    gen_time_mean, gen_time_sd, cdr, seed, *process = parameters\n",
    "    incidence = model.func(gen_time_mean, gen_time_sd, process, seed).incidence\n",
    "    return sum([(incidence[t] * cdr - d) ** 2 for t, d in targets.items()])\n",
    "\n",
    "def obj_func(gen_time_mean, gen_time_sd, cdr_param, seed, proc_params):\n",
    "    return calib_func([gen_time_mean, gen_time_sd, cdr_param, seed] + list(proc_params), **calib_kwargs)\n",
    "\n",
    "scalar_params = [ng.p.Scalar(**row).set_name(idx) for idx, row in params_df.iterrows()]\n",
    "process_params = ng.p.Array(init=[proc_req['init']] * n_process_periods, lower=proc_req['lower'], upper=proc_req['upper']).set_name('Log non-mechanistic process values')\n",
    "instrum = ng.p.Instrumentation(*scalar_params, process_params)\n",
    "optimizer = ng.optimizers.NGOpt(parametrization=instrum, budget=100)\n",
    "ngopt_result = optimizer.minimize(obj_func).value[0]"
   ]
  },
  {
   "cell_type": "code",
   "execution_count": null,
   "id": "c7f2f233-e997-48ed-b02c-1b1ffdcecc72",
   "metadata": {},
   "outputs": [],
   "source": [
    "#| label: fig-fit\n",
    "#| fig-cap: \"Optimisation to sample data from Malaysia\"\n",
    "model_result = model.func(ngopt_result[0], ngopt_result[1], ngopt_result[4], ngopt_result[3])\n",
    "fig = plot_output_fit(mys_data, model_result, n_times, cdr=ngopt_result[2])\n",
    "fig.write_image('results_fig.svg')"
   ]
  },
  {
   "cell_type": "markdown",
   "id": "f8255a61-79dc-4733-a3dc-158d54caae96",
   "metadata": {},
   "source": [
    "![Results of fitting to data from Malaysia.](results_fig.svg){#fig-fit}"
   ]
  },
  {
   "cell_type": "markdown",
   "id": "3e1778cf-dcb5-4e6d-8ebb-b6e6fff5a940",
   "metadata": {},
   "source": [
    "## Methods"
   ]
  },
  {
   "cell_type": "code",
   "execution_count": null,
   "id": "ebc01c20-73ba-4d64-aad9-88cc5aee8797",
   "metadata": {},
   "outputs": [],
   "source": [
    "Markdown(fixed_param_desc) "
   ]
  },
  {
   "cell_type": "code",
   "execution_count": null,
   "id": "219c96c5-f99c-47b7-9d8e-cb8c69d0c25a",
   "metadata": {},
   "outputs": [],
   "source": [
    "Markdown(model.get_description())"
   ]
  },
  {
   "cell_type": "code",
   "execution_count": null,
   "id": "63f54cc6-1562-4687-936d-df1135a99170",
   "metadata": {},
   "outputs": [],
   "source": [
    "Markdown(calib_desc)"
   ]
  },
  {
   "cell_type": "markdown",
   "id": "7071dd18-4faa-4540-9e1b-9dabd2508855",
   "metadata": {},
   "source": [
    "### Calibrated parameters\n",
    "The parameters used in the optimisation presented here are presented in @tbl-params."
   ]
  },
  {
   "cell_type": "code",
   "execution_count": null,
   "id": "312d0e42-5c04-4331-8b9a-83515690b097",
   "metadata": {},
   "outputs": [],
   "source": [
    "params_df.loc['Log non-mechanistic process values'] = proc_req\n",
    "params_df.columns = ['Starting point', 'Lower limit', 'Upper limit']\n",
    "Markdown(params_df.to_markdown() + '\\n : Calibration parameters table {#tbl-params}')"
   ]
  },
  {
   "cell_type": "code",
   "execution_count": null,
   "id": "82604d99-9fc1-4aa8-b785-fca60e8c2258",
   "metadata": {},
   "outputs": [],
   "source": [
    "evidence_table = pd.DataFrame(index=params_df.index, columns=['Evidence'])\n",
    "evidence_table.loc[:, 'Evidence'] = 'To be populated [@cori2013]'\n",
    "Markdown(evidence_table.to_markdown())"
   ]
  },
  {
   "cell_type": "markdown",
   "id": "d61b1dc6-ad07-4bd1-a036-70abea56a1c9",
   "metadata": {},
   "source": [
    "## References"
   ]
  }
 ],
 "metadata": {
  "kernelspec": {
   "display_name": "Python 3 (ipykernel)",
   "language": "python",
   "name": "python3"
  },
  "language_info": {
   "codemirror_mode": {
    "name": "ipython",
    "version": 3
   },
   "file_extension": ".py",
   "mimetype": "text/x-python",
   "name": "python",
   "nbconvert_exporter": "python",
   "pygments_lexer": "ipython3",
   "version": "3.10.0"
  }
 },
 "nbformat": 4,
 "nbformat_minor": 5
}
