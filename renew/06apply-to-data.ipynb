{
 "cells": [
  {
   "cell_type": "raw",
   "id": "c25d2911-9339-408a-94bc-9ed67d1ab905",
   "metadata": {},
   "source": [
    "---\n",
    "title: \"Fitting renewal model to data\"\n",
    "format: \n",
    "  pdf\n",
    "execute:\n",
    "  echo: false\n",
    "jupyter: python3\n",
    "---"
   ]
  },
  {
   "cell_type": "markdown",
   "id": "d316eb3c-d354-439c-ad0b-e896bb350ce8",
   "metadata": {},
   "source": [
    "### Attempt fitting model to empiric data\n",
    "Fit models to real-world data.\n",
    "Possible next steps:\n",
    "\n",
    "* Make the random walk actually a walk\n",
    "* Distinguish infection time from symptom onset time\n",
    "* Allow for time step other than one\n",
    "* Bayesian calibration\n",
    "* Documentation with markdown"
   ]
  },
  {
   "cell_type": "code",
   "execution_count": null,
   "id": "1a49b5a0-50c7-468d-acfa-0a9a5ea6e067",
   "metadata": {},
   "outputs": [],
   "source": [
    "import warnings\n",
    "from typing import List\n",
    "import numpy as np\n",
    "import pandas as pd\n",
    "from datetime import datetime\n",
    "import nevergrad as ng\n",
    "\n",
    "from emu_renewal.renew import renew_taper_seed\n",
    "from emu_renewal.distributions import get_gamma_densities_from_params\n",
    "from emu_renewal.process import get_spline_interp_func, get_linear_interp_func, get_piecewise_cosine\n",
    "from emu_renewal.outputs import Outputs, plot_output_fit"
   ]
  },
  {
   "cell_type": "code",
   "execution_count": null,
   "id": "d3299a2b-b443-45a8-aa27-a3c90e575b8e",
   "metadata": {},
   "outputs": [],
   "source": [
    "def model_func(gen_time_mean: float, gen_time_sd: float, process_req: List[float], pop: int, seed: int, n_times: int, run_in: int) -> tuple:\n",
    "    \"\"\"The common features of the model.\n",
    "    Get the generation time distribution from the user request,\n",
    "    generate the non-mechanistic process,\n",
    "    exponentiate the result and run the renewal process.\n",
    "    \"\"\"\n",
    "    gen_time_densities = get_gamma_densities_from_params(gen_time_mean, gen_time_sd, n_times)\n",
    "    req_x_vals = np.linspace(0.0, n_times, len(process_req))\n",
    "    func = get_piecewise_cosine(req_x_vals, process_req)\n",
    "    process_vals = func(np.array([float(t) for t in range(n_times)]))\n",
    "    process_vals_exp = np.exp(np.array(process_vals))\n",
    "    model_result = renew_taper_seed(gen_time_densities, process_vals_exp, pop, np.exp(seed), n_times, run_in)\n",
    "    return model_result, process_vals_exp\n",
    "\n",
    "def calib_func(parameters: List[float], pop: int, n_times: int, run_in: int, targets: dict) -> float:\n",
    "    \"\"\"Including the generation time parameters as parameters,\n",
    "    least squares loss function.\n",
    "    \"\"\"\n",
    "    gen_time_mean, gen_time_sd, cdr, seed, *process_req = parameters\n",
    "    incidence = model_func(gen_time_mean, gen_time_sd, process_req, pop, seed, n_times, run_in)[0][0]\n",
    "    return sum([(incidence[t] * cdr - d) ** 2 for t, d in targets.items()])"
   ]
  },
  {
   "cell_type": "code",
   "execution_count": null,
   "id": "37777223-4e4b-4b55-b6a0-122cf31a2ffa",
   "metadata": {},
   "outputs": [],
   "source": [
    "# Fixed parameters\n",
    "population = 33e6\n",
    "run_in = 30\n",
    "n_process_periods = 12"
   ]
  },
  {
   "cell_type": "code",
   "execution_count": null,
   "id": "209cb833-ab7d-41b5-ac33-da70c5eb56d0",
   "metadata": {},
   "outputs": [],
   "source": [
    "raw_data = pd.read_csv('https://github.com/monash-emu/wpro_working/raw/main/data/new_cases.csv', index_col=0)['MYS']\n",
    "raw_data.index = pd.to_datetime(raw_data.index)\n",
    "mys_data = raw_data.loc[datetime(2021, 3, 1): datetime(2021, 11, 1)].reset_index()['MYS']\n",
    "mys_data.index += run_in\n",
    "n_times = len(mys_data) + run_in"
   ]
  },
  {
   "cell_type": "code",
   "execution_count": null,
   "id": "bc7458b1-8c73-4e6d-9358-b9d056276fa0",
   "metadata": {},
   "outputs": [],
   "source": [
    "#| warning: false\n",
    "gen_time_mean_param = ng.p.Scalar(init=5.0, lower=0.1, upper=14.0)\n",
    "gen_time_sd_param = ng.p.Scalar(init=5.0, lower=2.5, upper=8.0)\n",
    "cdr_param = ng.p.Scalar(init=0.06, lower=0.04, upper=0.2)\n",
    "seed_param = ng.p.Scalar(init=np.log(1e4), lower=np.log(5e3), upper=np.log(2e4))\n",
    "process_param = ng.p.Array(init=[0.0] * n_process_periods, lower=-2.0, upper=2.0)\n",
    "instrum = ng.p.Instrumentation(gen_time_mean_param, gen_time_sd_param, cdr_param, seed_param, process_param)\n",
    "def obj_func(gen_time_mean, gen_time_sd, cdr_param, seed, parameters):\n",
    "    return calib_func([gen_time_mean, gen_time_sd, cdr_param, seed] + list(parameters), pop=population, n_times=n_times, run_in=run_in, targets=mys_data)\n",
    "optimizer = ng.optimizers.NGOpt(parametrization=instrum, budget=5000)\n",
    "ngopt_result = optimizer.minimize(obj_func).value[0]"
   ]
  },
  {
   "cell_type": "code",
   "execution_count": null,
   "id": "c7f2f233-e997-48ed-b02c-1b1ffdcecc72",
   "metadata": {},
   "outputs": [],
   "source": [
    "#| label: fit\n",
    "#| fig-cap: \"Optimisation to sample data from Malaysia\"\n",
    "ngopt_output, ngopt_process = model_func(ngopt_result[0], ngopt_result[1], ngopt_result[4], 33e6, ngopt_result[3], n_times, run_in)\n",
    "# print(f'generation time mean: {ngopt_result[0]}')\n",
    "# print(f'generation time sd: {ngopt_result[1]}')\n",
    "# print(f'cdr: {ngopt_result[2]}')\n",
    "# print(f'seed: {ngopt_result[3]}')\n",
    "# print('random process vals: ' + ', '.join([str(np.exp(i)) for i in ngopt_result[-1]]))\n",
    "plot_output_fit(mys_data, ngopt_output, ngopt_process, n_times, cdr=ngopt_result[2])"
   ]
  }
 ],
 "metadata": {
  "kernelspec": {
   "display_name": "Python 3 (ipykernel)",
   "language": "python",
   "name": "python3"
  },
  "language_info": {
   "codemirror_mode": {
    "name": "ipython",
    "version": 3
   },
   "file_extension": ".py",
   "mimetype": "text/x-python",
   "name": "python",
   "nbconvert_exporter": "python",
   "pygments_lexer": "ipython3",
   "version": "3.10.0"
  }
 },
 "nbformat": 4,
 "nbformat_minor": 5
}
