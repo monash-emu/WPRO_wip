{
 "cells": [
  {
   "cell_type": "raw",
   "id": "c25d2911-9339-408a-94bc-9ed67d1ab905",
   "metadata": {},
   "source": [
    "---\n",
    "title: \"Renewal model fitting\"\n",
    "format: \n",
    "  pdf\n",
    "execute:\n",
    "  echo: false\n",
    "jupyter: python3\n",
    "bibliography: renew.bib\n",
    "csl: https://www.zotero.org/styles/the-lancet\n",
    "---"
   ]
  },
  {
   "cell_type": "markdown",
   "id": "d316eb3c-d354-439c-ad0b-e896bb350ce8",
   "metadata": {},
   "source": [
    "## Results\n",
    "Fit models to real-world data, as shown in @fig-fit."
   ]
  },
  {
   "cell_type": "code",
   "execution_count": null,
   "id": "1a49b5a0-50c7-468d-acfa-0a9a5ea6e067",
   "metadata": {},
   "outputs": [],
   "source": [
    "import warnings\n",
    "from typing import List\n",
    "import numpy as np\n",
    "import pandas as pd\n",
    "from datetime import datetime\n",
    "import nevergrad as ng\n",
    "from IPython.display import Markdown\n",
    "from collections import namedtuple\n",
    "\n",
    "from emu_renewal.renew import renew_taper_seed\n",
    "from emu_renewal.distributions import get_gamma_densities_from_params\n",
    "from emu_renewal.process import get_spline_interp_func, get_linear_interp_func, get_piecewise_cosine\n",
    "from emu_renewal.outputs import plot_output_fit\n",
    "from emu_renewal.markdown import get_param_table_from_instrum"
   ]
  },
  {
   "cell_type": "code",
   "execution_count": null,
   "id": "3401b9e3-d1cb-4d01-95de-05dd2fee4ab3",
   "metadata": {},
   "outputs": [],
   "source": [
    "ModelResult = namedtuple('results', ['outputs', 'process', 'description'])"
   ]
  },
  {
   "cell_type": "code",
   "execution_count": null,
   "id": "d3299a2b-b443-45a8-aa27-a3c90e575b8e",
   "metadata": {},
   "outputs": [],
   "source": [
    "def model_func(gen_time_mean: float, gen_time_sd: float, process_req: List[float], pop: int, seed: int, n_times: int, run_in: int) -> tuple:\n",
    "    gen_desc = '\\n\\n### Generation times\\n' \\\n",
    "        'Generation times for each day are calculated by ' \\\n",
    "        'first finding the parameters needed to construct ' \\\n",
    "        'a gamma distribution with mean and standard deviation ' \\\n",
    "        'equal to those specified by the submitted parameter values. ' \\\n",
    "        'The integrals of the probability density of this distribution ' \\\n",
    "        'between consecutive integer values are then calculated for ' \\\n",
    "        'later combination with the incidence time series. '\n",
    "    gen_time_densities = get_gamma_densities_from_params(gen_time_mean, gen_time_sd, n_times)\n",
    "    curve_desc = '\\n\\n### Non-mechanistic process\\n' \\\n",
    "        'The sequence of parameter values pertaining to ' \\\n",
    "        \"the model's non-mechanistic process are first exponentiated, \" \\\n",
    "        'such that parameter exploration for these quantities is ' \\\n",
    "        'undertaken in the log-transformed space. ' \\\n",
    "        'Next, a continuous function of time was constructed from ' \\\n",
    "        'the non-mechanistic process series values submitted to the model. ' \\\n",
    "        'The fitting function consisted of a piecewise function ' \\\n",
    "        'constructed from a cosine function on domain zero to $\\pi$. ' \\\n",
    "        'This function was then translated and scaled vertically and horizontally ' \\\n",
    "        'such that the starting and ending points of the cosine function ' \\\n",
    "        '(at which the gradient is zero) pass through the two consecutive ' \\\n",
    "        'process values. This provides a function of time for which ' \\\n",
    "        'the gradient and all higher order gradients are continuous. ' \\\n",
    "        'The time values corresponding to the submitted process values ' \\\n",
    "        'are set to be evenly spaced throughout the simulation period. '\n",
    "    req_x_vals = np.linspace(0.0, n_times, len(process_req))\n",
    "    func = get_piecewise_cosine(req_x_vals, process_req)\n",
    "    process_vals = func(np.array([float(t) for t in range(n_times)]))\n",
    "    process_vals_exp = np.exp(np.array(process_vals))\n",
    "    renewal_output = renew_taper_seed(gen_time_densities, process_vals_exp, pop, np.exp(seed), n_times, run_in)\n",
    "    return ModelResult(renewal_output, process_vals_exp, gen_desc + curve_desc + renewal_output.description)\n",
    "\n"
   ]
  },
  {
   "cell_type": "code",
   "execution_count": null,
   "id": "37777223-4e4b-4b55-b6a0-122cf31a2ffa",
   "metadata": {},
   "outputs": [],
   "source": [
    "# Fixed parameters\n",
    "population = 33e6\n",
    "run_in = 30\n",
    "n_process_periods = 12"
   ]
  },
  {
   "cell_type": "code",
   "execution_count": null,
   "id": "5a2cc112-91bb-4878-b68f-5f4e96192d0c",
   "metadata": {},
   "outputs": [],
   "source": [
    "fixed_param_desc = '### Fixed parameter values\\n ' \\\n",
    "    f'The target population is initialised as {str(int(population))} susceptible persons. ' \\\n",
    "    f'The simulation runs for a run-in period of {run_in} days before comparison against the calibration data commences.\\n'"
   ]
  },
  {
   "cell_type": "code",
   "execution_count": null,
   "id": "209cb833-ab7d-41b5-ac33-da70c5eb56d0",
   "metadata": {},
   "outputs": [],
   "source": [
    "raw_data = pd.read_csv('https://github.com/monash-emu/wpro_working/raw/main/data/new_cases.csv', index_col=0)['MYS']\n",
    "raw_data.index = pd.to_datetime(raw_data.index)\n",
    "mys_data = raw_data.loc[datetime(2021, 3, 1): datetime(2021, 11, 1)].reset_index()['MYS']\n",
    "mys_data.index += run_in\n",
    "n_times = len(mys_data) + run_in"
   ]
  },
  {
   "cell_type": "code",
   "execution_count": null,
   "id": "bc7458b1-8c73-4e6d-9358-b9d056276fa0",
   "metadata": {},
   "outputs": [],
   "source": [
    "#| warning: false\n",
    "calib_desc = '\\n\\n### Calibration targets\\nThe model described above was fit to the target data ' \\\n",
    "    'to minimise the square of the difference between the modelled notification rate ' \\\n",
    "    'and the reported case numbers at each date considered. ' \\\n",
    "    'Modelled notifications is calculated as the product of modelled incidence and the ' \\\n",
    "    '(constant through time) case detection proportion. '\n",
    "def calib_func(parameters: List[float], pop: int, n_times: int, run_in: int, targets: dict) -> float:\n",
    "    gen_time_mean, gen_time_sd, cdr, seed, *process_req = parameters\n",
    "    incidence = model_func(gen_time_mean, gen_time_sd, process_req, pop, seed, n_times, run_in).outputs.incidence\n",
    "    return sum([(incidence[t] * cdr - d) ** 2 for t, d in targets.items()])\n",
    "\n",
    "gen_time_mean_param = ng.p.Scalar(init=5.0, lower=0.1, upper=14.0).set_name('Generation time mean (days)')\n",
    "gen_time_sd_param = ng.p.Scalar(init=5.0, lower=2.5, upper=8.0).set_name('Generation time standard deviation (days)')\n",
    "cdr_param = ng.p.Scalar(init=0.06, lower=0.04, upper=0.2).set_name('Case detection proportion')\n",
    "seed_param = ng.p.Scalar(init=np.log(1e4), lower=np.log(5e3), upper=np.log(2e4)).set_name('Log starting seed rate')\n",
    "process_param = ng.p.Array(init=[0.0] * n_process_periods, lower=-2.0, upper=2.0).set_name('Log non-mechanistic process values')\n",
    "instrum = ng.p.Instrumentation(gen_time_mean_param, gen_time_sd_param, cdr_param, seed_param, process_param)\n",
    "def obj_func(gen_time_mean, gen_time_sd, cdr_param, seed, parameters):\n",
    "    return calib_func([gen_time_mean, gen_time_sd, cdr_param, seed] + list(parameters), pop=population, n_times=n_times, run_in=run_in, targets=mys_data)\n",
    "optimizer = ng.optimizers.NGOpt(parametrization=instrum, budget=100)\n",
    "ngopt_result = optimizer.minimize(obj_func).value[0]"
   ]
  },
  {
   "cell_type": "code",
   "execution_count": null,
   "id": "c7f2f233-e997-48ed-b02c-1b1ffdcecc72",
   "metadata": {},
   "outputs": [],
   "source": [
    "#| label: fig-fit\n",
    "#| fig-cap: \"Optimisation to sample data from Malaysia\"\n",
    "model_result = model_func(ngopt_result[0], ngopt_result[1], ngopt_result[4], 33e6, ngopt_result[3], n_times, run_in)\n",
    "renewal_desc = model_result.description\n",
    "fig = plot_output_fit(mys_data, model_result.outputs, model_result.process, n_times, cdr=ngopt_result[2])\n",
    "fig.write_image('results_fig.svg')"
   ]
  },
  {
   "cell_type": "markdown",
   "id": "f8255a61-79dc-4733-a3dc-158d54caae96",
   "metadata": {},
   "source": [
    "![Results of fitting to data from Malaysia.](results_fig.svg){#fig-fit}"
   ]
  },
  {
   "cell_type": "markdown",
   "id": "3e1778cf-dcb5-4e6d-8ebb-b6e6fff5a940",
   "metadata": {},
   "source": [
    "## Methods"
   ]
  },
  {
   "cell_type": "code",
   "execution_count": null,
   "id": "ebc01c20-73ba-4d64-aad9-88cc5aee8797",
   "metadata": {},
   "outputs": [],
   "source": [
    "Markdown(fixed_param_desc)"
   ]
  },
  {
   "cell_type": "code",
   "execution_count": null,
   "id": "219c96c5-f99c-47b7-9d8e-cb8c69d0c25a",
   "metadata": {},
   "outputs": [],
   "source": [
    "Markdown(renewal_desc)"
   ]
  },
  {
   "cell_type": "code",
   "execution_count": null,
   "id": "63f54cc6-1562-4687-936d-df1135a99170",
   "metadata": {},
   "outputs": [],
   "source": [
    "Markdown(calib_desc)"
   ]
  },
  {
   "cell_type": "markdown",
   "id": "7071dd18-4faa-4540-9e1b-9dabd2508855",
   "metadata": {},
   "source": [
    "### Calibrated parameters\n",
    "The parameters used in the optimisation presented here are presented in @tbl-params."
   ]
  },
  {
   "cell_type": "code",
   "execution_count": null,
   "id": "312d0e42-5c04-4331-8b9a-83515690b097",
   "metadata": {},
   "outputs": [],
   "source": [
    "calib_params = get_param_table_from_instrum(instrum) \n",
    "Markdown(calib_params.to_markdown() + '\\n : Parameters table {#tbl-params}')"
   ]
  },
  {
   "cell_type": "code",
   "execution_count": null,
   "id": "82604d99-9fc1-4aa8-b785-fca60e8c2258",
   "metadata": {},
   "outputs": [],
   "source": [
    "evidence_table = pd.DataFrame(index=calib_params.index, columns=['Evidence'])\n",
    "evidence_table.loc[:, 'Evidence'] = 'To be populated [@cori2013]'\n",
    "Markdown(evidence_table.to_markdown())"
   ]
  },
  {
   "cell_type": "markdown",
   "id": "d61b1dc6-ad07-4bd1-a036-70abea56a1c9",
   "metadata": {},
   "source": [
    "## References"
   ]
  }
 ],
 "metadata": {
  "kernelspec": {
   "display_name": "Python 3 (ipykernel)",
   "language": "python",
   "name": "python3"
  },
  "language_info": {
   "codemirror_mode": {
    "name": "ipython",
    "version": 3
   },
   "file_extension": ".py",
   "mimetype": "text/x-python",
   "name": "python",
   "nbconvert_exporter": "python",
   "pygments_lexer": "ipython3",
   "version": "3.10.11"
  }
 },
 "nbformat": 4,
 "nbformat_minor": 5
}
