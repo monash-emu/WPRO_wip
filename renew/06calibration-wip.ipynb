{
 "cells": [
  {
   "cell_type": "raw",
   "id": "c25d2911-9339-408a-94bc-9ed67d1ab905",
   "metadata": {},
   "source": [
    "---\n",
    "title: \"Renewal model fitting\"\n",
    "format: \n",
    "  pdf\n",
    "execute:\n",
    "  echo: false\n",
    "jupyter: python3\n",
    "bibliography: renew.bib\n",
    "csl: https://www.zotero.org/styles/the-lancet\n",
    "---"
   ]
  },
  {
   "cell_type": "markdown",
   "id": "d316eb3c-d354-439c-ad0b-e896bb350ce8",
   "metadata": {},
   "source": [
    "## Results\n",
    "Fit models to real-world data, as shown in @fig-fit."
   ]
  },
  {
   "cell_type": "code",
   "execution_count": null,
   "id": "1a49b5a0-50c7-468d-acfa-0a9a5ea6e067",
   "metadata": {},
   "outputs": [],
   "source": [
    "import warnings\n",
    "from typing import List\n",
    "import numpy as np\n",
    "import pandas as pd\n",
    "from datetime import datetime\n",
    "import nevergrad as ng\n",
    "from IPython.display import Markdown\n",
    "from collections import namedtuple\n",
    "\n",
    "from emu_renewal.renew import RenewalModel, TruncRenewalModel\n",
    "from emu_renewal.outputs import plot_output_fit"
   ]
  },
  {
   "cell_type": "code",
   "execution_count": null,
   "id": "209cb833-ab7d-41b5-ac33-da70c5eb56d0",
   "metadata": {},
   "outputs": [],
   "source": [
    "# Data and fixed parameters\n",
    "run_in = 30\n",
    "n_process_periods = 12\n",
    "raw_data = pd.read_csv('https://github.com/monash-emu/wpro_working/raw/main/data/new_cases.csv', index_col=0)['MYS']\n",
    "raw_data.index = pd.to_datetime(raw_data.index)\n",
    "mys_data = raw_data.loc[datetime(2021, 3, 1): datetime(2021, 11, 1)].reset_index()['MYS']\n",
    "mys_data.index += run_in\n",
    "n_times = len(mys_data) + run_in\n",
    "calib_kwargs = {'pop': 33e6, 'n_times': n_times, 'run_in': run_in, 'targets': mys_data}\n",
    "fixed_param_desc = '### Fixed parameter values\\n ' \\\n",
    "    f'The target population is initialised as {str(int(calib_kwargs[\"pop\"]))} susceptible persons. ' \\\n",
    "    f'The simulation runs for a run-in period of {run_in} days before comparison against the calibration data commences.\\n'"
   ]
  },
  {
   "cell_type": "code",
   "execution_count": null,
   "id": "32799d2c-7186-47d2-81e4-1a402989961d",
   "metadata": {},
   "outputs": [],
   "source": [
    "# Define parameter ranges\n",
    "scalar_req = {\n",
    "    'Generation time mean (days)' : {'init': 5.0, 'lower': 0.1, 'upper': 14.0},\n",
    "    'Generation time standard deviation (days)': {'init': 5.0, 'lower': 2.5, 'upper': 8.0},\n",
    "    'Case detection proportion': {'init': 0.06, 'lower': 0.04, 'upper': 0.2},\n",
    "    'Log starting seed rate': {'init': np.log(1e4), 'lower': np.log(5e3), 'upper': np.log(2e4)},\n",
    "}\n",
    "params_df = pd.DataFrame(scalar_req).transpose()\n",
    "proc_req = {'init': 0.0, 'lower': -2.0, 'upper': 2.0}"
   ]
  },
  {
   "cell_type": "code",
   "execution_count": null,
   "id": "5fad6c70-d230-457d-ac10-9126ef0929b8",
   "metadata": {},
   "outputs": [],
   "source": [
    "# Get the renewal model object - choosing between standard and with truncated generation times\n",
    "model = RenewalModel(calib_kwargs['pop'], n_times, run_in, n_process_periods)\n",
    "\n",
    "# long_gen_densities = model.dens_obj.get_densities(\n",
    "#     100, \n",
    "#     scalar_req['Generation time mean (days)']['upper'], \n",
    "#     scalar_req['Generation time standard deviation (days)']['upper'],\n",
    "# )\n",
    "# gen_times_end = np.argmax(long_gen_densities.cumsum() > 0.999)\n",
    "# model = TruncRenewalModel(calib_kwargs['pop'], n_times, run_in, n_process_periods, gen_times_end)"
   ]
  },
  {
   "cell_type": "code",
   "execution_count": null,
   "id": "bc7458b1-8c73-4e6d-9358-b9d056276fa0",
   "metadata": {},
   "outputs": [],
   "source": [
    "#| warning: false\n",
    "calib_desc = '\\n\\n### Calibration targets\\nThe model described above was fit to the target data ' \\\n",
    "    'to minimise the square of the difference between the modelled notification rate ' \\\n",
    "    'and the reported case numbers at each date considered. ' \\\n",
    "    'Modelled notifications are calculated as the product of modelled incidence and the ' \\\n",
    "    '(constant through time) case detection proportion. '\n",
    "\n",
    "\n",
    "def calib_func(parameters: List[float], pop: int, n_times: int, run_in: int, targets: dict) -> float:\n",
    "    gen_time_mean, gen_time_sd, cdr, seed, *process = parameters\n",
    "    incidence = model.func(gen_time_mean, gen_time_sd, process, seed).incidence\n",
    "    return sum([(incidence[t] * cdr - d) ** 2 for t, d in targets.items()])\n",
    "\n",
    "def obj_func(gen_time_mean, gen_time_sd, cdr_param, seed, proc_params):\n",
    "    return calib_func([gen_time_mean, gen_time_sd, cdr_param, seed] + list(proc_params), **calib_kwargs)\n",
    "\n",
    "scalar_params = [ng.p.Scalar(**row).set_name(idx) for idx, row in params_df.iterrows()]\n",
    "process_params = ng.p.Array(init=[proc_req['init']] * n_process_periods, lower=proc_req['lower'], upper=proc_req['upper']).set_name('Log non-mechanistic process values')\n",
    "instrum = ng.p.Instrumentation(*scalar_params, process_params)\n",
    "optimizer = ng.optimizers.NGOpt(parametrization=instrum, budget=100)\n",
    "ngopt_result = optimizer.minimize(obj_func).value[0]"
   ]
  },
  {
   "cell_type": "code",
   "execution_count": null,
   "id": "dc989a63",
   "metadata": {},
   "outputs": [],
   "source": [
    "# Pseudo loglikelihood functions\n",
    "\n",
    "def calib_func_ll(parameters: List[float], pop: int, n_times: int, run_in: int, targets: dict) -> float:\n",
    "    gen_time_mean, gen_time_sd, cdr, seed, *process = parameters\n",
    "    incidence = model.func(gen_time_mean, gen_time_sd, process, seed).incidence\n",
    "    return 0.0 - sum([(incidence[t] * cdr - d) ** 2 for t, d in targets.items()])\n",
    "\n",
    "# This is what we'll actually call from pymc\n",
    "def obj_func_ll(gen_time_mean, gen_time_sd, cdr_param, seed, proc_params):\n",
    "    return calib_func_ll([gen_time_mean, gen_time_sd, cdr_param, seed] + list(proc_params), **calib_kwargs)\n"
   ]
  },
  {
   "cell_type": "code",
   "execution_count": null,
   "id": "12c2edaf",
   "metadata": {},
   "outputs": [],
   "source": [
    "from estival import priors as esp"
   ]
  },
  {
   "cell_type": "code",
   "execution_count": null,
   "id": "99586311",
   "metadata": {},
   "outputs": [],
   "source": [
    "priors = [esp.UniformPrior(k, (v[\"lower\"], v[\"upper\"])) for k,v in params_df.iterrows()]\n",
    "priors.append(esp.UniformPrior('Log non-mechanistic process values', (proc_req[\"lower\"],proc_req[\"upper\"]), size=n_process_periods))"
   ]
  },
  {
   "cell_type": "code",
   "execution_count": null,
   "id": "ed693fbc",
   "metadata": {},
   "outputs": [],
   "source": [
    "import pymc as pm\n",
    "import pytensor.tensor as pt\n",
    "\n",
    "def get_wrapped_ll(priors, llfunc):\n",
    "    \"\"\"_summary_\n",
    "\n",
    "    Args:\n",
    "        bcm: The model to wrap\n",
    "\n",
    "    Returns:\n",
    "        A wrapped pytensor op for use in pymc\n",
    "    \"\"\"\n",
    "\n",
    "    prior_types = []\n",
    "    for prior in priors:\n",
    "        if prior.size > 1:\n",
    "            prior_types.append(pt.dvector)\n",
    "        else:\n",
    "            prior_types.append(pt.dscalar)\n",
    "\n",
    "    # define a pytensor Op for our likelihood function\n",
    "    class CustomLogLike(pt.Op):\n",
    "        \"\"\"\n",
    "        Specify what type of object will be passed and returned to the Op when it is\n",
    "        called. In our case we will be passing it a vector of values (the parameters\n",
    "        that define our model) and returning a single \"scalar\" value (the\n",
    "        log-likelihood)\n",
    "        \"\"\"\n",
    "\n",
    "        itypes = prior_types\n",
    "\n",
    "        # [pt.dscalar] * len(\n",
    "        #    bcm.priors\n",
    "        # )  # [pt.dvector]  # expects a vector of parameter values when called\n",
    "        otypes = [pt.dscalar]  # outputs a single scalar value (the log likelihood)\n",
    "\n",
    "        def __init__(self):\n",
    "            \"\"\"\n",
    "            Initialise the Op with various things that our log-likelihood function\n",
    "            requires. Below are the things that are needed in this particular\n",
    "            example.\n",
    "\n",
    "            Parameters\n",
    "            ----------\n",
    "            bcm: BayesianCompartmentalModel\n",
    "            \"\"\"\n",
    "\n",
    "            # Capture the BayesianCompartmentalModel\n",
    "            self.llfunc = llfunc\n",
    "\n",
    "        def perform(self, node, inputs, outputs):\n",
    "            params = inputs\n",
    "            #kwargs = {k: params[i] for i, k in enumerate(self.bcm.priors)}\n",
    "\n",
    "            # call the log-likelihood function\n",
    "            logl = self.llfunc(*params)\n",
    "\n",
    "            outputs[0][0] = np.array(logl)  # output the log-likelihood\n",
    "\n",
    "    return CustomLogLike\n",
    "\n",
    "\n",
    "def use_model(priors, llfunc) -> list:\n",
    "    \"\"\"Use a given BayesianCompartmentalModel for pymc sampling\n",
    "    This should be called inside a model context like so\n",
    "\n",
    "    with pm.Model():\n",
    "        variables = use_model(bcm)\n",
    "        pm.sample(step=[pm.DEMetropolis(variables)])\n",
    "\n",
    "    Args:\n",
    "        bcm: The BCM to use for sampling\n",
    "        include_ll: Include loglikelihood in the sample outputs\n",
    "\n",
    "    Returns:\n",
    "        The list of variables to be passed to a sampler step\n",
    "    \"\"\"\n",
    "    logl = get_wrapped_ll(priors, llfunc)()\n",
    "\n",
    "    pymc_priors = [p.to_pymc() for p in priors]\n",
    "    invars = [pt.as_tensor_variable(v) for v in pymc_priors]\n",
    "\n",
    "    # use a Potential to \"call\" the Op and include it in the logp computation\n",
    "    ll = logl(*invars)\n",
    "    pot = pm.Potential(\"loglikelihood\", ll)\n",
    "\n",
    "    return pymc_priors\n",
    "\n"
   ]
  },
  {
   "cell_type": "code",
   "execution_count": null,
   "id": "9407b92e",
   "metadata": {},
   "outputs": [],
   "source": [
    "with pm.Model() as pmm:\n",
    "    variables = use_model(priors, obj_func_ll)\n",
    "    idata = pm.sample(step=[pm.DEMetropolisZ(variables)])\n"
   ]
  },
  {
   "cell_type": "code",
   "execution_count": null,
   "id": "67cd8267",
   "metadata": {},
   "outputs": [],
   "source": [
    "import arviz as az"
   ]
  },
  {
   "cell_type": "code",
   "execution_count": null,
   "id": "013580ae",
   "metadata": {},
   "outputs": [],
   "source": [
    "az.summary(idata)"
   ]
  },
  {
   "cell_type": "code",
   "execution_count": null,
   "id": "8e294388",
   "metadata": {},
   "outputs": [],
   "source": [
    "mean_posterior_params = mpp = np.array(az.summary(idata)[\"mean\"])"
   ]
  },
  {
   "cell_type": "code",
   "execution_count": null,
   "id": "85898c36",
   "metadata": {},
   "outputs": [],
   "source": [
    "incidence = model.func(mpp[0], mpp[1], mpp[4:], mpp[3]).incidence * mpp[2]"
   ]
  },
  {
   "cell_type": "code",
   "execution_count": null,
   "id": "a25ec189",
   "metadata": {},
   "outputs": [],
   "source": [
    "pd.Series(incidence).plot()\n",
    "calib_kwargs[\"targets\"].plot()"
   ]
  },
  {
   "cell_type": "code",
   "execution_count": null,
   "id": "c7f2f233-e997-48ed-b02c-1b1ffdcecc72",
   "metadata": {},
   "outputs": [],
   "source": [
    "#| label: fig-fit\n",
    "#| fig-cap: \"Optimisation to sample data from Malaysia\"\n",
    "model_result = model.func(ngopt_result[0], ngopt_result[1], ngopt_result[4], ngopt_result[3])\n",
    "fig = plot_output_fit(mys_data, model_result, n_times, cdr=ngopt_result[2])\n",
    "fig.write_image('results_fig.svg')"
   ]
  },
  {
   "cell_type": "markdown",
   "id": "f8255a61-79dc-4733-a3dc-158d54caae96",
   "metadata": {},
   "source": [
    "![Results of fitting to data from Malaysia.](results_fig.svg){#fig-fit}"
   ]
  },
  {
   "cell_type": "markdown",
   "id": "3e1778cf-dcb5-4e6d-8ebb-b6e6fff5a940",
   "metadata": {},
   "source": [
    "## Methods"
   ]
  },
  {
   "cell_type": "code",
   "execution_count": null,
   "id": "ebc01c20-73ba-4d64-aad9-88cc5aee8797",
   "metadata": {},
   "outputs": [],
   "source": [
    "Markdown(fixed_param_desc) "
   ]
  },
  {
   "cell_type": "code",
   "execution_count": null,
   "id": "219c96c5-f99c-47b7-9d8e-cb8c69d0c25a",
   "metadata": {},
   "outputs": [],
   "source": [
    "Markdown(model.get_description())"
   ]
  },
  {
   "cell_type": "code",
   "execution_count": null,
   "id": "63f54cc6-1562-4687-936d-df1135a99170",
   "metadata": {},
   "outputs": [],
   "source": [
    "Markdown(calib_desc)"
   ]
  },
  {
   "cell_type": "markdown",
   "id": "7071dd18-4faa-4540-9e1b-9dabd2508855",
   "metadata": {},
   "source": [
    "### Calibrated parameters\n",
    "The parameters used in the optimisation presented here are presented in @tbl-params."
   ]
  },
  {
   "cell_type": "code",
   "execution_count": null,
   "id": "312d0e42-5c04-4331-8b9a-83515690b097",
   "metadata": {},
   "outputs": [],
   "source": [
    "params_df.loc['Log non-mechanistic process values'] = proc_req\n",
    "params_df.columns = ['Starting point', 'Lower limit', 'Upper limit']\n",
    "Markdown(params_df.to_markdown() + '\\n : Calibration parameters table {#tbl-params}')"
   ]
  },
  {
   "cell_type": "code",
   "execution_count": null,
   "id": "82604d99-9fc1-4aa8-b785-fca60e8c2258",
   "metadata": {},
   "outputs": [],
   "source": [
    "evidence_table = pd.DataFrame(index=params_df.index, columns=['Evidence'])\n",
    "evidence_table.loc[:, 'Evidence'] = 'To be populated [@cori2013]'\n",
    "Markdown(evidence_table.to_markdown())"
   ]
  },
  {
   "cell_type": "markdown",
   "id": "d61b1dc6-ad07-4bd1-a036-70abea56a1c9",
   "metadata": {},
   "source": [
    "## References"
   ]
  }
 ],
 "metadata": {
  "kernelspec": {
   "display_name": "Python 3 (ipykernel)",
   "language": "python",
   "name": "python3"
  },
  "language_info": {
   "codemirror_mode": {
    "name": "ipython",
    "version": 3
   },
   "file_extension": ".py",
   "mimetype": "text/x-python",
   "name": "python",
   "nbconvert_exporter": "python",
   "pygments_lexer": "ipython3",
   "version": "3.10.10"
  }
 },
 "nbformat": 4,
 "nbformat_minor": 5
}
