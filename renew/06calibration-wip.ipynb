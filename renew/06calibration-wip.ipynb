{
 "cells": [
  {
   "cell_type": "code",
   "execution_count": null,
   "id": "1a49b5a0-50c7-468d-acfa-0a9a5ea6e067",
   "metadata": {},
   "outputs": [],
   "source": [
    "from typing import List\n",
    "import numpy as np\n",
    "import pandas as pd\n",
    "pd.options.plotting.backend = 'plotly'\n",
    "from datetime import datetime\n",
    "from estival import priors as esp\n",
    "import pymc as pm\n",
    "import arviz as az\n",
    "\n",
    "from emu_renewal.renew import RenewalModel, TruncRenewalModel\n",
    "from emu_renewal.calibrate import get_wrapped_ll, use_model"
   ]
  },
  {
   "cell_type": "code",
   "execution_count": null,
   "id": "209cb833-ab7d-41b5-ac33-da70c5eb56d0",
   "metadata": {},
   "outputs": [],
   "source": [
    "run_in = 30\n",
    "n_process_periods = 12\n",
    "raw_data = pd.read_csv('https://github.com/monash-emu/wpro_working/raw/main/data/new_cases.csv', index_col=0)['MYS']\n",
    "raw_data.index = pd.to_datetime(raw_data.index)\n",
    "mys_data = raw_data.loc[datetime(2021, 3, 1): datetime(2021, 11, 1)].reset_index()['MYS']\n",
    "mys_data.index += run_in\n",
    "n_times = len(mys_data) + run_in\n",
    "calib_kwargs = {'pop': 33e6, 'n_times': n_times, 'run_in': run_in, 'targets': mys_data}"
   ]
  },
  {
   "cell_type": "code",
   "execution_count": null,
   "id": "32799d2c-7186-47d2-81e4-1a402989961d",
   "metadata": {},
   "outputs": [],
   "source": [
    "# Define parameter ranges\n",
    "scalar_req = {\n",
    "    'Generation time mean (days)' : {'init': 5.0, 'lower': 0.1, 'upper': 14.0},\n",
    "    'Generation time standard deviation (days)': {'init': 5.0, 'lower': 2.5, 'upper': 8.0},\n",
    "    'Case detection proportion': {'init': 0.06, 'lower': 0.04, 'upper': 0.2},\n",
    "    'Log starting seed rate': {'init': np.log(1e4), 'lower': np.log(5e3), 'upper': np.log(2e4)},\n",
    "}\n",
    "params_df = pd.DataFrame(scalar_req).transpose()\n",
    "proc_req = {'init': 0.0, 'lower': -2.0, 'upper': 2.0}"
   ]
  },
  {
   "cell_type": "code",
   "execution_count": null,
   "id": "dc989a63",
   "metadata": {},
   "outputs": [],
   "source": [
    "def get_obj_func(model):\n",
    "    def calib_func_ll(parameters: List[float], pop: int, n_times: int, run_in: int, targets: dict) -> float:\n",
    "        gen_time_mean, gen_time_sd, cdr, seed, *process = parameters\n",
    "        incidence = model.func(gen_time_mean, gen_time_sd, process, seed).incidence\n",
    "        return 0.0 - sum([(incidence[t] * cdr - d) ** 2 for t, d in targets.items()])\n",
    "\n",
    "    def obj_func_ll(gen_time_mean, gen_time_sd, cdr_param, seed, proc_params):\n",
    "        return calib_func_ll([gen_time_mean, gen_time_sd, cdr_param, seed] + list(proc_params), **calib_kwargs)\n",
    "\n",
    "    return obj_func_ll"
   ]
  },
  {
   "cell_type": "code",
   "execution_count": null,
   "id": "9407b92e",
   "metadata": {},
   "outputs": [],
   "source": [
    "priors = [esp.UniformPrior(k, (v['lower'], v['upper'])) for k, v in params_df.iterrows()]\n",
    "priors.append(esp.UniformPrior('Log non-mechanistic process values', (proc_req['lower'], proc_req['upper']), size=n_process_periods))\n",
    "renewal_model = RenewalModel(calib_kwargs['pop'], n_times, run_in, n_process_periods)\n",
    "obj_func = get_obj_func(renewal_model)\n",
    "n_draws = 100\n",
    "\n",
    "with pm.Model() as pmm:\n",
    "    variables = use_model(priors, obj_func)\n",
    "    idata = pm.sample(step=[pm.DEMetropolisZ(variables)], draws=n_draws)"
   ]
  },
  {
   "cell_type": "code",
   "execution_count": null,
   "id": "013580ae",
   "metadata": {},
   "outputs": [],
   "source": [
    "az.summary(idata)"
   ]
  },
  {
   "cell_type": "code",
   "execution_count": null,
   "id": "8e294388",
   "metadata": {},
   "outputs": [],
   "source": [
    "mean_posterior_params = mpp = np.array(az.summary(idata)['mean'])"
   ]
  },
  {
   "cell_type": "code",
   "execution_count": null,
   "id": "85898c36",
   "metadata": {},
   "outputs": [],
   "source": [
    "incidence = renewal_model.func(mpp[0], mpp[1], mpp[4:], mpp[3]).incidence * mpp[2]"
   ]
  },
  {
   "cell_type": "code",
   "execution_count": null,
   "id": "2d0a0891-9c69-466c-a869-f5fbade3a4f5",
   "metadata": {},
   "outputs": [],
   "source": [
    "import random\n",
    "\n",
    "burn_in = 10\n",
    "n_samples = 10\n",
    "idata_df = idata.to_dataframe()\n",
    "idata_df = idata_df.loc[idata_df.index >= burn_in]\n",
    "sampled_draws = sorted(random.sample(range(burn_in, n_draws), n_samples))\n",
    "sampled_df = idata_df[[i in sampled_draws for i in idata_df['draw']]]\n",
    "\n",
    "spaghetti = pd.DataFrame()\n",
    "for _, row in sampled_df.iterrows():\n",
    "    proc = [row[6]] + list(row[9: 18]) + list(row[7: 9])\n",
    "    incidence = renewal_model.func(row[2], row[3], proc, row[5]).incidence * row[4]\n",
    "    spaghetti[_] = incidence"
   ]
  },
  {
   "cell_type": "code",
   "execution_count": null,
   "id": "70ab40ed-8da4-4464-bb7b-64058bf063f1",
   "metadata": {},
   "outputs": [],
   "source": [
    "spaghetti['targets'] = calib_kwargs['targets']"
   ]
  },
  {
   "cell_type": "code",
   "execution_count": null,
   "id": "60b3e304-71ad-4d18-a55d-10ff65beebbe",
   "metadata": {},
   "outputs": [],
   "source": [
    "spaghetti.plot()"
   ]
  }
 ],
 "metadata": {
  "kernelspec": {
   "display_name": "Python 3 (ipykernel)",
   "language": "python",
   "name": "python3"
  },
  "language_info": {
   "codemirror_mode": {
    "name": "ipython",
    "version": 3
   },
   "file_extension": ".py",
   "mimetype": "text/x-python",
   "name": "python",
   "nbconvert_exporter": "python",
   "pygments_lexer": "ipython3",
   "version": "3.10.0"
  }
 },
 "nbformat": 4,
 "nbformat_minor": 5
}
