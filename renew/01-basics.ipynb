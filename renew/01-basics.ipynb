{
 "cells": [
  {
   "cell_type": "markdown",
   "id": "d316eb3c-d354-439c-ad0b-e896bb350ce8",
   "metadata": {},
   "source": [
    "## Semi-mechanistic modelling introduction\n",
    "\n",
    "### Rationale\n",
    "Thinking about this equation in Faria, et al:\n",
    "$\\\\i_{s,t} = (1-\\frac{n_{s,t}}{N})R_{s,t}\\sum_{\\tau<t} i_{s,\\tau}g_{t-\\tau}$\n",
    "\n",
    "This is a standard \"semi-mechanistic\" or \"renewal\" modelling approach,\n",
    "in that the population is not explicitly partitioned into categories or compartments.\n",
    "It is divided in this way for our standard compartmental models,\n",
    "including both standard SEIR `summer` models, \n",
    "as well as Romain's semi-mechanistic models,\n",
    "which are compartmental with an additional non-mechanistic random walk \n",
    "flow adjustment.\n",
    "\n",
    "First, ignoring strains, we'll consider:\n",
    "\n",
    "$i_t = (1-\\frac{n_t}{N})R_t\\sum_{\\tau<t} i_{\\tau}g_{t-\\tau}$\n",
    "\n",
    "This is essentially the same as the equation provided by [Cori, et al.](https://academic.oup.com/aje/article/178/9/1505/89262?login=true):\n",
    "\n",
    "$\\mathbf{E}[I_t] = R_t\\sum_{s=1}^t I_{t-s}w_s$\n",
    "\n",
    "For now, we'll also ignore susceptible depletion and a varying reproduction number, and so consider:\n",
    "\n",
    "$i_t = R_0\\sum_{\\tau<t} i_\\tau g_{t-\\tau}$\n",
    "\n",
    "This notebook builds up this basic approach from the first principles."
   ]
  },
  {
   "cell_type": "code",
   "execution_count": null,
   "id": "1a49b5a0-50c7-468d-acfa-0a9a5ea6e067",
   "metadata": {},
   "outputs": [],
   "source": [
    "from scipy.stats import gamma\n",
    "import numpy as np\n",
    "import pandas as pd\n",
    "pd.options.plotting.backend = \"plotly\"\n",
    "\n",
    "from emu_renewal.distributions import GammaDens"
   ]
  },
  {
   "cell_type": "markdown",
   "id": "057a8d10-fc2f-4851-855d-19a0f72c8013",
   "metadata": {
    "tags": []
   },
   "source": [
    "### Parameters\n",
    "Choose some arbitrary model parameters to get started."
   ]
  },
  {
   "cell_type": "code",
   "execution_count": null,
   "id": "37777223-4e4b-4b55-b6a0-122cf31a2ffa",
   "metadata": {},
   "outputs": [],
   "source": [
    "n_times = 20\n",
    "seed = 1.0\n",
    "r0 = 2.0\n",
    "incidence = np.zeros(n_times)\n",
    "incidence[0] = seed"
   ]
  },
  {
   "cell_type": "markdown",
   "id": "e3136042-a7b8-4887-9a3e-9f87525f4e22",
   "metadata": {},
   "source": [
    "### Generation time\n",
    "Get a distribution we can sensibly use for the generation time,\n",
    "which could represent an acute immunising respiratory infection."
   ]
  },
  {
   "cell_type": "code",
   "execution_count": null,
   "id": "1a343bc7-c944-45a2-a089-839a5699ae66",
   "metadata": {},
   "outputs": [],
   "source": [
    "# Generation time summary statistics\n",
    "gen_mean = 5.0\n",
    "gen_sd = 1.5\n",
    "\n",
    "# Calculate equivalent parameters\n",
    "var = gen_sd ** 2.0\n",
    "scale = var / gen_mean\n",
    "a = gen_mean / scale\n",
    "gamma_params = {\"a\": a, \"scale\": scale}\n",
    "\n",
    "# Get the increment in the CDF\n",
    "# (i.e. the integral over the increment by one in the distribution)\n",
    "gen_time_densities = np.diff(gamma.cdf(range(n_times + 1), **gamma_params))\n",
    "\n",
    "pd.Series(gen_time_densities, index=range(n_times)).plot(labels={\"index\": \"time\", \"value\": \"density\"}).update_layout(showlegend=False)"
   ]
  },
  {
   "cell_type": "markdown",
   "id": "3bf8f7a5-d9a4-4724-9d67-bcc079f9a7c3",
   "metadata": {},
   "source": [
    "### Check calculations make sense from first principles\n",
    "Looping in native Python with pre-calculated generation times\n",
    "to be completely explicit (but slow).\n",
    "Note that the delay is specified as `t - tau - 1` because\n",
    "delay then starts from zero each time,\n",
    "which then indexes the first element of the generation time densities.\n",
    "As shown in the previous cell,\n",
    "the `gen_time_densities` is the integral of the probability\n",
    "density over each one-unit interval of the gamma distribution."
   ]
  },
  {
   "cell_type": "code",
   "execution_count": null,
   "id": "9953951d-c3e6-4b7e-a34c-0ba04c5878b7",
   "metadata": {},
   "outputs": [],
   "source": [
    "for t in range(1, n_times):\n",
    "    val = 0\n",
    "    for tau in range(t):  # For each day preceding the day of interest\n",
    "        delay = t - tau - 1  # The generation time index for each preceding day to the day of interest\n",
    "        val += incidence[tau] * gen_time_densities[delay] * r0  # Calculate the incidence value\n",
    "    incidence[t] = val\n",
    "incidence"
   ]
  },
  {
   "cell_type": "markdown",
   "id": "79049f42-ea25-4774-b241-c50b36606aa7",
   "metadata": {},
   "source": [
    "Get rid of one loop to get lists/arrays for the incidence and generation time distribution \n",
    "(and check that calculations are the same)."
   ]
  },
  {
   "cell_type": "code",
   "execution_count": null,
   "id": "5c5d2fe8-96fb-4534-b185-7c02bbdb7ffb",
   "metadata": {},
   "outputs": [],
   "source": [
    "for t in range(1, n_times):\n",
    "    delays = [t - tau - 1 for tau in range(t)]\n",
    "    gammas = gen_time_densities[delays]\n",
    "    incidence[t] = (incidence[:t] * gammas).sum() * r0\n",
    "incidence"
   ]
  },
  {
   "cell_type": "markdown",
   "id": "d417c5c5-b6c5-4e68-9552-87a76fe24af7",
   "metadata": {},
   "source": [
    "We can get this down to a one-liner if preferred.\n",
    "The epidemic is going to just keep going up exponentially, of course, \n",
    "because $R_{0} > 1$ and there is no susceptible depletion."
   ]
  },
  {
   "cell_type": "code",
   "execution_count": null,
   "id": "04a5bc8b-65f9-4375-ac92-f639be572dff",
   "metadata": {},
   "outputs": [],
   "source": [
    "for t in range(1, n_times):\n",
    "    incidence[t] = (incidence[:t] * gen_time_densities[:t][::-1]).sum() * r0\n",
    "incidence\n",
    "pd.Series(incidence).plot(labels={\"index\": \"day\", \"value\": \"incidence\"})"
   ]
  },
  {
   "cell_type": "markdown",
   "id": "c78e9349-423b-4b43-9fc0-b4d2ab5c17ad",
   "metadata": {},
   "source": [
    "Already some interesting phenomena are emerging, \n",
    "in that the humps are the generations of cases from the first seeding infection,\n",
    "which progressively smooth into one-another with generations of cases.\n",
    "\n",
    "### Threshold behaviour\n",
    "Next let's check that the threshold behaviour is approximately correct.\n",
    "We would expect a declining epidemic with $R_{0} < 1$ (even without\n",
    "susceptible depletion implemented yet)."
   ]
  },
  {
   "cell_type": "code",
   "execution_count": null,
   "id": "5b94e876-43cf-4b03-9ce3-9be6ee78e7d7",
   "metadata": {},
   "outputs": [],
   "source": [
    "r0 = 0.8\n",
    "for t in range(1, n_times):\n",
    "    incidence[t] = (incidence[:t] * gen_time_densities[:t][::-1]).sum() * r0\n",
    "pd.Series(incidence).plot(labels={\"index\": \"day\", \"value\": \"incidence\"})"
   ]
  },
  {
   "cell_type": "markdown",
   "id": "602ebe28-6f31-4cec-9b20-00b0ccda3b2d",
   "metadata": {},
   "source": [
    "## Susceptible depletion\n",
    "We'll now start to think about susceptible depletion.\n",
    "\n",
    "Again, from this equation in Faria, et al:\n",
    "$\\\\i_{s,t} = (1-\\frac{n_{s,t}}{N})R_{s,t}\\sum_{\\tau<t} i_{s,\\tau}g_{t-\\tau}$\n",
    "\n",
    "And again reducing the complexity of this by ignoring strains,\n",
    "we'll now consider the equation with susceptible depletion included:\n",
    "$\\\\i_t = (1-\\frac{n_t}{N})R_t\\sum_{\\tau<t} i_{\\tau}g_{t-\\tau}$"
   ]
  },
  {
   "cell_type": "markdown",
   "id": "bbf33bb7-0bd2-449e-94d5-d3224f2b25e2",
   "metadata": {
    "tags": []
   },
   "source": [
    "### Parameters\n",
    "Set model parameters, now including the population size.\n",
    "Also get the generation times as described previously\n",
    "(parameter calculation code now packaged away).\n",
    "We'll need a higher reproduction number to deplete \n",
    "the susceptible population within the time window we have."
   ]
  },
  {
   "cell_type": "code",
   "execution_count": null,
   "id": "f3d0a794-9bec-4d23-8048-e5f11b95e09a",
   "metadata": {},
   "outputs": [],
   "source": [
    "r0 = 6.0\n",
    "pop = 100.0\n",
    "incidence = np.zeros(n_times)\n",
    "incidence[0] = seed\n",
    "\n",
    "gen_time_densities = GammaDens().get_densities(n_times, gen_mean, gen_sd)"
   ]
  },
  {
   "cell_type": "markdown",
   "id": "185af3de-c1d3-4d16-809d-ac4bee39d3ce",
   "metadata": {},
   "source": [
    "### Model run\n",
    "Run the model with susceptible depletion,\n",
    "decrementing the susceptible population by the incidence at each step.\n",
    "We'll also zero out any negative values for the susceptibles\n",
    "that could occur if the time step is too large.\n",
    "For reasonable parameter values, these typically seem to be very small."
   ]
  },
  {
   "cell_type": "code",
   "execution_count": null,
   "id": "e5577fa8-63a1-4e85-87af-e4c42395f41c",
   "metadata": {},
   "outputs": [],
   "source": [
    "suscept = pop - seed\n",
    "for t in range(1, n_times):\n",
    "    suscept_prop = suscept / pop\n",
    "    infect_contribution_by_day = incidence[:t] * gen_time_densities[:t][::-1] * r0\n",
    "    this_inc = infect_contribution_by_day.sum() * suscept_prop\n",
    "    incidence[t] = this_inc\n",
    "    suscept = max(suscept - this_inc, 0.0)\n",
    "pd.Series(incidence).plot(labels={\"index\": \"day\", \"value\": \"incidence\"})"
   ]
  },
  {
   "cell_type": "markdown",
   "id": "a9473b77-1027-42c2-9bce-5761bd853b36",
   "metadata": {},
   "source": [
    "Now with susceptible depletion, we have an epi-curve that goes up in the initial phase with $R_0 > 1$,\n",
    "but comes back down as susceptibles are depleted and so $R_t$ falls below one."
   ]
  },
  {
   "cell_type": "markdown",
   "id": "da7b370b-6c02-48d0-b119-567708ebd27a",
   "metadata": {},
   "source": [
    "## Susceptible depletion and varying $R_{0}$\n",
    "Building on the previous cells,\n",
    "we'll now look at varying the reproduction number with time,\n",
    "because inferring the variation in this quantity is what\n",
    "I'd like to achieve from these models.\n",
    "\n",
    "As previously, the equation we're considering will be:\n",
    "$\\\\i_t = (1-\\frac{n_t}{N})R_t\\sum_{\\tau<t} i_{\\tau}g_{t-\\tau}$\n",
    "However, now the $R_{t}$ value is determined both\n",
    "by the proportion of the population remaining susceptible\n",
    "and an external \"random\" process.\n",
    "At this stage, the process will be arbitrary values,\n",
    "and there are several functions that could be used \n",
    "at this stage (including a random walk and an \n",
    "autoregressive process)."
   ]
  },
  {
   "cell_type": "markdown",
   "id": "b856f060-997e-4f7f-9a22-07292c39a39f",
   "metadata": {
    "tags": []
   },
   "source": [
    "### Parameters\n",
    "Set model parameters, now including the population size.\n",
    "Also get the generation times as previously."
   ]
  },
  {
   "cell_type": "code",
   "execution_count": null,
   "id": "378703df-a9d0-4a0b-8c7f-e1eb1e010ec1",
   "metadata": {},
   "outputs": [],
   "source": [
    "incidence = np.zeros(n_times)\n",
    "incidence[0] = seed\n",
    "\n",
    "gen_time_densities = GammaDens().get_densities(n_times, gen_mean, gen_sd)"
   ]
  },
  {
   "cell_type": "markdown",
   "id": "757e792f-6b84-436e-b437-80cb0c167379",
   "metadata": {},
   "source": [
    "### Model run\n",
    "Run the model with susceptible depletion,\n",
    "and a variable intrinsic reproduction number.\n",
    "Now we can manipulate the shape of the epicurve a little more."
   ]
  },
  {
   "cell_type": "code",
   "execution_count": null,
   "id": "59b8c531-a05b-4199-9c53-e6da4b437937",
   "metadata": {},
   "outputs": [],
   "source": [
    "process_req = [2.0, 1.2, 2.4, 1.8]\n",
    "process_times = np.linspace(0.0, n_times, len(process_req))\n",
    "process_vals = np.interp(range(n_times), process_times, process_req)\n",
    "suscept = pop - seed\n",
    "for t in range(1, n_times):\n",
    "    suscept_prop = suscept / pop\n",
    "    infect_contribution_by_day = incidence[:t] * gen_time_densities[:t][::-1] * r0\n",
    "    this_inc = infect_contribution_by_day.sum() * suscept_prop * process_vals[t]\n",
    "    incidence[t] = this_inc\n",
    "    suscept = max(suscept - this_inc, 0.0)\n",
    "pd.Series(incidence).plot(labels={\"index\": \"day\", \"value\": \"incidence\"})"
   ]
  },
  {
   "cell_type": "markdown",
   "id": "4c0a48c9-980d-494d-93a0-b4ac12ed0a0c",
   "metadata": {},
   "source": [
    "Alternatively, we may wish to use the log process values\n",
    "rather than the straight linear parameters,\n",
    "but we can get the same result back this way."
   ]
  },
  {
   "cell_type": "code",
   "execution_count": null,
   "id": "9d531e6c-21b3-4c9e-b52f-514756f43716",
   "metadata": {},
   "outputs": [],
   "source": [
    "process_times = np.linspace(0.0, n_times, len(process_req))\n",
    "process_vals = np.interp(range(n_times), process_times, process_req)\n",
    "suscept = pop - seed\n",
    "for t in range(1, n_times):\n",
    "    suscept_prop = suscept / pop\n",
    "    infect_contribution_by_day = incidence[:t] * gen_time_densities[:t][::-1] * r0\n",
    "    this_inc = infect_contribution_by_day.sum() * suscept_prop * np.exp(process_vals[t])\n",
    "    incidence[t] = this_inc\n",
    "    suscept = max(suscept - this_inc, 0.0)\n",
    "pd.Series(incidence).plot(labels={\"index\": \"day\", \"value\": \"incidence\"})"
   ]
  }
 ],
 "metadata": {
  "kernelspec": {
   "display_name": "Python 3 (ipykernel)",
   "language": "python",
   "name": "python3"
  },
  "language_info": {
   "codemirror_mode": {
    "name": "ipython",
    "version": 3
   },
   "file_extension": ".py",
   "mimetype": "text/x-python",
   "name": "python",
   "nbconvert_exporter": "python",
   "pygments_lexer": "ipython3",
   "version": "3.10.13"
  }
 },
 "nbformat": 4,
 "nbformat_minor": 5
}
