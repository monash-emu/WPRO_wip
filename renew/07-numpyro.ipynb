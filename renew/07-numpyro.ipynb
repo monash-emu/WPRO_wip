{
 "cells": [
  {
   "cell_type": "raw",
   "metadata": {},
   "source": [
    "---\n",
    "title: \"Renewal model fitting\"\n",
    "format: \n",
    "  pdf\n",
    "execute:\n",
    "  echo: false\n",
    "jupyter: python3\n",
    "bibliography: renew.bib\n",
    "csl: https://www.zotero.org/styles/the-lancet\n",
    "---"
   ]
  },
  {
   "cell_type": "code",
   "execution_count": null,
   "metadata": {},
   "outputs": [],
   "source": [
    "#| warning: false\n",
    "from jax import jit, random, vmap\n",
    "from jax import numpy as jnp\n",
    "import numpy as np\n",
    "import pandas as pd\n",
    "from datetime import datetime\n",
    "import numpyro\n",
    "from numpyro import distributions as dist\n",
    "import arviz as az\n",
    "from plotly.subplots import make_subplots\n",
    "import plotly.graph_objects as go\n",
    "from IPython.display import Markdown\n",
    "pd.options.plotting.backend = \"plotly\"\n",
    "\n",
    "from estival.sampling import tools as esamp\n",
    "import summer2\n",
    "\n",
    "from emu_renewal.process import sinterp, cosine_multicurve\n",
    "from emu_renewal.distributions import JaxGammaDens\n",
    "from emu_renewal.renew import JaxModel"
   ]
  },
  {
   "cell_type": "code",
   "execution_count": null,
   "metadata": {},
   "outputs": [],
   "source": [
    "renew_model = JaxModel(33e6, 276, 30, 12, JaxGammaDens(), 50)\n",
    "\n",
    "def get_inc_result(renewal_model, gen_mean, gen_sd, proc, seed, cdr):\n",
    "    return renew_model.func(gen_mean, gen_sd, proc, seed).incidence[run_in:] * cdr\n",
    "\n",
    "renewal_wrap = jit(get_inc_result, static_argnames=[\"renewal_model\"])"
   ]
  },
  {
   "cell_type": "code",
   "execution_count": null,
   "metadata": {},
   "outputs": [],
   "source": [
    "run_in = 30\n",
    "n_process_periods = 12\n",
    "raw_data = pd.read_csv(\"https://github.com/monash-emu/wpro_working/raw/main/data/new_cases.csv\", index_col=0)[\"MYS\"]\n",
    "raw_data.index = pd.to_datetime(raw_data.index)\n",
    "mys_data = raw_data.loc[datetime(2021, 3, 1): datetime(2021, 11, 1)].reset_index()[\"MYS\"]\n",
    "mys_data.index += run_in\n",
    "n_times = len(mys_data) + run_in\n",
    "calib_kwargs = {\"pop\": 33e6, \"n_times\": n_times, \"run_in\": run_in, \"targets\": mys_data}\n",
    "fixed_param_desc = \"### Fixed parameter values\\n \" \\\n",
    "    f\"The target population is initialised as {str(int(calib_kwargs[\"pop\"]))} susceptible persons. \" \\\n",
    "    f\"The simulation runs for a run-in period of {run_in} days before comparison against the calibration data commences.\\n\""
   ]
  },
  {
   "cell_type": "code",
   "execution_count": null,
   "metadata": {},
   "outputs": [],
   "source": [
    "# Define parameter ranges\n",
    "scalar_req = {\n",
    "    \"gen_mean\": {\"name\": \"Generation time mean (days)\", \"lower\": 5.0, \"upper\": 12.0},\n",
    "    \"gen_sd\": {\"name\": \"Generation time standard deviation (days)\", \"lower\": 2.0, \"upper\": 7.0},\n",
    "    \"cdr\": {\"name\": \"Case detection proportion\", \"lower\": 0.05, \"upper\": 0.4},\n",
    "    \"seed\": {\"name\": \"Peak seed rate\", \"lower\": 5.0, \"upper\": 15.0},\n",
    "}\n",
    "params_df = pd.DataFrame(scalar_req).transpose()\n",
    "proc_req = {\"name\": \"Random process values\", \"lower\": -2.0, \"upper\": 2.0}\n",
    "\n",
    "priors = {}\n",
    "for k, v in scalar_req.items():\n",
    "    priors[k] = dist.Uniform(v[\"lower\"], v[\"upper\"])\n",
    "priors[\"proc\"] = dist.Uniform(np.repeat(proc_req[\"lower\"], n_process_periods), np.repeat(proc_req[\"upper\"], n_process_periods))"
   ]
  },
  {
   "cell_type": "code",
   "execution_count": null,
   "metadata": {},
   "outputs": [],
   "source": [
    "calib_desc = \"\\n\\n### Calibration targets\\nThe model described above was fit to the target data \" \\\n",
    "    \"to minimise the density of the observed number of cases at each available data point \" \\\n",
    "    \"from a normal distribution centred at the modelled notification rate. \" \\\n",
    "    \"Modelled notifications are calculated as the product of modelled incidence and the \" \\\n",
    "    \"(constant through time) case detection proportion. \"\n",
    "\n",
    "def calib_model():\n",
    "    param_updates = {k: numpyro.sample(k, v) for k, v in priors.items()}\n",
    "    model_res = renewal_wrap(**param_updates, renewal_model=renew_model)\n",
    "    like = dist.Normal(model_res, jnp.std(jnp.array(mys_data)) * 0.1).log_prob(jnp.array(mys_data)).sum()\n",
    "    numpyro.factor(\"incidence\", like)"
   ]
  },
  {
   "cell_type": "code",
   "execution_count": null,
   "metadata": {},
   "outputs": [],
   "source": [
    "Markdown(calib_desc)"
   ]
  },
  {
   "cell_type": "code",
   "execution_count": null,
   "metadata": {},
   "outputs": [],
   "source": [
    "kernel = numpyro.infer.NUTS(calib_model, dense_mass=True)\n",
    "mcmc = numpyro.infer.MCMC(kernel, num_chains=2, num_samples=1000, num_warmup=1000)\n",
    "rng_key = random.PRNGKey(1)\n",
    "mcmc.run(rng_key, extra_fields=(\"accept_prob\",))"
   ]
  },
  {
   "cell_type": "code",
   "execution_count": null,
   "metadata": {},
   "outputs": [],
   "source": [
    "idata = az.from_numpyro(mcmc)"
   ]
  },
  {
   "cell_type": "code",
   "execution_count": null,
   "metadata": {},
   "outputs": [],
   "source": [
    "burn_in = 10\n",
    "n_samples = 10\n",
    "idata_burnt = idata.sel(draw=slice(burn_in, None))\n",
    "idata_sampled = az.extract(idata_burnt, num_samples=n_samples)\n",
    "sample_params = esamp.xarray_to_sampleiterator(idata_sampled)"
   ]
  },
  {
   "cell_type": "code",
   "execution_count": null,
   "metadata": {},
   "outputs": [],
   "source": [
    "spaghetti = pd.DataFrame()\n",
    "for i, p in enumerate(sample_params):\n",
    "    incidence = get_inc_result(renew_model, **p)\n",
    "    spaghetti[i] = incidence\n",
    "spaghetti.columns = sample_params.index.to_flat_index().map(str)\n",
    "spaghetti.index += run_in\n",
    "spaghetti[\"targets\"] = mys_data"
   ]
  },
  {
   "cell_type": "code",
   "execution_count": null,
   "metadata": {},
   "outputs": [],
   "source": [
    "times = np.array(renew_model.model_times)\n",
    "proc_df = pd.DataFrame()\n",
    "for k, v in sample_params.iterrows():\n",
    "    y_vals = sinterp.get_scale_data(np.array(v[\"proc\"]))\n",
    "    model_vals = np.exp(vmap(cosine_multicurve, in_axes=(0, None, None))(times, renew_model.x_proc_vals, y_vals))\n",
    "    proc_df[str(k)] = model_vals"
   ]
  },
  {
   "cell_type": "code",
   "execution_count": null,
   "metadata": {},
   "outputs": [],
   "source": [
    "Markdown(fixed_param_desc) "
   ]
  },
  {
   "cell_type": "code",
   "execution_count": null,
   "metadata": {},
   "outputs": [],
   "source": [
    "Markdown(calib_desc)"
   ]
  },
  {
   "cell_type": "code",
   "execution_count": null,
   "metadata": {},
   "outputs": [],
   "source": [
    "fig = make_subplots(rows=2, cols=1, shared_xaxes=True, vertical_spacing=0.05)\n",
    "fig.update_layout(margin={m: 20 for m in [\"t\", \"b\", \"l\", \"r\"]}, height=600)\n",
    "fig.add_traces(spaghetti.plot().data, rows=1, cols=1)\n",
    "fig.add_traces(proc_df.plot().data, rows=2, cols=1)"
   ]
  },
  {
   "cell_type": "code",
   "execution_count": null,
   "metadata": {},
   "outputs": [],
   "source": [
    "#| label: fig-calib\n",
    "#| fig-cap: \"Calibration to sample data from Malaysia\"\n",
    "fig.write_image(\"calib_fig.svg\")"
   ]
  },
  {
   "cell_type": "code",
   "execution_count": null,
   "metadata": {},
   "outputs": [],
   "source": [
    "Markdown(renew_model.get_full_desc())"
   ]
  },
  {
   "cell_type": "code",
   "execution_count": null,
   "metadata": {},
   "outputs": [],
   "source": [
    "params_df.loc[\"proc\", :] = proc_req\n",
    "params_df.columns = [\"name\", \"Lower limit\", \"Upper limit\"]\n",
    "params_df.index = params_df[\"name\"]\n",
    "params_df = params_df.drop(columns=[\"name\"])\n",
    "params_df.index.name = None"
   ]
  },
  {
   "cell_type": "code",
   "execution_count": null,
   "metadata": {},
   "outputs": [],
   "source": [
    "Markdown(params_df.to_markdown())"
   ]
  },
  {
   "cell_type": "code",
   "execution_count": null,
   "metadata": {},
   "outputs": [],
   "source": [
    "evidence_table = pd.DataFrame(index=params_df.index, columns=[\"Evidence\"])\n",
    "evidence_table.loc[:, \"Evidence\"] = \"To be populated [@cori2013]\"\n",
    "Markdown(evidence_table.to_markdown())"
   ]
  }
 ],
 "metadata": {
  "kernelspec": {
   "display_name": "Python 3 (ipykernel)",
   "language": "python",
   "name": "python3"
  },
  "language_info": {
   "codemirror_mode": {
    "name": "ipython",
    "version": 3
   },
   "file_extension": ".py",
   "mimetype": "text/x-python",
   "name": "python",
   "nbconvert_exporter": "python",
   "pygments_lexer": "ipython3",
   "version": "3.10.13"
  }
 },
 "nbformat": 4,
 "nbformat_minor": 4
}
