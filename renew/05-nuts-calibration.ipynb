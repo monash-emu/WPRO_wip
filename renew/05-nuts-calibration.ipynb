{
 "cells": [
  {
   "cell_type": "raw",
   "metadata": {},
   "source": [
    "---\n",
    "title: \"Renewal model fitting\"\n",
    "format: \n",
    "  pdf\n",
    "execute:\n",
    "  echo: false\n",
    "jupyter: python3\n",
    "bibliography: renew.bib\n",
    "csl: https://www.zotero.org/styles/the-lancet\n",
    "---"
   ]
  },
  {
   "cell_type": "code",
   "execution_count": null,
   "metadata": {},
   "outputs": [],
   "source": [
    "#| warning: false\n",
    "from jax import jit, random\n",
    "from jax import numpy as jnp\n",
    "import numpy as np\n",
    "import pandas as pd\n",
    "from datetime import datetime, timedelta\n",
    "import numpyro\n",
    "from numpyro import distributions as dist\n",
    "import arviz as az\n",
    "from plotly.subplots import make_subplots\n",
    "import plotly.graph_objects as go\n",
    "from IPython.display import Markdown\n",
    "pd.options.plotting.backend = \"plotly\"\n",
    "from plotly.express.colors import qualitative as qual_colours\n",
    "\n",
    "from estival.sampling import tools as esamp\n",
    "from summer2.utils import Epoch\n",
    "\n",
    "from emu_renewal.process import sinterp\n",
    "from emu_renewal.distributions import JaxGammaDens\n",
    "from emu_renewal.renew import JaxModel\n",
    "from emu_renewal.outputs import get_quantiles_from_spaghetti, plot_spaghetti, plot_uncertainty_patches, PANEL_SUBTITLES\n",
    "from emu_renewal.utils import format_date_for_str"
   ]
  },
  {
   "cell_type": "code",
   "execution_count": null,
   "metadata": {},
   "outputs": [],
   "source": [
    "# Specify fixed parameters and get calibration data\n",
    "run_in = 30\n",
    "proc_update_freq = 7\n",
    "mys_data = pd.read_csv(\"https://github.com/monash-emu/wpro_working/raw/main/data/new_cases.csv\", index_col=0)[\"MYS\"]\n",
    "mys_data.index = pd.to_datetime(mys_data.index)\n",
    "pop = 33e6\n",
    "data_start = datetime(2021, 3, 1)\n",
    "data_end = datetime(2021, 11, 1)\n",
    "select_data = mys_data.loc[data_start: data_end]\n",
    "analysis_start = data_start - timedelta(days=run_in)\n",
    "analysis_end = data_end\n",
    "epoch = Epoch(datetime(2019, 12, 31))\n",
    "fixed_param_desc = (\n",
    "    \"### Fixed parameter values\\n \" \n",
    "    f\"The target population is initialised as {str(int(pop))} susceptible persons. \" \n",
    "    f\"The simulation runs from the {format_date_for_str(analysis_start)} \"\n",
    "    f\"to the {format_date_for_str(analysis_end)}. \"\n",
    "    f\"with a run-in period of {run_in} days before \"\n",
    "    \"comparison against the calibration data commences.\\n\"\n",
    ")"
   ]
  },
  {
   "cell_type": "code",
   "execution_count": null,
   "metadata": {},
   "outputs": [],
   "source": [
    "renew_model = JaxModel(33e6, analysis_start, analysis_end, run_in, proc_update_freq, JaxGammaDens(), 50, epoch, run_in)\n",
    "\n",
    "def get_inc_result(gen_mean, gen_sd, proc, seed, cdr):\n",
    "    return renew_model.func(gen_mean, gen_sd, proc, seed).incidence[run_in:] * cdr\n",
    "\n",
    "renewal_wrap = jit(get_inc_result)"
   ]
  },
  {
   "cell_type": "code",
   "execution_count": null,
   "metadata": {},
   "outputs": [],
   "source": [
    "# Define parameter ranges\n",
    "params_dict = {\n",
    "    \"gen_mean\": {\"name\": \"Generation time mean (days)\", \"lower\": 5.0, \"upper\": 12.0},\n",
    "    \"gen_sd\": {\"name\": \"Generation time standard deviation (days)\", \"lower\": 2.0, \"upper\": 7.0},\n",
    "    \"cdr\": {\"name\": \"Case detection proportion\", \"lower\": 0.05, \"upper\": 0.4},\n",
    "    \"seed\": {\"name\": \"Peak seed rate\", \"lower\": 5.0, \"upper\": 15.0},\n",
    "}\n",
    "params_df = pd.DataFrame(params_dict).transpose()"
   ]
  },
  {
   "cell_type": "code",
   "execution_count": null,
   "metadata": {},
   "outputs": [],
   "source": [
    "calib_desc = (\n",
    "    \"\\n\\n### Calibration targets\\nThe model described above was fit to the target data \"\n",
    "    \"to minimise the density of the observed number of cases at each available data point \"\n",
    "    \"from a normal distribution centred at the modelled notification rate. \"\n",
    "    \"Modelled notifications are calculated as the product of modelled incidence and the \"\n",
    "    \"(constant through time) case detection proportion. \"\n",
    ")\n",
    "\n",
    "def calib_model():\n",
    "    param_updates = {k: numpyro.sample(k, dist.Uniform(v[\"lower\"], v[\"upper\"])) for k, v in params_dict.items()}\n",
    "    proc_dispersion = numpyro.sample(\"proc_dispersion\", dist.HalfNormal(1.0))\n",
    "    n_process_periods = len(renew_model.x_proc_data.points)\n",
    "    proc_dist = dist.Normal(jnp.repeat(0.0, n_process_periods), proc_dispersion)\n",
    "    param_updates[\"proc\"] = numpyro.sample(\"proc\", proc_dist)\n",
    "    logmodel_res = jnp.log(renewal_wrap(**param_updates))\n",
    "    logtarget = jnp.log(jnp.array(select_data))\n",
    "    dispersion = numpyro.sample(\"dispersion\", dist.Uniform(jnp.log(1.0), jnp.log(1.5)))\n",
    "    like = dist.Normal(logmodel_res, dispersion).log_prob(logtarget).sum()\n",
    "    numpyro.factor(\"notifications_ll\", like)"
   ]
  },
  {
   "cell_type": "code",
   "execution_count": null,
   "metadata": {},
   "outputs": [],
   "source": [
    "kernel = numpyro.infer.NUTS(calib_model, dense_mass=True)\n",
    "mcmc = numpyro.infer.MCMC(kernel, num_chains=2, num_samples=1000, num_warmup=1000)\n",
    "rng_key = random.PRNGKey(1)\n",
    "mcmc.run(rng_key, extra_fields=(\"accept_prob\",))"
   ]
  },
  {
   "cell_type": "code",
   "execution_count": null,
   "metadata": {},
   "outputs": [],
   "source": [
    "idata = az.from_numpyro(mcmc)"
   ]
  },
  {
   "cell_type": "code",
   "execution_count": null,
   "metadata": {},
   "outputs": [],
   "source": [
    "burn_in = 10\n",
    "n_samples = 100\n",
    "quantiles = [0.05, 0.5, 0.95]\n",
    "idata_burnt = idata.sel(draw=slice(burn_in, None))\n",
    "idata_sampled = az.extract(idata_burnt, num_samples=n_samples)\n",
    "sample_params = esamp.xarray_to_sampleiterator(idata_sampled)"
   ]
  },
  {
   "cell_type": "code",
   "execution_count": null,
   "metadata": {},
   "outputs": [],
   "source": [
    "def get_full_result(gen_mean, gen_sd, proc, seed, cdr):\n",
    "    return renew_model.func(gen_mean, gen_sd, proc, seed)\n",
    "\n",
    "full_wrap = jit(get_full_result)"
   ]
  },
  {
   "cell_type": "code",
   "execution_count": null,
   "metadata": {},
   "outputs": [],
   "source": [
    "column_names = pd.MultiIndex.from_product([PANEL_SUBTITLES, sample_params.index.map(str)])\n",
    "spaghetti = pd.DataFrame(index=renew_model.epoch.index_to_dti(renew_model.model_times), columns=column_names)\n",
    "for i, p in sample_params.iterrows():\n",
    "    params = {k: v for k, v in p.items() if \"dispersion\" not in k}\n",
    "    result = full_wrap(**params)\n",
    "    spaghetti.loc[:, (\"cases\", str(i))] = result.incidence * p[\"cdr\"]\n",
    "    spaghetti.loc[:, (\"suscept\", str(i))] = result.suscept\n",
    "    spaghetti.loc[:, (\"R\", str(i))] = result.r_t\n",
    "    spaghetti.loc[:, (\"transmission potential\", str(i))] = result.process"
   ]
  },
  {
   "cell_type": "code",
   "execution_count": null,
   "metadata": {},
   "outputs": [],
   "source": [
    "# Calculate quantiles from spaghetti\n",
    "case_quantiles = get_quantiles_from_spaghetti(spaghetti.loc[:, \"cases\"], quantiles)\n",
    "suscept_quantiles = get_quantiles_from_spaghetti(spaghetti.loc[:, \"suscept\"], quantiles)\n",
    "r_quantiles = get_quantiles_from_spaghetti(spaghetti.loc[:, \"R\"], quantiles)\n",
    "proc_quantiles = get_quantiles_from_spaghetti(spaghetti.loc[:, \"transmission potential\"], quantiles)"
   ]
  },
  {
   "cell_type": "code",
   "execution_count": null,
   "metadata": {},
   "outputs": [],
   "source": [
    "Markdown(fixed_param_desc)\n",
    "Markdown(calib_desc)"
   ]
  },
  {
   "cell_type": "code",
   "execution_count": null,
   "metadata": {},
   "outputs": [],
   "source": [
    "plot_spaghetti(cases_spagh, select_data, suscept_spagh, r_spagh, proc_spagh)"
   ]
  },
  {
   "cell_type": "code",
   "execution_count": null,
   "metadata": {},
   "outputs": [],
   "source": [
    "patch_fig = plot_uncertainty_patches(case_quantiles, select_data, suscept_quantiles, r_quantiles, proc_quantiles, qual_colours.Plotly)\n",
    "patch_fig"
   ]
  },
  {
   "cell_type": "code",
   "execution_count": null,
   "metadata": {},
   "outputs": [],
   "source": [
    "#| label: fig-calib\n",
    "#| fig-cap: \"Calibration to sample data from Malaysia\"\n",
    "patch_fig.write_image(\"patch_fig.svg\")"
   ]
  },
  {
   "cell_type": "code",
   "execution_count": null,
   "metadata": {},
   "outputs": [],
   "source": [
    "Markdown(renew_model.get_full_desc())"
   ]
  },
  {
   "cell_type": "code",
   "execution_count": null,
   "metadata": {},
   "outputs": [],
   "source": [
    "params_df.columns = [\"name\", \"Lower limit\", \"Upper limit\"]\n",
    "params_df.index = params_df[\"name\"]\n",
    "params_df = params_df.drop(columns=[\"name\"])\n",
    "params_df.index.name = None"
   ]
  },
  {
   "cell_type": "code",
   "execution_count": null,
   "metadata": {},
   "outputs": [],
   "source": [
    "Markdown(params_df.to_markdown())"
   ]
  },
  {
   "cell_type": "code",
   "execution_count": null,
   "metadata": {},
   "outputs": [],
   "source": [
    "evidence_table = pd.DataFrame(index=params_df.index, columns=[\"Evidence\"])\n",
    "evidence_table.loc[:, \"Evidence\"] = \"To be populated [@cori2013]\"\n",
    "Markdown(evidence_table.to_markdown())"
   ]
  }
 ],
 "metadata": {
  "kernelspec": {
   "display_name": "Python 3 (ipykernel)",
   "language": "python",
   "name": "python3"
  },
  "language_info": {
   "codemirror_mode": {
    "name": "ipython",
    "version": 3
   },
   "file_extension": ".py",
   "mimetype": "text/x-python",
   "name": "python",
   "nbconvert_exporter": "python",
   "pygments_lexer": "ipython3",
   "version": "3.10.13"
  }
 },
 "nbformat": 4,
 "nbformat_minor": 4
}
