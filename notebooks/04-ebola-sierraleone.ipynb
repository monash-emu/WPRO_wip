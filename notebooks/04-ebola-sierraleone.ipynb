{
 "cells": [
  {
   "cell_type": "code",
   "execution_count": null,
   "id": "2ba4bbe4",
   "metadata": {},
   "outputs": [],
   "source": [
    "import pandas as pd\n",
    "import plotly.express as px\n",
    "\n",
    "import pandas as pd\n",
    "from datetime import datetime\n",
    "import numpyro\n",
    "from numpyro import distributions as dist\n",
    "from numpyro import infer\n",
    "from jax import jit, random\n",
    "import arviz as az\n",
    "from estival.sampling import tools as esamp\n",
    "from plotly.express.colors import qualitative as qual_colours\n",
    "from IPython.display import Markdown\n",
    "\n",
    "from emu_renewal.outputs import get_spaghetti_from_params, get_quant_df_from_spaghetti, plot_spaghetti, plot_uncertainty_patches\n",
    "from emu_renewal.process import CosineMultiCurve\n",
    "from emu_renewal.distributions import GammaDens\n",
    "from emu_renewal.renew import RenewalModel\n",
    "from emu_renewal.calibration import StandardCalib"
   ]
  },
  {
   "cell_type": "code",
   "execution_count": null,
   "id": "4053b743",
   "metadata": {},
   "outputs": [],
   "source": [
    "# Grab data on 2014-2016 Ebola outbreak - this analysis we will focus on the epidemic in Seirra Leone. This data was don\n",
    "\n",
    "ebola_data = pd.read_csv(r'C:\\Users\\ehug0006\\emu\\wpro-working\\data\\ebola_2014_2016_clean.csv', index_col=\"Date\", parse_dates=True)"
   ]
  },
  {
   "cell_type": "code",
   "execution_count": null,
   "id": "a5ca7031",
   "metadata": {},
   "outputs": [],
   "source": [
    "fig = px.line(ebola_data, x=ebola_data.index, y='Cumulative no. of confirmed, probable and suspected cases', color='Country')\n",
    "\n",
    "fig.show()"
   ]
  },
  {
   "cell_type": "code",
   "execution_count": null,
   "id": "3e4f02b1-e4fd-48ea-bb86-75b13c045222",
   "metadata": {},
   "outputs": [],
   "source": [
    "ebola_data"
   ]
  },
  {
   "cell_type": "code",
   "execution_count": null,
   "id": "13f5daf9-1bdf-401b-a24c-88bc61242523",
   "metadata": {},
   "outputs": [],
   "source": [
    "case_data = ebola_data[ebola_data['Country']=='Sierra Leone']['Cumulative no. of confirmed, probable and suspected cases'].diff().rolling(14).mean().dropna()"
   ]
  },
  {
   "cell_type": "code",
   "execution_count": null,
   "id": "c0093e53-99b1-439a-a28e-dcc8bcbcd1da",
   "metadata": {},
   "outputs": [],
   "source": [
    "case_data"
   ]
  },
  {
   "cell_type": "code",
   "execution_count": null,
   "id": "bf1fd734-473e-40dc-a5dc-8282b8de2815",
   "metadata": {},
   "outputs": [],
   "source": [
    "fig = px.line(case_data, x=case_data.index, y=case_data)\n",
    "\n",
    "fig.show()"
   ]
  },
  {
   "cell_type": "code",
   "execution_count": null,
   "id": "05fab6b9-41ed-4d18-9d6e-73397c508cd3",
   "metadata": {},
   "outputs": [],
   "source": [
    "# Specify fixed parameters and get calibration data\n",
    "run_in = 10\n",
    "proc_update_freq = 4\n",
    "pop = 7.1e6\n",
    "analysis_start = ebola_data.index[0]\n",
    "analysis_end = datetime(2015, 5, 1)\n",
    "select_data = case_data.loc[analysis_start: analysis_end]"
   ]
  },
  {
   "cell_type": "code",
   "execution_count": null,
   "id": "a2478b77-9141-4dc3-9884-b7a216f44a55",
   "metadata": {},
   "outputs": [],
   "source": [
    "fitter = CosineMultiCurve()\n",
    "renew_model = RenewalModel(33e6, analysis_start, analysis_end, run_in, proc_update_freq, fitter, GammaDens(), fitter, 50)"
   ]
  },
  {
   "cell_type": "code",
   "execution_count": null,
   "id": "9a172536-9e90-478c-b2cd-0207af5fea8e",
   "metadata": {},
   "outputs": [],
   "source": [
    "calib = StandardCalib(renew_model, select_data)"
   ]
  },
  {
   "cell_type": "code",
   "execution_count": null,
   "id": "c5943cdf-65e2-49ca-8d8f-4374d8b0adb3",
   "metadata": {},
   "outputs": [],
   "source": [
    "# Define parameter ranges\n",
    "priors = {\n",
    "    \"gen_mean\": dist.Uniform(10.0, 14.0),\n",
    "    \"gen_sd\": dist.Uniform(3.0, 7.0),\n",
    "    \"cdr\": dist.Beta(10.0, 4.0),\n",
    "    \"seed\": dist.Uniform(0.4, 1.5),\n",
    "}"
   ]
  },
  {
   "cell_type": "code",
   "execution_count": null,
   "id": "1c08ffa9",
   "metadata": {},
   "outputs": [],
   "source": [
    "kernel = numpyro.infer.NUTS(calib.calibration, dense_mass=True, init_strategy=infer.init_to_uniform(radius=0.5))\n",
    "mcmc = numpyro.infer.MCMC(kernel, num_chains=2, num_samples=1000, num_warmup=1000)\n",
    "rng_key = random.PRNGKey(1)\n",
    "mcmc.run(rng_key, extra_fields=(\"accept_prob\",), params=priors)"
   ]
  },
  {
   "cell_type": "code",
   "execution_count": null,
   "id": "c0652e81",
   "metadata": {},
   "outputs": [],
   "source": [
    "idata = az.from_numpyro(mcmc)"
   ]
  },
  {
   "cell_type": "code",
   "execution_count": null,
   "id": "5a58b342",
   "metadata": {},
   "outputs": [],
   "source": [
    "burn_in = 10\n",
    "n_samples = 100\n",
    "quantiles = [0.05, 0.5, 0.95]\n",
    "idata_burnt = idata.sel(draw=slice(burn_in, None))\n",
    "idata_sampled = az.extract(idata_burnt, num_samples=n_samples)\n",
    "sample_params = esamp.xarray_to_sampleiterator(idata_sampled)"
   ]
  },
  {
   "cell_type": "code",
   "execution_count": null,
   "id": "2db26502",
   "metadata": {},
   "outputs": [],
   "source": [
    "def get_full_result(gen_mean, gen_sd, proc, seed, cdr):\n",
    "    return renew_model.renewal_func(gen_mean, gen_sd, proc, seed)\n",
    "\n",
    "full_wrap = jit(get_full_result)\n",
    "spaghetti = get_spaghetti_from_params(renew_model, sample_params, full_wrap)\n",
    "quantiles_df = get_quant_df_from_spaghetti(renew_model, spaghetti, quantiles)"
   ]
  },
  {
   "cell_type": "code",
   "execution_count": null,
   "id": "d0d0a890",
   "metadata": {},
   "outputs": [],
   "source": [
    "plot_uncertainty_patches(quantiles_df, select_data, qual_colours.Plotly)"
   ]
  }
 ],
 "metadata": {
  "kernelspec": {
   "display_name": "renewal",
   "language": "python",
   "name": "python3"
  },
  "language_info": {
   "codemirror_mode": {
    "name": "ipython",
    "version": 3
   },
   "file_extension": ".py",
   "mimetype": "text/x-python",
   "name": "python",
   "nbconvert_exporter": "python",
   "pygments_lexer": "ipython3",
   "version": "3.10.0"
  }
 },
 "nbformat": 4,
 "nbformat_minor": 5
}
