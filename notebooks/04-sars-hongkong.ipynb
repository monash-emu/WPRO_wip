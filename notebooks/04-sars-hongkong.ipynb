{
 "cells": [
  {
   "cell_type": "code",
   "execution_count": null,
   "id": "0",
   "metadata": {},
   "outputs": [],
   "source": [
    "import pandas as pd\n",
    "from datetime import datetime\n",
    "import numpyro\n",
    "from numpyro import distributions as dist\n",
    "from numpyro import infer\n",
    "from jax import jit, random\n",
    "import arviz as az\n",
    "from estival.sampling import tools as esamp\n",
    "from plotly.express.colors import qualitative as qual_colours\n",
    "\n",
    "from emu_renewal.outputs import get_spaghetti_from_params, get_quant_df_from_spaghetti, plot_spaghetti, plot_uncertainty_patches\n",
    "from emu_renewal.process import CosineMultiCurve\n",
    "from emu_renewal.distributions import GammaDens\n",
    "from emu_renewal.renew import RenewalModel\n",
    "from emu_renewal.calibration import StandardCalib"
   ]
  },
  {
   "cell_type": "code",
   "execution_count": null,
   "id": "1",
   "metadata": {},
   "outputs": [],
   "source": [
    "sars_data = pd.read_csv(\"../data/sars_hongkong/sars_2003_complete_dataset_clean.csv\", index_col=\"Date\", parse_dates=True)\n",
    "# print(\"Available countries are:\")\n",
    "# set(sars_data[\"Country\"])"
   ]
  },
  {
   "cell_type": "code",
   "execution_count": null,
   "id": "2",
   "metadata": {},
   "outputs": [],
   "source": [
    "country_req = \"Hong Kong SAR, China\"\n",
    "cum_data = sars_data[sars_data[\"Country\"] == country_req][\"Cumulative number of case(s)\"]#.diff().rolling(7).mean().dropna()"
   ]
  },
  {
   "cell_type": "code",
   "execution_count": null,
   "id": "e0e32cb4",
   "metadata": {},
   "outputs": [],
   "source": [
    "def reindex_daily_cumulative(series):\n",
    "    out_idx = pd.date_range(series.index[0],series.index[-1])\n",
    "    out_series = pd.Series(data=series,index=out_idx)\n",
    "    return out_series.interpolate()\n",
    "\n",
    "def report_gaps(series):\n",
    "    out_idx = pd.date_range(series.index[0],series.index[-1])\n",
    "    out_series = pd.Series(data=series,index=out_idx)\n",
    "    return out_series.isna()"
   ]
  },
  {
   "cell_type": "code",
   "execution_count": null,
   "id": "7a416645",
   "metadata": {},
   "outputs": [],
   "source": [
    "import jax"
   ]
  },
  {
   "cell_type": "code",
   "execution_count": null,
   "id": "127afa19",
   "metadata": {},
   "outputs": [],
   "source": [
    "cum_data = reindex_daily_cumulative(cum_data)"
   ]
  },
  {
   "cell_type": "code",
   "execution_count": null,
   "id": "d35d9ff6",
   "metadata": {},
   "outputs": [],
   "source": [
    "cum_data.plot()"
   ]
  },
  {
   "cell_type": "code",
   "execution_count": null,
   "id": "f5cc2630",
   "metadata": {},
   "outputs": [],
   "source": [
    "case_data = cum_data.diff().dropna()"
   ]
  },
  {
   "cell_type": "code",
   "execution_count": null,
   "id": "b17f612c",
   "metadata": {},
   "outputs": [],
   "source": [
    "case_data_ma7 = cum_data.rolling(7).mean().diff().dropna()"
   ]
  },
  {
   "cell_type": "code",
   "execution_count": null,
   "id": "45335ea6",
   "metadata": {},
   "outputs": [],
   "source": [
    "import numpy as np\n",
    "from jax import numpy as jnp"
   ]
  },
  {
   "cell_type": "code",
   "execution_count": null,
   "id": "b1971086",
   "metadata": {},
   "outputs": [],
   "source": [
    "# Just populate the buffer with our starting value; at an R value of 1.0, this will exactly produce the first value...\n",
    "\n",
    "init_data = jnp.ones(50) * case_data.iloc[0]\n",
    "init_data"
   ]
  },
  {
   "cell_type": "code",
   "execution_count": null,
   "id": "3",
   "metadata": {},
   "outputs": [],
   "source": [
    "# Specify fixed parameaters and get calibration data\n",
    "run_in = 0\n",
    "proc_update_freq = 5\n",
    "pop = 6.7e6\n",
    "analysis_start = case_data.index[0]\n",
    "analysis_end = datetime(2003, 6, 1)\n",
    "select_data = case_data_ma7.loc[analysis_start: analysis_end].dropna()"
   ]
  },
  {
   "cell_type": "code",
   "execution_count": null,
   "id": "4",
   "metadata": {},
   "outputs": [],
   "source": [
    "fitter = CosineMultiCurve()\n",
    "renew_model = RenewalModel(33e6, analysis_start, analysis_end, run_in, proc_update_freq, fitter, GammaDens(), fitter, 50)"
   ]
  },
  {
   "cell_type": "code",
   "execution_count": null,
   "id": "27d7a9fd",
   "metadata": {},
   "outputs": [],
   "source": [
    "init_window = init_data#jnp.linspace(0.0,select_data.iloc[0], 50)"
   ]
  },
  {
   "cell_type": "code",
   "execution_count": null,
   "id": "9077878e",
   "metadata": {},
   "outputs": [],
   "source": [
    "# Define parameter ranges\n",
    "priors = {\n",
    "    \"gen_mean\": dist.TruncatedNormal(8.4,0.5,low=1.0,high=12.0),#dist.Gamma(10.0, 1.0),\n",
    "    \"gen_sd\": dist.Gamma(5.0, 1.0),\n",
    "    #\"cdr\": dist.Beta(10.0, 4.0),\n",
    "    #\"rt0\": dist.Normal(0.0,0.1)\n",
    "    #\"seed\": dist.Uniform(0.4, 1.5),\n",
    "}"
   ]
  },
  {
   "cell_type": "code",
   "execution_count": null,
   "id": "e6c422f1",
   "metadata": {},
   "outputs": [],
   "source": [
    "# Just trying something different here to stop some crashes...\n",
    "prior_desc = {\n",
    "    \"gen_mean\": (\"TruncatedNormal\", (8.4,1.0), {\"low\": 1.0, \"high\": 16.0}),\n",
    "    \"gen_sd\": (\"Gamma\", (5.0,1.0), {}),\n",
    "    \"rt0\": (\"TruncatedNormal\", (0.0,0.11), {\"low\": -2.0, \"high\": 2.0})\n",
    "}"
   ]
  },
  {
   "cell_type": "code",
   "execution_count": null,
   "id": "5",
   "metadata": {},
   "outputs": [],
   "source": [
    "# smoothing = True; since the input data is smoothed, our model should get smoothed too\n",
    "calib = StandardCalib(renew_model, select_data, prior_desc, init_data=init_data, fixed_params={\"rt0\": 0.0, \"cdr\": 1.0},data_dispersion_sd=0.1, process_dispersion_sd=0.1,smoothing=True)"
   ]
  },
  {
   "cell_type": "code",
   "execution_count": null,
   "id": "49d0ed0f",
   "metadata": {},
   "outputs": [],
   "source": [
    "ival = infer.init_to_value(values={\n",
    "    \"proc\": jnp.zeros(calib.n_process_periods),\n",
    "    \"rt0\": 0.0\n",
    "})"
   ]
  },
  {
   "cell_type": "code",
   "execution_count": null,
   "id": "7",
   "metadata": {},
   "outputs": [],
   "source": [
    "kernel = numpyro.infer.NUTS(calib.calibration, dense_mass=True, init_strategy=ival)\n",
    "mcmc = numpyro.infer.MCMC(kernel, num_chains=4, num_samples=2000, num_warmup=2000, jit_model_args=True)\n",
    "rng_key = random.PRNGKey(9)\n",
    "#mcmc.run(rng_key, extra_fields=(\"accept_prob\",))"
   ]
  },
  {
   "cell_type": "code",
   "execution_count": null,
   "id": "288094df",
   "metadata": {},
   "outputs": [],
   "source": [
    "mcmc.warmup(rng_key, extra_fields=(\"accept_prob\",\"diverging\",\"potential_energy\"), collect_warmup=True)"
   ]
  },
  {
   "cell_type": "code",
   "execution_count": null,
   "id": "3e1ce263",
   "metadata": {},
   "outputs": [],
   "source": [
    "pd.options.plotting.backend = \"plotly\""
   ]
  },
  {
   "cell_type": "code",
   "execution_count": null,
   "id": "87fcf398",
   "metadata": {},
   "outputs": [],
   "source": [
    "pd.DataFrame(mcmc.get_samples(True)[\"gen_mean\"]).T.plot()"
   ]
  },
  {
   "cell_type": "code",
   "execution_count": null,
   "id": "10c56991",
   "metadata": {},
   "outputs": [],
   "source": [
    "pd.DataFrame(mcmc.get_extra_fields(True)[\"potential_energy\"]).T.iloc[-200:].plot()"
   ]
  },
  {
   "cell_type": "code",
   "execution_count": null,
   "id": "edb35348",
   "metadata": {},
   "outputs": [],
   "source": [
    "mcmc.run(rng_key, extra_fields=(\"accept_prob\",\"diverging\",\"potential_energy\"))"
   ]
  },
  {
   "cell_type": "code",
   "execution_count": null,
   "id": "a957cc86",
   "metadata": {},
   "outputs": [],
   "source": [
    "pd.DataFrame(mcmc.get_extra_fields(True)[\"potential_energy\"]).T.plot()"
   ]
  },
  {
   "cell_type": "code",
   "execution_count": null,
   "id": "9014b64c",
   "metadata": {},
   "outputs": [],
   "source": [
    "idata = az.from_dict(mcmc.get_samples(True))"
   ]
  },
  {
   "cell_type": "code",
   "execution_count": null,
   "id": "7bf5aca4",
   "metadata": {},
   "outputs": [],
   "source": [
    "az.summary(idata)"
   ]
  },
  {
   "cell_type": "code",
   "execution_count": null,
   "id": "9",
   "metadata": {},
   "outputs": [],
   "source": [
    "burn_in = 0\n",
    "n_samples = 200\n",
    "quantiles = [0.05, 0.5, 0.95]\n",
    "idata_burnt = idata.sel(draw=slice(burn_in, None))\n",
    "idata_sampled = az.extract(idata_burnt, num_samples=n_samples)\n",
    "sample_params = esamp.xarray_to_sampleiterator(idata_sampled)"
   ]
  },
  {
   "cell_type": "code",
   "execution_count": null,
   "id": "0469cd14",
   "metadata": {},
   "outputs": [],
   "source": [
    "sample_params.components[\"cdr\"] = np.ones(200)"
   ]
  },
  {
   "cell_type": "code",
   "execution_count": null,
   "id": "54c4e4d4",
   "metadata": {},
   "outputs": [],
   "source": [
    "def get_full_result(gen_mean, gen_sd, proc, cdr=1.0, rt0=0.0, **kwargs):\n",
    "    return renew_model.renewal_func(gen_mean, gen_sd, proc, calib.init_data/cdr, rt0)\n",
    "\n",
    "full_wrap = jit(get_full_result)\n",
    "spaghetti = get_spaghetti_from_params(renew_model, sample_params, full_wrap)\n",
    "quantiles_df = get_quant_df_from_spaghetti(renew_model, spaghetti, quantiles)"
   ]
  },
  {
   "cell_type": "code",
   "execution_count": null,
   "id": "cc05937a",
   "metadata": {},
   "outputs": [],
   "source": [
    "fres_cases_ma7 = {k:full_wrap(**v).incidence_ma7*v[\"cdr\"] for k,v in sample_params.iterrows()}\n",
    "fres_cases = {k:full_wrap(**v).incidence*v[\"cdr\"] for k,v in sample_params.iterrows()}"
   ]
  },
  {
   "cell_type": "code",
   "execution_count": null,
   "id": "397c409d",
   "metadata": {},
   "outputs": [],
   "source": [
    "pd.options.plotting.backend = \"matplotlib\""
   ]
  },
  {
   "cell_type": "code",
   "execution_count": null,
   "id": "42c11413",
   "metadata": {},
   "outputs": [],
   "source": [
    "cq = pd.DataFrame(fres_cases).cumsum().quantile((0.05,0.5,0.95),axis=1).T\n",
    "cq.index = quantiles_df.index\n",
    "cq.plot()\n",
    "case_data.cumsum().plot()"
   ]
  },
  {
   "cell_type": "code",
   "execution_count": null,
   "id": "ee5b7c6e",
   "metadata": {},
   "outputs": [],
   "source": [
    "qdf = pd.DataFrame(fres_cases).quantile((0.05,0.5,0.95),axis=1).T\n",
    "qdf.index = quantiles_df.index\n",
    "#qdf[\"data\"] = case_data\n",
    "qdf.plot()\n",
    "case_data.plot(style='.', color='black')"
   ]
  },
  {
   "cell_type": "code",
   "execution_count": null,
   "id": "5546b966",
   "metadata": {},
   "outputs": [],
   "source": [
    "qdf = pd.DataFrame(fres_cases_ma7).quantile((0.05,0.5,0.95),axis=1).T\n",
    "qdf.index = quantiles_df.index\n",
    "#qdf[\"data\"] = case_data\n",
    "qdf.plot()\n",
    "case_data_ma7.plot(style='.', color='black')"
   ]
  },
  {
   "cell_type": "code",
   "execution_count": null,
   "id": "11",
   "metadata": {},
   "outputs": [],
   "source": [
    "plot_uncertainty_patches(quantiles_df, select_data, qual_colours.Plotly)"
   ]
  }
 ],
 "metadata": {
  "kernelspec": {
   "display_name": "Python 3 (ipykernel)",
   "language": "python",
   "name": "python3"
  },
  "language_info": {
   "codemirror_mode": {
    "name": "ipython",
    "version": 3
   },
   "file_extension": ".py",
   "mimetype": "text/x-python",
   "name": "python",
   "nbconvert_exporter": "python",
   "pygments_lexer": "ipython3",
   "version": "3.10.10"
  }
 },
 "nbformat": 4,
 "nbformat_minor": 5
}
