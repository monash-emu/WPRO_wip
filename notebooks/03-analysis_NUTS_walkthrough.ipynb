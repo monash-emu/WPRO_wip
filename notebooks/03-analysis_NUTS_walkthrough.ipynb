{
 "cells": [
  {
   "cell_type": "raw",
   "metadata": {},
   "source": [
    "---\n",
    "title: \"Renewal model fitting\"\n",
    "format: \n",
    "  pdf\n",
    "execute:\n",
    "  echo: false\n",
    "jupyter: python3\n",
    "bibliography: renew.bib\n",
    "csl: https://www.zotero.org/styles/the-lancet\n",
    "---"
   ]
  },
  {
   "cell_type": "code",
   "execution_count": null,
   "metadata": {},
   "outputs": [],
   "source": [
    "# Uncomment the line below to install on Colab or similar\n",
    "#! pip install git+https://github.com/monash-emu/wpro-working.git@pyproject"
   ]
  },
  {
   "cell_type": "code",
   "execution_count": null,
   "metadata": {},
   "outputs": [],
   "source": [
    "import os\n",
    "os.environ[\"XLA_FLAGS\"] = \"--xla_force_host_platform_device_count=4 --xla_cpu_multi_thread_eigen=false intra_op_parallelism_threads=1\""
   ]
  },
  {
   "cell_type": "code",
   "execution_count": null,
   "metadata": {},
   "outputs": [],
   "source": [
    "def update():\n",
    "    from jax import config\n",
    "    config.update(\"jax_enable_x64\", True)"
   ]
  },
  {
   "cell_type": "code",
   "execution_count": null,
   "metadata": {},
   "outputs": [],
   "source": [
    "update()"
   ]
  },
  {
   "cell_type": "code",
   "execution_count": null,
   "metadata": {},
   "outputs": [],
   "source": [
    "import jax\n",
    "\n",
    "jax.devices()\n",
    "from jax import numpy as jnp\n",
    "jnp.linspace(0.0,1.0,10)"
   ]
  },
  {
   "cell_type": "code",
   "execution_count": null,
   "metadata": {},
   "outputs": [],
   "source": [
    "#| warning: false\n",
    "from jax import jit, random\n",
    "import pandas as pd\n",
    "from datetime import datetime,timedelta\n",
    "import numpyro\n",
    "from numpyro import distributions as dist\n",
    "import arviz as az\n",
    "from IPython.display import Markdown\n",
    "from plotly.express.colors import qualitative as qual_colours\n",
    "import numpy as np\n",
    "\n",
    "from estival.sampling import tools as esamp\n",
    "\n",
    "from emu_renewal.process import CosineMultiCurve, LinearMultiCurve\n",
    "from emu_renewal.distributions import GammaDens\n",
    "from emu_renewal.renew import RenewalModel\n",
    "from emu_renewal.outputs import get_spaghetti_from_params, get_quant_df_from_spaghetti, plot_spaghetti, plot_uncertainty_patches, PANEL_SUBTITLES, plot_3d_spaghetti\n",
    "from emu_renewal.calibration import StandardCalib"
   ]
  },
  {
   "cell_type": "code",
   "execution_count": null,
   "metadata": {},
   "outputs": [],
   "source": []
  },
  {
   "cell_type": "code",
   "execution_count": null,
   "metadata": {},
   "outputs": [],
   "source": [
    "pd.options.plotting.backend = \"matplotlib\""
   ]
  },
  {
   "cell_type": "code",
   "execution_count": null,
   "metadata": {},
   "outputs": [],
   "source": [
    "from jax import scipy as jsp, numpy as jnp\n",
    "import jax"
   ]
  },
  {
   "cell_type": "code",
   "execution_count": null,
   "metadata": {},
   "outputs": [],
   "source": [
    "# Specify fixed parameters and get calibration data\n",
    "run_in = 0#100\n",
    "proc_update_freq = 7\n",
    "mys_data = pd.read_csv(\"https://github.com/monash-emu/wpro_working/raw/main/data/new_cases.csv\", index_col=0)[\"MYS\"]\n",
    "mys_data.index = pd.to_datetime(mys_data.index)\n",
    "pop = 33e6\n",
    "analysis_start = datetime(2021, 4, 1)\n",
    "analysis_end = datetime(2021, 11, 1)\n",
    "select_data = mys_data.loc[analysis_start: analysis_end]"
   ]
  },
  {
   "cell_type": "code",
   "execution_count": null,
   "metadata": {},
   "outputs": [],
   "source": [
    "sda = np.array(select_data)\n",
    "\n",
    "from summer2.functions.derived import get_rolling_reduction"
   ]
  },
  {
   "cell_type": "code",
   "execution_count": null,
   "metadata": {},
   "outputs": [],
   "source": [
    "rmean7 = get_rolling_reduction(jnp.mean, 7)"
   ]
  },
  {
   "cell_type": "code",
   "execution_count": null,
   "metadata": {},
   "outputs": [],
   "source": [
    "rmean7(sda).shape"
   ]
  },
  {
   "cell_type": "code",
   "execution_count": null,
   "metadata": {},
   "outputs": [],
   "source": [
    "init_data = mys_data.loc[analysis_start-timedelta(50):analysis_start-timedelta(1)]\n",
    "#init_data.shape\n",
    "init_data.plot()\n",
    "select_data.plot()\n",
    "select_data.rolling(7).mean().plot()\n",
    "pd.Series(rmean7(sda), index = select_data.index).plot()\n",
    "\n",
    "select_data_ma7 = select_data.rolling(7).mean().dropna()"
   ]
  },
  {
   "cell_type": "code",
   "execution_count": null,
   "metadata": {},
   "outputs": [],
   "source": [
    "def reindex_daily_cumulative(series):\n",
    "    out_idx = pd.date_range(series.index[0],series.index[-1])\n",
    "    out_series = pd.Series(data=series,index=out_idx)\n",
    "    return out_series.interpolate()\n",
    "\n",
    "def report_gaps(series):\n",
    "    out_idx = pd.date_range(series.index[0],series.index[-1])\n",
    "    out_series = pd.Series(data=series,index=out_idx)\n",
    "    return out_series.isna()"
   ]
  },
  {
   "cell_type": "code",
   "execution_count": null,
   "metadata": {},
   "outputs": [],
   "source": [
    "fitter = CosineMultiCurve()\n",
    "renew_model = RenewalModel(33e6, analysis_start, analysis_end, run_in, proc_update_freq, fitter, GammaDens(), fitter, 50)"
   ]
  },
  {
   "cell_type": "code",
   "execution_count": null,
   "metadata": {},
   "outputs": [],
   "source": [
    "# Define parameter ranges\n",
    "priors = {\n",
    "    \"gen_mean\": dist.TruncatedNormal(6.0, 1.0,low=2.0,high=10.0),#dist.TruncatedNormal(5.38,1.0,low=2.0, high=12.0),#dist.Gamma(10.0, 1.0),\n",
    "    \"gen_sd\": dist.Gamma(2.5, 1.0),\n",
    "    #\"cdr\": dist.Beta(3.5, 10.0),#dist.TruncatedNormal(0.25,0.1,low=0.1, high=0.35),\n",
    "    #\"seed\": dist.Uniform(0.01, 10.0), #Approximate upper seed value (see above). Relatively insensitive to lower limit\n",
    "    #\"rt0\": dist.TruncatedNormal(0.0,0.1, low=-1.0,high=1.0)\n",
    "}"
   ]
  },
  {
   "cell_type": "code",
   "execution_count": null,
   "metadata": {},
   "outputs": [],
   "source": []
  },
  {
   "cell_type": "code",
   "execution_count": null,
   "metadata": {},
   "outputs": [],
   "source": [
    "{k:v.mean for k,v in priors.items()}"
   ]
  },
  {
   "cell_type": "code",
   "execution_count": null,
   "metadata": {},
   "outputs": [],
   "source": [
    "xr = np.linspace(2.5,12.5,100)\n",
    "pd.Series(np.exp(priors[\"gen_mean\"].log_prob(xr)),index=xr).plot()"
   ]
  },
  {
   "cell_type": "code",
   "execution_count": null,
   "metadata": {},
   "outputs": [],
   "source": [
    "xr = np.linspace(0.01,1.0,100)\n",
    "pd.Series(np.exp(dist.HalfNormal(0.05).log_prob(xr)),index=xr).plot()"
   ]
  },
  {
   "cell_type": "code",
   "execution_count": null,
   "metadata": {},
   "outputs": [],
   "source": [
    "from jax import numpy as jnp"
   ]
  },
  {
   "cell_type": "code",
   "execution_count": null,
   "metadata": {},
   "outputs": [],
   "source": [
    "calib = StandardCalib(renew_model, select_data, priors, jnp.array(init_data), {\"rt0\": 0.0, \"cdr\": 0.25}, smoothing=False, data_dispersion_sd=0.1, process_dispersion_sd=0.1)"
   ]
  },
  {
   "cell_type": "code",
   "execution_count": null,
   "metadata": {},
   "outputs": [],
   "source": [
    "from emu_renewal.distributions import GammaDens"
   ]
  },
  {
   "cell_type": "code",
   "execution_count": null,
   "metadata": {},
   "outputs": [],
   "source": [
    "# Convenience function for PDF of a prior\n",
    "def plotpdf(p):\n",
    "    x = np.linspace(0.0,20.0,100)\n",
    "    return pd.Series(data=np.exp(p.log_prob(x)),index=x)\n",
    "\n",
    "#plotpdf().plot()"
   ]
  },
  {
   "cell_type": "code",
   "execution_count": null,
   "metadata": {},
   "outputs": [],
   "source": [
    "from numpyro import infer"
   ]
  },
  {
   "cell_type": "code",
   "execution_count": null,
   "metadata": {},
   "outputs": [],
   "source": [
    "from functools import partial"
   ]
  },
  {
   "cell_type": "code",
   "execution_count": null,
   "metadata": {},
   "outputs": [],
   "source": [
    "from numpyro.infer.util import constrain_fn"
   ]
  },
  {
   "cell_type": "code",
   "execution_count": null,
   "metadata": {},
   "outputs": [],
   "source": [
    "select_data"
   ]
  },
  {
   "cell_type": "code",
   "execution_count": null,
   "metadata": {},
   "outputs": [],
   "source": [
    "import numpy as np"
   ]
  },
  {
   "cell_type": "code",
   "execution_count": null,
   "metadata": {},
   "outputs": [],
   "source": [
    "init_duration = 14\n",
    "window_len = 50\n",
    "exp_coeff = np.log(select_data.iloc[0]) / init_duration\n",
    "init_series = np.concatenate([np.zeros(window_len - init_duration), np.exp(exp_coeff * np.arange(init_duration))])"
   ]
  },
  {
   "cell_type": "code",
   "execution_count": null,
   "metadata": {},
   "outputs": [],
   "source": [
    "init_series"
   ]
  },
  {
   "cell_type": "code",
   "execution_count": null,
   "metadata": {},
   "outputs": [],
   "source": [
    "constrain_fn(calib.calibration, (), {}, sample_params.iloc[0])"
   ]
  },
  {
   "cell_type": "code",
   "execution_count": null,
   "metadata": {},
   "outputs": [],
   "source": [
    "# We do a random uniform sampling of initial points, but constrain the radius of the sample to lower\n",
    "# than default; because our random process covers a lot of parameter space, we don't want to sample too far out,\n",
    "# but still want to retain more diversity than simply using the median for all chains\n",
    "kernel = numpyro.infer.NUTS(calib.calibration, dense_mass=True, init_strategy=infer.init_to_mean)\n",
    "\n",
    "# We can start with any values we want for num_samples and num_warmup here\n",
    "# 1000,1000 should be enough 'most of the time', and is useful while testing - expect a few bad runs depending on the seed\n",
    "# 2000,2000 should be considerably more robust\n",
    "# Higher values may be required for exacting results with 'pristine' r values\n",
    "mcmc = numpyro.infer.MCMC(kernel, num_chains=4, num_samples=1000, num_warmup=1000)\n",
    "rng_key = random.PRNGKey(15)\n",
    "#mcmc.run(rng_key, extrafields=(\"accept_prob\",\"diverging\"), params=priors,collect_warmup=True)"
   ]
  },
  {
   "cell_type": "code",
   "execution_count": null,
   "metadata": {},
   "outputs": [],
   "source": [
    "# Run the warmup phase of the mcmc separately - we want to examine this behaviour before committing to a run\n",
    "# Things we're looking for - all chains run at approximately the same speed as one another\n",
    "# (eg no order of magnitude differences)\n",
    "# It's normal for runs to speed up during the warmup (as they get closer to the viable region)\n",
    "\n",
    "mcmc.warmup(rng_key, extra_fields=(\"accept_prob\",\"diverging\",\"potential_energy\"), collect_warmup=True)"
   ]
  },
  {
   "cell_type": "code",
   "execution_count": null,
   "metadata": {},
   "outputs": [],
   "source": [
    "# Plot the potential energy (equivalent to log density) of our warmup samples\n",
    "# By the end of the warmup run, these should be all in the same range for every chain\n",
    "# If they are not, then there is no point running a calibration - either we've\n",
    "# got a bad initial point (shouldn't happen), or something is wrong with our model/priors/NUTS configuration\n",
    "# Even if they end up in the same place, it is worth checking to see if some chains took unusually long to \n",
    "# converge - if so, they could cause issues with the mass matrix calculation used for the actual calibration\n",
    "# sampling.  Longer warmups should resolve this.\n",
    "\n",
    "# Don't worry if chains occasionally dip lower than the others - this is a more 'perfect fit'/better MAP estimate\n",
    "# but outside the center of mass - as long as they come back to the same range for most of the trace, all is well\n",
    "\n",
    "pd.DataFrame(mcmc.get_extra_fields(True)[\"potential_energy\"]).T.iloc[100:].plot()"
   ]
  },
  {
   "cell_type": "code",
   "execution_count": null,
   "metadata": {},
   "outputs": [],
   "source": [
    "pd.DataFrame(mcmc.get_samples(True)[\"gen_mean\"]).T.plot()"
   ]
  },
  {
   "cell_type": "code",
   "execution_count": null,
   "metadata": {},
   "outputs": [],
   "source": [
    "# Now run the actual MCMC\n",
    "# This should sample a bit faster than the warmup (if everything went right as above, then all our chains are properly\n",
    "# preconditioned)\n",
    "\n",
    "# If there are any chains running considerably faster or slower than the others, then something is wrong\n",
    "# (most likely the mass matrix tuning is different for this chain; you can check the potential energy/trace\n",
    "# to validate this)\n",
    "\n",
    "mcmc.run(rng_key, extra_fields=(\"accept_prob\",\"diverging\",\"potential_energy\"))"
   ]
  },
  {
   "cell_type": "code",
   "execution_count": null,
   "metadata": {},
   "outputs": [],
   "source": [
    "idata = az.from_dict(mcmc.get_samples(True))"
   ]
  },
  {
   "cell_type": "code",
   "execution_count": null,
   "metadata": {},
   "outputs": [],
   "source": [
    "# This should be an absolute maximum of 1.05 for any actual inference (good enough to \n",
    "# not be misleading, but still not really appropriate for publication/policy advice)\n",
    "# For this kind of model, 1.00 is the target\n",
    "az.summary(idata)"
   ]
  },
  {
   "cell_type": "code",
   "execution_count": null,
   "metadata": {},
   "outputs": [],
   "source": [
    "#az.plot_posterior(idata);"
   ]
  },
  {
   "cell_type": "code",
   "execution_count": null,
   "metadata": {},
   "outputs": [],
   "source": [
    "from jax import numpy as jnp"
   ]
  },
  {
   "cell_type": "code",
   "execution_count": null,
   "metadata": {},
   "outputs": [],
   "source": [
    "burn_in = 0\n",
    "n_samples = 200\n",
    "quantiles = [0.05, 0.5, 0.95]\n",
    "idata_burnt = idata.sel(draw=slice(burn_in, None))\n",
    "idata_sampled = az.extract(idata_burnt, num_samples=n_samples)\n",
    "sample_params = esamp.xarray_to_sampleiterator(idata_sampled)"
   ]
  },
  {
   "cell_type": "code",
   "execution_count": null,
   "metadata": {},
   "outputs": [],
   "source": [
    "az.plot_posterior(idata);"
   ]
  },
  {
   "cell_type": "code",
   "execution_count": null,
   "metadata": {},
   "outputs": [],
   "source": [
    "sample_params.components[\"cdr\"] = np.ones(200)*0.25\n",
    "#sample_params.components[\"rt0\"] = np.ones(200)*0.0"
   ]
  },
  {
   "cell_type": "code",
   "execution_count": null,
   "metadata": {},
   "outputs": [],
   "source": [
    "def get_full_result(gen_mean, gen_sd, proc, cdr=0.25, rt0=0.0):\n",
    "    return renew_model.renewal_func(gen_mean, gen_sd, proc, calib.init_data/cdr, rt0)\n",
    "\n",
    "full_wrap = jit(get_full_result)\n",
    "spaghetti = get_spaghetti_from_params(renew_model, sample_params, full_wrap)\n",
    "quantiles_df = get_quant_df_from_spaghetti(renew_model, spaghetti, quantiles)"
   ]
  },
  {
   "cell_type": "code",
   "execution_count": null,
   "metadata": {},
   "outputs": [],
   "source": [
    "patch_fig = plot_uncertainty_patches(quantiles_df, select_data, qual_colours.Plotly)\n",
    "patch_fig"
   ]
  },
  {
   "cell_type": "code",
   "execution_count": null,
   "metadata": {},
   "outputs": [],
   "source": [
    "patch_fig = plot_uncertainty_patches(quantiles_df, select_data, qual_colours.Plotly)\n",
    "patch_fig"
   ]
  },
  {
   "cell_type": "code",
   "execution_count": null,
   "metadata": {},
   "outputs": [],
   "source": [
    "patch_fig = plot_uncertainty_patches(quantiles_df, select_data, qual_colours.Plotly)\n",
    "patch_fig"
   ]
  },
  {
   "cell_type": "code",
   "execution_count": null,
   "metadata": {},
   "outputs": [],
   "source": [
    "patch_fig = plot_uncertainty_patches(quantiles_df, select_data, qual_colours.Plotly)\n",
    "patch_fig"
   ]
  },
  {
   "cell_type": "code",
   "execution_count": null,
   "metadata": {},
   "outputs": [],
   "source": [
    "patch_fig = plot_uncertainty_patches(quantiles_df, select_data, qual_colours.Plotly)\n",
    "patch_fig"
   ]
  },
  {
   "cell_type": "code",
   "execution_count": null,
   "metadata": {},
   "outputs": [],
   "source": [
    "Markdown(renew_model.get_description())"
   ]
  },
  {
   "cell_type": "code",
   "execution_count": null,
   "metadata": {},
   "outputs": [],
   "source": [
    "pd.options.plotting.backend=\"plotly\""
   ]
  },
  {
   "cell_type": "code",
   "execution_count": null,
   "metadata": {},
   "outputs": [],
   "source": [
    "plot_spaghetti(spaghetti, select_data)"
   ]
  },
  {
   "cell_type": "code",
   "execution_count": null,
   "metadata": {},
   "outputs": [],
   "source": [
    "sample_params.loc[(3,277)]"
   ]
  },
  {
   "cell_type": "code",
   "execution_count": null,
   "metadata": {},
   "outputs": [],
   "source": [
    "sample_params.loc[(3,366)]"
   ]
  },
  {
   "cell_type": "code",
   "execution_count": null,
   "metadata": {},
   "outputs": [],
   "source": [
    "# Optional - requires kaleido\n",
    "#| label: fig-calib\n",
    "#| fig-cap: \"Calibration to sample data from Malaysia\"\n",
    "# patch_fig.write_image(\"patch_fig.svg\")"
   ]
  },
  {
   "cell_type": "code",
   "execution_count": null,
   "metadata": {},
   "outputs": [],
   "source": [
    "# params_df.columns = [\"name\", \"Lower limit\", \"Upper limit\"]\n",
    "# params_df.index = params_df[\"name\"]\n",
    "# params_df = params_df.drop(columns=[\"name\"])\n",
    "# params_df.index.name = None"
   ]
  },
  {
   "cell_type": "code",
   "execution_count": null,
   "metadata": {},
   "outputs": [],
   "source": [
    "Markdown(\"### Calibration\")"
   ]
  },
  {
   "cell_type": "code",
   "execution_count": null,
   "metadata": {},
   "outputs": [],
   "source": [
    "Markdown(calib.get_description())"
   ]
  },
  {
   "cell_type": "code",
   "execution_count": null,
   "metadata": {},
   "outputs": [],
   "source": [
    "# Markdown(params_df.to_markdown())"
   ]
  },
  {
   "cell_type": "code",
   "execution_count": null,
   "metadata": {},
   "outputs": [],
   "source": [
    "# evidence_table = pd.DataFrame(index=params_df.index, columns=[\"Evidence\"])\n",
    "# evidence_table.loc[:, \"Evidence\"] = \"To be populated [@cori2013]\"\n",
    "# Markdown(evidence_table.to_markdown())"
   ]
  },
  {
   "cell_type": "code",
   "execution_count": null,
   "metadata": {},
   "outputs": [],
   "source": [
    "# plot_3d_spaghetti(spaghetti, [\"susceptibles\", \"transmission potential\"])"
   ]
  },
  {
   "cell_type": "code",
   "execution_count": null,
   "metadata": {},
   "outputs": [],
   "source": [
    "# First attempt at prior-posterior comparison graph\n",
    "vars = list(priors.keys())\n",
    "comparison_plot = az.plot_density(idata, var_names=list(priors.keys()), point_estimate=None, shade=0.5);\n",
    "for i_ax, ax in enumerate(comparison_plot.ravel()[:len(vars)]):\n",
    "    ax_limits = ax.get_xlim()\n",
    "    x_vals = np.linspace(ax_limits[0], ax_limits[1], 100)\n",
    "    y_vals = np.diff(priors[vars[i_ax]].cdf(x_vals))\n",
    "    y_vals *= 0.94 / max(y_vals)\n",
    "    ax.fill_between(x_vals[:-1], y_vals, color='k', alpha=0.2, linewidth=2)"
   ]
  }
 ],
 "metadata": {
  "kernelspec": {
   "display_name": "Python 3 (ipykernel)",
   "language": "python",
   "name": "python3"
  },
  "language_info": {
   "codemirror_mode": {
    "name": "ipython",
    "version": 3
   },
   "file_extension": ".py",
   "mimetype": "text/x-python",
   "name": "python",
   "nbconvert_exporter": "python",
   "pygments_lexer": "ipython3",
   "version": "3.10.10"
  }
 },
 "nbformat": 4,
 "nbformat_minor": 4
}
