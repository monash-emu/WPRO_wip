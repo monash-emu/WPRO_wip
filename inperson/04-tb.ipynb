{
 "cells": [
  {
   "cell_type": "code",
   "execution_count": null,
   "id": "0",
   "metadata": {},
   "outputs": [],
   "source": [
    "#!pip install summerepi2==1.3.5"
   ]
  },
  {
   "cell_type": "code",
   "execution_count": null,
   "id": "1",
   "metadata": {},
   "outputs": [],
   "source": [
    "import pandas as pd\n",
    "pd.options.plotting.backend = \"plotly\"\n",
    "\n",
    "from summer2 import CompartmentalModel\n",
    "from summer2.parameters import Parameter"
   ]
  },
  {
   "cell_type": "code",
   "execution_count": null,
   "id": "2",
   "metadata": {},
   "outputs": [],
   "source": [
    "compartments = (\n",
    "    \"susceptible\", \n",
    "    \"latent_early\",\n",
    "    \"latent_late\",\n",
    "    \"infectious\",\n",
    "    \"treatment\", \n",
    "    \"recovered\",\n",
    ")\n",
    "tb_model = CompartmentalModel(\n",
    "    times=[1800, 2024],\n",
    "    compartments=compartments,\n",
    "    infectious_compartments=[\"infectious\"],\n",
    ")\n",
    "start_pop = {\n",
    "    \"susceptible\": 4e7,\n",
    "    \"infectious\": 1.0,\n",
    "}\n",
    "tb_model.set_initial_population(start_pop)\n",
    "\n",
    "# Demographics will be important\n",
    "tb_model.add_crude_birth_flow(\n",
    "    \"birth\",\n",
    "    Parameter(\"crude_birth_rate\"),\n",
    "    \"susceptible\",\n",
    ")\n",
    "tb_model.add_universal_death_flows(\n",
    "    \"all_cause_mortality\",\n",
    "    1.0 / Parameter(\"life_expectancy\"),\n",
    ")\n",
    "tb_model.request_output_for_compartments(\"total_population\", compartments)"
   ]
  },
  {
   "cell_type": "code",
   "execution_count": null,
   "id": "3",
   "metadata": {},
   "outputs": [],
   "source": [
    "parameters = {\n",
    "    \"crude_birth_rate\": 20.0 / 1000.0,\n",
    "    \"life_expectancy\": 60.0,\n",
    "}\n",
    "tb_model.run(parameters)"
   ]
  },
  {
   "cell_type": "code",
   "execution_count": null,
   "id": "4",
   "metadata": {},
   "outputs": [],
   "source": [
    "tb_model.get_derived_outputs_df().plot()"
   ]
  }
 ],
 "metadata": {
  "kernelspec": {
   "display_name": "Python 3 (ipykernel)",
   "language": "python",
   "name": "python3"
  },
  "language_info": {
   "codemirror_mode": {
    "name": "ipython",
    "version": 3
   },
   "file_extension": ".py",
   "mimetype": "text/x-python",
   "name": "python",
   "nbconvert_exporter": "python",
   "pygments_lexer": "ipython3",
   "version": "3.10.13"
  }
 },
 "nbformat": 4,
 "nbformat_minor": 5
}
