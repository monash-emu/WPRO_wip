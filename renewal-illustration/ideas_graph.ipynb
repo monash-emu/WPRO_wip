{
 "cells": [
  {
   "cell_type": "code",
   "execution_count": null,
   "id": "0",
   "metadata": {
    "id": "cea46759-8417-4856-8978-3ee8f687e283"
   },
   "outputs": [],
   "source": [
    "from scipy import stats\n",
    "import pandas as pd\n",
    "import plotly.express as px\n",
    "import numpy as np\n",
    "from scipy.stats import gamma\n",
    "import statsmodels.api as sm\n",
    "import plotly.graph_objects as go\n",
    "from plotly.subplots import make_subplots\n",
    "from numpy.random import RandomState\n",
    "from matplotlib import pyplot as plt\n",
    "import matplotlib\n",
    "matplotlib.style.use(\"ggplot\")"
   ]
  },
  {
   "cell_type": "code",
   "execution_count": null,
   "id": "1",
   "metadata": {
    "id": "7c8beedf-0551-4f0e-87ae-0b728792ebdf"
   },
   "outputs": [],
   "source": [
    "# set random seed and random number generator\n",
    "prng = RandomState(9)"
   ]
  },
  {
   "cell_type": "code",
   "execution_count": null,
   "id": "2",
   "metadata": {},
   "outputs": [],
   "source": [
    "sd = 1.5\n",
    "mean = 4.0\n",
    "\n",
    "var = sd ** 2.0\n",
    "scale = var / mean\n",
    "a = mean / scale"
   ]
  },
  {
   "cell_type": "code",
   "execution_count": null,
   "id": "3",
   "metadata": {},
   "outputs": [],
   "source": [
    "prng.gamma(mean, scale=sd, size=8)"
   ]
  },
  {
   "cell_type": "code",
   "execution_count": null,
   "id": "4",
   "metadata": {},
   "outputs": [],
   "source": [
    "manual_data_for_dist = [1, 1, 2, 2, 2, 3, 3, 3, 3, 3, 3, 4, 4, 4, 5, 5, 5, 6, 8, 9, 9, 9, 9]"
   ]
  },
  {
   "cell_type": "code",
   "execution_count": null,
   "id": "5",
   "metadata": {},
   "outputs": [],
   "source": [
    "kde = sm.nonparametric.KDEUnivariate(manual_data_for_dist)\n",
    "kde.fit()"
   ]
  },
  {
   "cell_type": "code",
   "execution_count": null,
   "id": "6",
   "metadata": {},
   "outputs": [],
   "source": [
    "axes[0].text?"
   ]
  },
  {
   "cell_type": "code",
   "execution_count": null,
   "id": "7",
   "metadata": {},
   "outputs": [],
   "source": [
    "x_vals = np.linspace(0.0, 15.0, 50)\n",
    "epi_vals = [0, 0, 1, 3, 4]\n",
    "epi_times = range(len(epi_vals))\n",
    "colours = [\"k\", \"b\", \"g\", \"r\", \"m\"]\n",
    "val_scaler = 15.0\n",
    "\n",
    "fig, axes = plt.subplots(1, 2, figsize=(12, 4), sharey=True)\n",
    "fig.tight_layout()\n",
    "for i_ax, ax in enumerate(axes):\n",
    "    ax.set_xlim([0.0, 15.0])\n",
    "    ax.plot(epi_times, epi_vals, color=\"k\", linestyle=\"--\")\n",
    "    for i in epi_times[2:]:\n",
    "        ax.plot(i, epi_vals[i], marker=\"o\", color=colours[i])\n",
    "        ax.arrow(i + 0.5, epi_vals[i], 1.0, 0, color=colours[i], head_width=0.2)\n",
    "axes[0].set_xlabel(\"time (days)\")\n",
    "axes[1].set_xlabel(\"time (days)\")\n",
    "axes[0].set_ylabel(\"cases (for time series)\")\n",
    "axes[0].set_title(\"assumed\")\n",
    "axes[1].set_title(\"empiric\") \n",
    "distri = pd.Series(gamma.cdf(x_vals, a=a, scale=scale), index=x_vals).diff()\n",
    "kernel = pd.Series(kde.density, index=kde.support)\n",
    "x_val_est = 7.0\n",
    "for i in epi_times[2:][::-1]:\n",
    "    scaler = epi_vals[i] * val_scaler\n",
    "    point = np.interp([x_val_est - i], distri.index, distri)[0] * scaler\n",
    "    axes[0].fill_between(distri.index + i, distri * scaler, color=colours[i], alpha=0.1)\n",
    "    axes[0].plot(distri.index + i, distri * scaler, color=colours[i], alpha=0.2)\n",
    "    axes[0].plot([x_val_est], [point], marker=\"o\", color=colours[i])\n",
    "    axes[0].plot([x_val_est, x_val_est], [0.0, point], color=colours[i], linestyle=\":\")\n",
    "    axes[0].annotate(\"cases\\nepicurve\", [0.4, 2], size=\"large\", color=[0.3, 0.3, 0.3])\n",
    "    axes[0].text(8.5, 1, \"secondary\\ndistributions\", fontdict={\"fontsize\": \"large\", \"color\":[0.3, 0.3, 0.3]})\n",
    "    axes[0].text(6.5, 1.5, \"contributions\", fontdict={\"fontsize\": \"large\", \"color\":[0.3, 0.3, 0.3], \"rotation\": 90})\n",
    "\n",
    "    scaler /= 2.2\n",
    "    point = np.interp([x_val_est - i], kernel.index, kernel)[0] * scaler\n",
    "    axes[1].fill_between(kernel.index + i, kernel * scaler, color=colours[i], alpha=0.1)\n",
    "    axes[1].plot(kernel.index + i, kernel * scaler, color=colours[i], alpha=0.2)\n",
    "    axes[1].plot([x_val_est], [point], marker=\"o\", color=colours[i])\n",
    "    axes[1].plot([x_val_est, x_val_est], [0.0, point], color=colours[i], linestyle=\":\")"
   ]
  },
  {
   "cell_type": "code",
   "execution_count": null,
   "id": "8",
   "metadata": {},
   "outputs": [],
   "source": [
    "fig.savefig(\"ideas_fig4.jpg\")"
   ]
  }
 ],
 "metadata": {
  "colab": {
   "provenance": []
  },
  "kernelspec": {
   "display_name": "Python 3 (ipykernel)",
   "language": "python",
   "name": "python3"
  },
  "language_info": {
   "codemirror_mode": {
    "name": "ipython",
    "version": 3
   },
   "file_extension": ".py",
   "mimetype": "text/x-python",
   "name": "python",
   "nbconvert_exporter": "python",
   "pygments_lexer": "ipython3",
   "version": "3.10.13"
  }
 },
 "nbformat": 4,
 "nbformat_minor": 5
}
