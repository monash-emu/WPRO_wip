{
 "cells": [
  {
   "cell_type": "code",
   "execution_count": null,
   "id": "0",
   "metadata": {
    "id": "cea46759-8417-4856-8978-3ee8f687e283"
   },
   "outputs": [],
   "source": [
    "from scipy import stats\n",
    "import pandas as pd\n",
    "import plotly.express as px\n",
    "import numpy as np\n",
    "from scipy.stats import gamma\n",
    "import statsmodels.api as sm\n",
    "import plotly.graph_objects as go\n",
    "from plotly.subplots import make_subplots\n",
    "from numpy.random import RandomState\n",
    "from matplotlib import pyplot as plt"
   ]
  },
  {
   "cell_type": "code",
   "execution_count": null,
   "id": "1",
   "metadata": {
    "id": "7c8beedf-0551-4f0e-87ae-0b728792ebdf"
   },
   "outputs": [],
   "source": [
    "# set random seed and random number generator\n",
    "prng = RandomState(123)"
   ]
  },
  {
   "cell_type": "code",
   "execution_count": null,
   "id": "2",
   "metadata": {},
   "outputs": [],
   "source": [
    "sd = 3.0\n",
    "mean = 6.0\n",
    "\n",
    "var = sd ** 2.0\n",
    "scale = var / mean\n",
    "a = mean / scale\n",
    "\n",
    "x_vals = np.linspace(0.0, 20.0, 50)\n",
    "pd.Series(gamma.cdf(x_vals, a=a, scale=scale), index=x_vals).diff().plot()"
   ]
  },
  {
   "cell_type": "code",
   "execution_count": null,
   "id": "3",
   "metadata": {},
   "outputs": [],
   "source": [
    "kde10 = sm.nonparametric.KDEUnivariate(prng.gamma(mean, scale=sd, size=8))\n",
    "kde10.fit()\n",
    "kde1000 = sm.nonparametric.KDEUnivariate(prng.gamma(mean, scale=sd, size=1000))\n",
    "kde1000.fit()"
   ]
  },
  {
   "cell_type": "code",
   "execution_count": null,
   "id": "4",
   "metadata": {},
   "outputs": [],
   "source": [
    "epi_vals = [0, 0, 1, 3, 4]\n",
    "fig, axes = plt.subplots(1, 2, figsize=(10, 5), sharey=True)\n",
    "epi_times = range(len(epi_vals))\n",
    "kdes = [kde10, kde1000]\n",
    "colours = [\"k\", \"b\", \"g\", \"r\", \"m\"]\n",
    "for a, ax in enumerate(axes):\n",
    "    kde = kdes[a]\n",
    "    ax.plot(epi_times, epi_vals, color=\"k\")\n",
    "    for i in epi_times[2:]:\n",
    "        ax.plot(i, epi_vals[i], marker=\"o\", color=colours[i])\n",
    "        ax.arrow(i + 1, epi_vals[i], 1, 0, color=colours[i], head_width=0.1)\n",
    "x_vals = np.linspace(0.0, 50.0, 50)\n",
    "for i in epi_times[2:]:\n",
    "    axes[0].plot(kde.support + i, kde.density * epi_vals[i] * 10.0, color=colours[i])\n",
    "    axes[1].plot(x_vals, pd.Series(gamma.cdf(x_vals, a=a, scale=scale), index=x_vals).diff() * epi_vals[i], color=colours[i])"
   ]
  }
 ],
 "metadata": {
  "colab": {
   "provenance": []
  },
  "kernelspec": {
   "display_name": "Python 3 (ipykernel)",
   "language": "python",
   "name": "python3"
  },
  "language_info": {
   "codemirror_mode": {
    "name": "ipython",
    "version": 3
   },
   "file_extension": ".py",
   "mimetype": "text/x-python",
   "name": "python",
   "nbconvert_exporter": "python",
   "pygments_lexer": "ipython3",
   "version": "3.10.13"
  }
 },
 "nbformat": 4,
 "nbformat_minor": 5
}
