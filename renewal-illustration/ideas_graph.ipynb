{
 "cells": [
  {
   "cell_type": "code",
   "execution_count": null,
   "id": "0",
   "metadata": {
    "id": "cea46759-8417-4856-8978-3ee8f687e283"
   },
   "outputs": [],
   "source": [
    "from scipy import stats\n",
    "import pandas as pd\n",
    "import plotly.express as px\n",
    "import numpy as np\n",
    "from scipy.stats import gamma\n",
    "import statsmodels.api as sm\n",
    "import plotly.graph_objects as go\n",
    "from plotly.subplots import make_subplots\n",
    "from numpy.random import RandomState"
   ]
  },
  {
   "cell_type": "code",
   "execution_count": null,
   "id": "1",
   "metadata": {
    "id": "7c8beedf-0551-4f0e-87ae-0b728792ebdf"
   },
   "outputs": [],
   "source": [
    "# set random seed and random number generator\n",
    "prng = RandomState(123)"
   ]
  },
  {
   "cell_type": "code",
   "execution_count": null,
   "id": "2",
   "metadata": {
    "id": "85ed7bfb-f777-42ee-8c82-248f62b490f6"
   },
   "outputs": [],
   "source": [
    "# sample from a gamma distribution with a mean of approx ~5, SD ~1.3\n",
    "sample = prng.gamma(15, scale=1/3, size=100)"
   ]
  },
  {
   "cell_type": "code",
   "execution_count": null,
   "id": "3",
   "metadata": {
    "colab": {
     "base_uri": "https://localhost:8080/",
     "height": 542
    },
    "id": "0e880d1b-6cc0-45c9-ab48-7613e86e26d9",
    "outputId": "b9db890a-ff03-46ac-c8bf-16583c58f542"
   },
   "outputs": [],
   "source": [
    "# visualise sample\n",
    "fig = px.histogram(x=sample)\n",
    "fig.show()"
   ]
  },
  {
   "cell_type": "code",
   "execution_count": null,
   "id": "4",
   "metadata": {
    "id": "c7f3e313-bf5f-4467-854c-049e64ba64a4"
   },
   "outputs": [],
   "source": [
    "# kernel over sample to smooth\n",
    "kde = sm.nonparametric.KDEUnivariate(sample)\n",
    "k = kde.fit()"
   ]
  },
  {
   "cell_type": "code",
   "execution_count": null,
   "id": "5",
   "metadata": {
    "colab": {
     "base_uri": "https://localhost:8080/",
     "height": 542
    },
    "id": "4d028439-d135-4b75-86cd-3237a9fc471f",
    "outputId": "849de64a-51bf-41c6-d722-b0ee0bc653e8"
   },
   "outputs": [],
   "source": [
    "# Playing around with visualising smoothed densities\n",
    "fig = px.line(x=kde.support, y=kde.density)\n",
    "fig.add_scatter(x=kde.support+3, y=kde.density+0.1,mode='lines')\n",
    "fig.add_scatter(x=kde.support+10, y=kde.density+0.25,mode='lines')\n",
    "fig.show()"
   ]
  },
  {
   "cell_type": "code",
   "execution_count": null,
   "id": "6",
   "metadata": {
    "id": "519361de-17b4-4781-8774-d929774f462a"
   },
   "outputs": [],
   "source": [
    "def find_nearest(array, value):\n",
    "    array = np.asarray(array)\n",
    "    idx = (np.abs(array - value)).argmin()\n",
    "    return array[idx]"
   ]
  },
  {
   "cell_type": "code",
   "execution_count": null,
   "id": "7",
   "metadata": {
    "id": "fd6ab087-07fd-40e9-af5c-dc9f40b23e5f"
   },
   "outputs": [],
   "source": [
    "first_dist_x = kde.support+0.3\n",
    "first_dist_y = (kde.density+0.0667)*15\n",
    "\n",
    "second_dist_x = kde.support+5.2\n",
    "second_dist_y = (kde.density+1)*15"
   ]
  },
  {
   "cell_type": "code",
   "execution_count": null,
   "id": "8",
   "metadata": {
    "id": "20ed1a5b-e5a1-4903-8d84-7953b0ad7580"
   },
   "outputs": [],
   "source": [
    "sec_days_lookup = {2.5: 1,\n",
    "               3: 1,\n",
    "               4: 2,\n",
    "               5:3,\n",
    "               6:2,\n",
    "               7:1\n",
    "              }\n",
    "\n",
    "list_x1 = []\n",
    "list_y1 = []\n",
    "for k,v in sec_days_lookup.items():\n",
    "    ys = [i for i in range(1,v+1,1)]\n",
    "    for y in ys:\n",
    "        list_x1.append(k)\n",
    "        if y == 1:\n",
    "            list_y1.append(first_dist_y[np.where(first_dist_x==find_nearest(first_dist_x, k))][0] +1)\n",
    "        else:\n",
    "            list_y1.append(first_dist_y[np.where(first_dist_x==find_nearest(first_dist_x, k))][0] +(y+y-1))"
   ]
  },
  {
   "cell_type": "code",
   "execution_count": null,
   "id": "9",
   "metadata": {
    "id": "3d249c04-4b7f-4dda-93be-c202f9388432"
   },
   "outputs": [],
   "source": [
    "tet_days_lookup = {8: 2,\n",
    "                    9:3,\n",
    "                   10:1,\n",
    "                   12:1\n",
    "                }\n",
    "\n",
    "list_x2 = []\n",
    "list_y2 = []\n",
    "for k,v in tet_days_lookup.items():\n",
    "    ys = [i for i in range(1,v+1,1)]\n",
    "    for y in ys:\n",
    "        list_x2.append(k)\n",
    "        if y == 1:\n",
    "            list_y2.append(second_dist_y[np.where(second_dist_x==find_nearest(second_dist_x, k))][0] +1)\n",
    "        else:\n",
    "            list_y2.append(second_dist_y[np.where(second_dist_x==find_nearest(second_dist_x, k))][0] +(y+y-1))"
   ]
  },
  {
   "cell_type": "code",
   "execution_count": null,
   "id": "10",
   "metadata": {
    "colab": {
     "base_uri": "https://localhost:8080/",
     "height": 542
    },
    "id": "f52e4047-2be2-459a-8759-59861610e68d",
    "outputId": "0c2dd528-f783-48ba-9adb-7971fb6c70c8"
   },
   "outputs": [],
   "source": [
    "# Code to generate plot - lots of manual wrangling and playing around with numbers\n",
    "\n",
    "fig = make_subplots()\n",
    "first_case_col = \"blue\"\n",
    "secondary_case_col = \"darkblue\"\n",
    "second_case_col = \"red\"\n",
    "tertiary_case_col = \"darkred\"\n",
    "\n",
    "\n",
    "# Add firstgeneration distribution\n",
    "fig.add_trace(\n",
    "    go.Scatter(x=first_dist_x, y=first_dist_y, fill=\"toself\"),\n",
    "    secondary_y=False,\n",
    ")\n",
    "\n",
    "# add next generation interval\n",
    "fig.add_trace(\n",
    "    go.Scatter(x=second_dist_x, y=second_dist_y, fill=\"toself\"),\n",
    "    secondary_y=False,\n",
    ")\n",
    "\n",
    "\n",
    "# add case dot\n",
    "fig.add_trace(\n",
    "    go.Scatter(x=[1], y=[1], line=dict(color=first_case_col)),\n",
    "    secondary_y=False,\n",
    ")\n",
    "\n",
    "# add secondary case dots\n",
    "\n",
    "fig.add_trace(\n",
    "    go.Scatter(x=list_x1, y=list_y1, mode='markers', line=dict(color=secondary_case_col)),\n",
    "    secondary_y=False,\n",
    ")\n",
    "\n",
    "fig.add_trace(\n",
    "    go.Scatter(x=[6], y=[first_dist_y[np.where(first_dist_x==find_nearest(first_dist_x, 6))][0]+3], mode='markers',line=dict(color=second_case_col)),\n",
    "    secondary_y=False,\n",
    ")\n",
    "\n",
    "\n",
    "# add dotted line for teritary cases\n",
    "fig.add_trace(\n",
    "    go.Scatter(x=[6,6], y=[8.8,15], mode='lines', line=dict(color=tertiary_case_col,dash='dot')),\n",
    "    secondary_y=False,\n",
    ")\n",
    "\n",
    "# add tertairy case dots\n",
    "fig.add_trace(\n",
    "    go.Scatter(x=list_x2, y=list_y2, mode='markers', line=dict(color=tertiary_case_col)),\n",
    "    secondary_y=False,\n",
    ")\n",
    "# add rectangles\n",
    "fig.add_vrect(x0=min(first_dist_x), x1=max(first_dist_x),\n",
    "              #annotation_text=\"secondary cases\", annotation_position=\"top\",\n",
    "              line_width=0, fillcolor=secondary_case_col, opacity=0.05)\n",
    "fig.add_vrect(x0=min(second_dist_x), x1=max(second_dist_x),\n",
    "              #annotation_text=\"tertiary cases\", annotation_position=\"top\",\n",
    "              line_width=0, fillcolor=tertiary_case_col, opacity=0.05)\n",
    "\n",
    "# add annotation for gen interval and first case\n",
    "fig.add_annotation(x=1, y=1.5,\n",
    "            text=\"Primary case\",\n",
    "            showarrow=False,\n",
    "            yshift=10)\n",
    "\n",
    "fig.add_annotation(x=5, y=1.5,\n",
    "            text=\"Generation interval\",\n",
    "            showarrow=False,\n",
    "            yshift=10)\n",
    "\n",
    "fig.add_annotation(x=10, y=15,\n",
    "            text=\"Generation interval\",\n",
    "            showarrow=False,\n",
    "            yshift=10)\n",
    "\n",
    "# update plot and marker\n",
    "fig.update_traces(marker=dict(size=10))\n",
    "fig.update_layout(plot_bgcolor='white', showlegend=False)\n",
    "fig.update_yaxes(title='cases', showticklabels=False)\n",
    "fig.update_xaxes(title='time (days)')\n",
    "\n",
    "fig.show()"
   ]
  }
 ],
 "metadata": {
  "colab": {
   "provenance": []
  },
  "kernelspec": {
   "display_name": "Python 3 (ipykernel)",
   "language": "python",
   "name": "python3"
  },
  "language_info": {
   "codemirror_mode": {
    "name": "ipython",
    "version": 3
   },
   "file_extension": ".py",
   "mimetype": "text/x-python",
   "name": "python",
   "nbconvert_exporter": "python",
   "pygments_lexer": "ipython3",
   "version": "3.10.13"
  }
 },
 "nbformat": 4,
 "nbformat_minor": 5
}
