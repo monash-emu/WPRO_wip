{
 "cells": [
  {
   "cell_type": "code",
   "execution_count": null,
   "id": "743a3721-ab68-4676-bd79-6db7368a7224",
   "metadata": {},
   "outputs": [],
   "source": [
    "import numpy as np\n",
    "import pandas as pd\n",
    "import matplotlib.pyplot as plt"
   ]
  },
  {
   "cell_type": "code",
   "execution_count": null,
   "id": "3fe03ceb-784f-4008-8481-31748c741594",
   "metadata": {},
   "outputs": [],
   "source": [
    "def get_cos_points_link(coords_a, coords_b):\n",
    "    if coords_a[0] == coords_b[0]:\n",
    "        raise ValueError('Same x-value for both submitted coordinates')\n",
    "    period_adj = np.pi / (coords_b[0] - coords_a[0])\n",
    "    amplitude = coords_b[1] - coords_a[1]\n",
    "    def cos_link(x):\n",
    "        return (-np.cos((x - coords_a[0]) * period_adj) + 1.0) / 2.0 * amplitude + coords_a[1]\n",
    "    return cos_link\n",
    "\n",
    "def generate_piecewise_cosine(x_vals, y_vals):\n",
    "    coords = list(zip(x_vals, y_vals))\n",
    "    def piecewise_cosine_func(x):\n",
    "        start_cond = x < x_vals[0]\n",
    "        mid_conds = [x_vals[i] <= x <= x_vals[i + 1] for i in range(len(coords) - 1)]\n",
    "        end_cond = x > x_vals[-1]\n",
    "        conds = [start_cond] + mid_conds + [end_cond]\n",
    "\n",
    "        start_func = lambda x: y_vals[0]\n",
    "        mid_funcs = [get_cos_points_link(coords[i], coords[i + 1]) for i in range(len(coords) - 1)]\n",
    "        end_func = lambda x: y_vals[-1]\n",
    "        funcs = [start_func] + mid_funcs + [end_func]\n",
    "        \n",
    "        return np.piecewise(x, conds, funcs)\n",
    "    return np.vectorize(piecewise_cosine_func)"
   ]
  },
  {
   "cell_type": "code",
   "execution_count": null,
   "id": "994fe7e5-1eb7-4d19-99ff-4496ad994d33",
   "metadata": {},
   "outputs": [],
   "source": [
    "x_vals = [0, 2, 3]\n",
    "y_vals = [1, 4, 2]\n",
    "piecewise_cosine = generate_piecewise_cosine(x_vals, y_vals)\n",
    "x_values_example = np.linspace(min(x_vals), max(x_vals), 100)\n",
    "y_values_example = piecewise_cosine(x_values_example)\n",
    "pd.Series(y_values_example, index=x_values_example).plot()"
   ]
  },
  {
   "cell_type": "code",
   "execution_count": null,
   "id": "6619091b-d5bf-4dda-9afc-10eb56b43113",
   "metadata": {},
   "outputs": [],
   "source": [
    "a = [4, -4]\n",
    "b = [1, 5]\n",
    "x_vals = np.linspace(a[0], b[0], 100)\n",
    "y_vals = [get_cos_points_link(a, b)(i) for i in x_vals]\n",
    "pd.Series(y_vals, index=x_vals).plot()"
   ]
  }
 ],
 "metadata": {
  "kernelspec": {
   "display_name": "Python 3 (ipykernel)",
   "language": "python",
   "name": "python3"
  },
  "language_info": {
   "codemirror_mode": {
    "name": "ipython",
    "version": 3
   },
   "file_extension": ".py",
   "mimetype": "text/x-python",
   "name": "python",
   "nbconvert_exporter": "python",
   "pygments_lexer": "ipython3",
   "version": "3.10.11"
  }
 },
 "nbformat": 4,
 "nbformat_minor": 5
}
