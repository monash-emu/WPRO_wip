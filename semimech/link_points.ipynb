{
 "cells": [
  {
   "cell_type": "code",
   "execution_count": null,
   "id": "743a3721-ab68-4676-bd79-6db7368a7224",
   "metadata": {},
   "outputs": [],
   "source": [
    "import numpy as np\n",
    "import pandas as pd"
   ]
  },
  {
   "cell_type": "code",
   "execution_count": null,
   "id": "3fe03ceb-784f-4008-8481-31748c741594",
   "metadata": {},
   "outputs": [],
   "source": [
    "def get_cos_points_link(a, b):\n",
    "    amplitude = b[1] - b[0]\n",
    "    period_adj = np.pi / (a[1] - a[0])\n",
    "    def cos_link(x):\n",
    "        return (-np.cos((x - a[0]) * period_adj) + 1.0) / 2.0 * amplitude + b[0]\n",
    "    return cos_link"
   ]
  },
  {
   "cell_type": "code",
   "execution_count": null,
   "id": "6619091b-d5bf-4dda-9afc-10eb56b43113",
   "metadata": {},
   "outputs": [],
   "source": [
    "a = [-1, 4]\n",
    "b = [7, 2]\n",
    "x_vals = np.linspace(a[0], a[1], 100)\n",
    "y_vals = [get_cos_points_link(a, b)(i) for i in x_vals]\n",
    "pd.Series(y_vals, index=x_vals).plot()"
   ]
  },
  {
   "cell_type": "code",
   "execution_count": null,
   "id": "994fe7e5-1eb7-4d19-99ff-4496ad994d33",
   "metadata": {},
   "outputs": [],
   "source": [
    "import numpy as np\n",
    "import matplotlib.pyplot as plt\n",
    "\n",
    "def get_cos_points_link(x_values, y_values):\n",
    "    if len(x_values) < 2 or len(y_values) < 2 or len(x_values) != len(y_values):\n",
    "        raise ValueError(\"Invalid input: x_values and y_values must have at least two elements and be of the same length.\")\n",
    "    \n",
    "    def cos_link(x):\n",
    "        # Calculate the amplitude and period adjustment based on the first two points\n",
    "        amplitude = y_values[1] - y_values[0]\n",
    "        period_adj = np.pi / (x_values[1] - x_values[0])\n",
    "        \n",
    "        # Calculate the linked points using the cosine function\n",
    "        return (-np.cos((x - x_values[0]) * period_adj) + 1.0) / 2.0 * amplitude + y_values[0]\n",
    "    \n",
    "    return np.vectorize(cos_link)\n",
    "\n",
    "# Example data: three points\n",
    "x_data = np.array([0, 2, 3])\n",
    "y_data = np.array([1, 4, 2])\n",
    "\n",
    "# Obtain the function for linked points\n",
    "linked_points_func = get_cos_points_link(x_data, y_data)\n",
    "\n",
    "# Example: Get y-values for a set of x-values\n",
    "x_values_example = np.linspace(min(x_data), max(x_data), 100)\n",
    "y_values_example = linked_points_func(x_values_example)\n",
    "\n",
    "# Plot the original data and the linked points\n",
    "plt.scatter(x_data, y_data, label='Data Points')\n",
    "plt.plot(x_values_example, y_values_example, label='Linked Cosine Function', color='red')\n",
    "plt.legend()\n",
    "plt.xlabel('X')\n",
    "plt.ylabel('Y')\n",
    "plt.show()\n"
   ]
  }
 ],
 "metadata": {
  "kernelspec": {
   "display_name": "Python 3 (ipykernel)",
   "language": "python",
   "name": "python3"
  },
  "language_info": {
   "codemirror_mode": {
    "name": "ipython",
    "version": 3
   },
   "file_extension": ".py",
   "mimetype": "text/x-python",
   "name": "python",
   "nbconvert_exporter": "python",
   "pygments_lexer": "ipython3",
   "version": "3.10.11"
  }
 },
 "nbformat": 4,
 "nbformat_minor": 5
}
