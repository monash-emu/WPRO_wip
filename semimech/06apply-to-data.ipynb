{
 "cells": [
  {
   "cell_type": "markdown",
   "id": "d316eb3c-d354-439c-ad0b-e896bb350ce8",
   "metadata": {},
   "source": [
    "### Warning, work in progress\n",
    "Trying to get models to actually fit to real-world\n",
    "data, with very limited success so far."
   ]
  },
  {
   "cell_type": "markdown",
   "id": "531d8192-1704-4e48-b220-4c43b257b693",
   "metadata": {},
   "source": [
    "Possible next steps:\n",
    "- Make the random walk actually a walk\n",
    "- Allow for time step other than one (possibly)"
   ]
  },
  {
   "cell_type": "code",
   "execution_count": null,
   "id": "1a49b5a0-50c7-468d-acfa-0a9a5ea6e067",
   "metadata": {},
   "outputs": [],
   "source": [
    "from typing import Dict, List\n",
    "from collections import namedtuple\n",
    "from scipy.stats import gamma\n",
    "import numpy as np\n",
    "import pandas as pd\n",
    "from datetime import datetime\n",
    "from plotly import graph_objects as go\n",
    "from plotly.subplots import make_subplots\n",
    "from scipy.optimize import minimize, shgo"
   ]
  },
  {
   "cell_type": "code",
   "execution_count": null,
   "id": "d3299a2b-b443-45a8-aa27-a3c90e575b8e",
   "metadata": {},
   "outputs": [],
   "source": [
    "Outputs = namedtuple('outputs', ['incidence', 'suscept', 'r_t'])\n",
    "\n",
    "def semimech(gen_time_densities, process_vals, pop, seed, n_times, gen_times_end) -> Outputs:\n",
    "    \"\"\"The semimechanistic process.\n",
    "    \"\"\"\n",
    "    incidence = np.zeros(n_times)\n",
    "    suscept = np.zeros(n_times)\n",
    "    r_t = np.zeros(n_times)\n",
    "\n",
    "    incidence[0] = seed\n",
    "    suscept[0] = pop - seed\n",
    "    r_t[0] = np.nan\n",
    "    \n",
    "    for t in range(1, n_times):\n",
    "\n",
    "        # Calculations\n",
    "        gen_times_interest = min(t, gen_times_end)  # Number of generation times relevant to current loop\n",
    "        inc_vals = incidence[t - gen_times_interest :t]  # Incidence series\n",
    "        gen_vals = gen_time_densities[:gen_times_interest]  # Generation series\n",
    "        contribution_by_day = inc_vals * gen_vals[::-1]  # Product of incidence values and reversed generation times\n",
    "        infect_modifier = process_vals[t] * suscept[t - 1] / pop  # Pre-specified process by the proportion susceptible\n",
    "        this_inc = contribution_by_day.sum() * infect_modifier  # Incidence for this time point\n",
    "        this_suscept = max(suscept[t - 1] - this_inc, 0.0)  # Zero out any small negative susceptible values\n",
    "\n",
    "        # Output tracking\n",
    "        incidence[t] = this_inc\n",
    "        suscept[t] = this_suscept\n",
    "        r_t[t] = gen_time_densities[t-1::-1].sum() * infect_modifier\n",
    "\n",
    "    return Outputs(incidence, suscept, r_t)\n",
    "\n",
    "def get_gamma_params_from_mean_sd(req_mean: float, req_sd: float) -> Dict[str, float]:\n",
    "    \"\"\"Get values for constructive the gamma distribution from user requested mean and standard deviation.\n",
    "    \"\"\"\n",
    "    var = req_sd ** 2.0\n",
    "    scale = var / req_mean\n",
    "    a = req_mean / scale\n",
    "    return {'a': a, 'scale': scale}\n",
    "\n",
    "def get_gamma_densities_from_params(mean: float, sd: float, n_times: int) -> np.array:\n",
    "    \"\"\"Get integrals over integer differences in gamma distribution for simulation duration.\n",
    "    \"\"\"\n",
    "    params = get_gamma_params_from_mean_sd(mean, sd)\n",
    "    return np.diff(gamma.cdf(range(n_times + 1), **params))\n",
    "\n",
    "def get_interp_vals_over_model_time(req: List[float], n_times: int) -> np.array:\n",
    "    \"\"\"Linear interpolation at requested values at regular intervals over simulation period.\n",
    "    \"\"\"\n",
    "    return np.interp(range(n_times), np.linspace(0.0, n_times, len(req)), req)\n",
    "\n",
    "def model_func(gen_time_mean: float, gen_time_sd: float, process_req: List[float], pop: int, seed: int, n_times: int, gen_times_end: int) -> tuple:\n",
    "    \"\"\"The other epidemiological aspects of the model.\n",
    "    \"\"\"\n",
    "    gen_time_densities = get_gamma_densities_from_params(gen_time_mean, gen_time_sd, n_times)\n",
    "    process_req_exp = np.exp(np.array(process_req))\n",
    "    process_vals = get_interp_vals_over_model_time(process_req_exp, n_times)\n",
    "    model_result = semimech(gen_time_densities, process_vals, pop, seed, n_times, gen_times_end)\n",
    "    return model_result, process_vals\n",
    "\n",
    "def calib_func(parameters: List[float], pop: int, seed: int, n_times: int, targets: dict) -> float:\n",
    "    \"\"\"Get the loss function from the model.\n",
    "    \"\"\"\n",
    "    gen_time_mean, gen_time_sd, *process_req = parameters\n",
    "    incidence = model_func(gen_time_mean, gen_time_sd, process_req, pop, seed, n_times, gen_times_end)[0][0]\n",
    "    return sum([(incidence[t] - d) ** 2 for t, d in targets.items()])\n",
    "\n",
    "def plot_output_fit(targets: Dict[int, float], result: Outputs, process_vals, n_times: int):\n",
    "    \"\"\"Plot results from a fitting attempt against the target data and show estimated random process.\n",
    "    \"\"\"\n",
    "    fitted, suscept, r_t = result\n",
    "    model_times = pd.Series(range(n_times))\n",
    "    fig = make_subplots(3, 1, shared_xaxes=True, vertical_spacing=0.05, subplot_titles=['incidence', 'reproduction number', 'susceptibles'])\n",
    "    fig.add_trace(go.Scatter(x=list(targets.keys()), y=list(targets.values()), mode='markers', name='targets'), row=1, col=1)\n",
    "    fig.add_trace(go.Scatter(x=model_times, y=fitted, name='model'), row=1, col=1)\n",
    "    fig.add_trace(go.Scatter(x=model_times, y=process_vals, name='transmission potential'), row=2, col=1)\n",
    "    fig.add_trace(go.Scatter(x=model_times, y=r_t, name='Rt'), row=2, col=1)\n",
    "    fig.add_trace(go.Scatter(x=model_times, y=suscept, name='susceptibles'), row=3, col=1)\n",
    "    return fig.update_layout(height=800, margin={'t': 20, 'b': 5, 'l': 5, 'r': 5})"
   ]
  },
  {
   "cell_type": "code",
   "execution_count": null,
   "id": "37777223-4e4b-4b55-b6a0-122cf31a2ffa",
   "metadata": {},
   "outputs": [],
   "source": [
    "# Model parameters\n",
    "population = 100.0\n",
    "infectious_seed = 1.0\n",
    "n_times = 40\n",
    "max_gen_mean = 10.0\n",
    "max_gen_sd = 4.0\n",
    "# Calculate the longest distribution we could be interested in outside of the model function,\n",
    "# otherwise if this is allowed to adapt to the distribution, things seem to go haywire\n",
    "long_gen_densities = get_gamma_densities_from_params(max_gen_mean, max_gen_sd, n_times)\n",
    "gen_times_end = np.argmax(long_gen_densities.cumsum() > 0.9999)"
   ]
  },
  {
   "cell_type": "code",
   "execution_count": null,
   "id": "9c696b28-8b7d-4c84-92f5-58125547b9e7",
   "metadata": {},
   "outputs": [],
   "source": [
    "test_params = [5.5, 1.8, 1.0, 0.5, 1.5, 0.8]\n",
    "test_data, _ = model_func(test_params[0], test_params[1], test_params[2:], population, infectious_seed, n_times, gen_times_end)\n",
    "test_vals = {t: d for t, d in zip(range(n_times), test_data.incidence)}"
   ]
  },
  {
   "cell_type": "code",
   "execution_count": null,
   "id": "4d852142-63be-4a0e-80fc-22aeff302b22",
   "metadata": {},
   "outputs": [],
   "source": [
    "# Local optimisation with Nelder-Mead\n",
    "param_bounds = [[0.1, max_gen_mean]] + [[0.1, max_gen_sd]] + [[-10.0, 10.0]] * 4\n",
    "result = minimize(calib_func, [2.0, 1.0] + [0.5] * 4, method='Nelder-Mead', args=(population, infectious_seed, n_times, test_vals), bounds=param_bounds)\n",
    "model_result, process_vals = model_func(result.x[0], result.x[1], result.x[2:], population, infectious_seed, n_times, gen_times_end)\n",
    "optimised, suscept, r_t = model_result"
   ]
  },
  {
   "cell_type": "code",
   "execution_count": null,
   "id": "11623a7f-f327-4f29-b41f-5eeae3b4a7e6",
   "metadata": {},
   "outputs": [],
   "source": [
    "print(result.x[:2])\n",
    "print(np.array(result.x[2:]))"
   ]
  },
  {
   "cell_type": "code",
   "execution_count": null,
   "id": "6a6da9b1-f399-4d0b-83b1-aad7c0c49c32",
   "metadata": {},
   "outputs": [],
   "source": [
    "plot_output_fit(test_vals, model_result, process_vals, n_times)"
   ]
  },
  {
   "cell_type": "code",
   "execution_count": null,
   "id": "857a7994-d700-4695-894c-9f20ab50257a",
   "metadata": {},
   "outputs": [],
   "source": [
    "# Global optimisation with shgo - need to capture arguments through closure due to bug in optimisation function\n",
    "# as per comment at https://stackoverflow.com/questions/72794609/scipy-issue-passing-arguments-to-optimize-shgo-function\n",
    "global_result = shgo(lambda x, p=population, s=infectious_seed, t=n_times, d=test_vals: calib_func(x, p, s, t, d), param_bounds)\n",
    "model_result, process_vals = model_func(global_result.x[0], global_result.x[1], global_result.x[2:], population, infectious_seed, n_times, gen_times_end)\n",
    "optimised, suscept, r_t = model_result"
   ]
  },
  {
   "cell_type": "code",
   "execution_count": null,
   "id": "40224487-c8c0-4d6b-a227-9888a5c7b832",
   "metadata": {},
   "outputs": [],
   "source": [
    "print(global_result.x[:2])\n",
    "print(np.array(global_result.x[2:]))"
   ]
  },
  {
   "cell_type": "code",
   "execution_count": null,
   "id": "0ce02ad5-9bf2-44af-a974-794e895411b8",
   "metadata": {},
   "outputs": [],
   "source": [
    "plot_output_fit(test_vals, model_result, process_vals, n_times)"
   ]
  },
  {
   "cell_type": "code",
   "execution_count": null,
   "id": "3927be6f-4704-42ef-8603-c47f38ca6813",
   "metadata": {},
   "outputs": [],
   "source": [
    "def interpret_params(params):\n",
    "    gen_mean_str = f'generation time mean: {params[0]}'\n",
    "    gen_sd_str = f'generation time sd: {params[1]}'\n",
    "    process_str = 'random process vals: ' + ', '.join([str(i) for i in params[2:]])\n",
    "    return f'{gen_mean_str} \\n{gen_sd_str} \\n{process_str}'\n"
   ]
  },
  {
   "cell_type": "code",
   "execution_count": null,
   "id": "37b03eee-59fb-471b-bf02-b1accc49afaf",
   "metadata": {},
   "outputs": [],
   "source": [
    "# Manual calibration\n",
    "model_result, process_vals = model_func(10.0, 2.0, [0.7, 0.7, 0.7, 0.5, 0.5], 33e6, 120.0, len(mys_data), gen_times_end)\n",
    "manual, suscept, r_t = model_result\n",
    "plot_output_fit(mys_data, model_result, process_vals, n_times)"
   ]
  },
  {
   "cell_type": "code",
   "execution_count": null,
   "id": "209cb833-ab7d-41b5-ac33-da70c5eb56d0",
   "metadata": {},
   "outputs": [],
   "source": [
    "raw_data = pd.read_csv('https://github.com/monash-emu/wpro_working/raw/main/data/new_cases.csv', index_col=0)['MYS']\n",
    "raw_data.index = pd.to_datetime(raw_data.index)\n",
    "mys_data = raw_data.loc[datetime(2021, 3, 1): datetime(2021, 11, 1)].reset_index()['MYS'].to_dict()\n",
    "n_times = len(mys_data)\n",
    "\n",
    "# Scale up notifications to incidence outside of model\n",
    "mys_data = {k: v * 16 for k, v in mys_data.items()}"
   ]
  },
  {
   "cell_type": "code",
   "execution_count": null,
   "id": "d03bbfa9-3ab2-4475-9f23-ff2a7e986ffd",
   "metadata": {},
   "outputs": [],
   "source": [
    "param_bounds = [[8.0, 12.0], [1.5, 2.5]] + [[0.4, 1.0]] * 7"
   ]
  },
  {
   "cell_type": "code",
   "execution_count": null,
   "id": "35a2d6a1-165d-4d7f-a49e-5caa208e294e",
   "metadata": {},
   "outputs": [],
   "source": [
    "global_result = shgo(lambda x, p=33e6, s=120.0, t=n_times, d=mys_data: calib_func(x, p, s, t, d), param_bounds)\n",
    "model_result, process_vals = model_func(global_result.x[0], global_result.x[1], global_result.x[2:], 33e6, 120.0, len(mys_data), gen_times_end)\n",
    "optimised, suscept, r_t = model_result"
   ]
  },
  {
   "cell_type": "code",
   "execution_count": null,
   "id": "c54394d5-e7ab-4539-b6b6-167ced9a3ad5",
   "metadata": {},
   "outputs": [],
   "source": [
    "print(interpret_params(global_result.x))"
   ]
  },
  {
   "cell_type": "code",
   "execution_count": null,
   "id": "56fc6d43-28ec-4ed4-a3ef-11d98ec7f8b4",
   "metadata": {},
   "outputs": [],
   "source": [
    "plot_output_fit(mys_data, model_result, process_vals, n_times)"
   ]
  }
 ],
 "metadata": {
  "kernelspec": {
   "display_name": "Python 3 (ipykernel)",
   "language": "python",
   "name": "python3"
  },
  "language_info": {
   "codemirror_mode": {
    "name": "ipython",
    "version": 3
   },
   "file_extension": ".py",
   "mimetype": "text/x-python",
   "name": "python",
   "nbconvert_exporter": "python",
   "pygments_lexer": "ipython3",
   "version": "3.10.0"
  }
 },
 "nbformat": 4,
 "nbformat_minor": 5
}
