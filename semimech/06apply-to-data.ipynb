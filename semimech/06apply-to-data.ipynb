{
 "cells": [
  {
   "cell_type": "markdown",
   "id": "d316eb3c-d354-439c-ad0b-e896bb350ce8",
   "metadata": {},
   "source": [
    "### Warning, work in progress\n",
    "Trying to get models to actually fit to real-world\n",
    "data, with very limited success so far.\n",
    "Here I am exponentiating the random process values."
   ]
  },
  {
   "cell_type": "markdown",
   "id": "531d8192-1704-4e48-b220-4c43b257b693",
   "metadata": {},
   "source": [
    "Possible next steps:\n",
    "- Make the random walk actually a walk\n",
    "- Allow for time step other than one (possibly)\n",
    "- Distinguish infection time from symptom onset time\n",
    "- Parameterise the case detection rate"
   ]
  },
  {
   "cell_type": "code",
   "execution_count": null,
   "id": "1a49b5a0-50c7-468d-acfa-0a9a5ea6e067",
   "metadata": {},
   "outputs": [],
   "source": [
    "from typing import Dict, List\n",
    "from collections import namedtuple\n",
    "from scipy.stats import gamma\n",
    "import numpy as np\n",
    "import pandas as pd\n",
    "from datetime import datetime\n",
    "from plotly import graph_objects as go\n",
    "from plotly.subplots import make_subplots\n",
    "from scipy.optimize import minimize, shgo\n",
    "\n",
    "from distributions import get_gamma_params_from_mean_sd, get_gamma_densities_from_params\n",
    "from process import get_interp_vals_over_model_time\n",
    "from outputs import Outputs, plot_output_fit"
   ]
  },
  {
   "cell_type": "code",
   "execution_count": null,
   "id": "d3299a2b-b443-45a8-aa27-a3c90e575b8e",
   "metadata": {},
   "outputs": [],
   "source": [
    "Outputs = namedtuple('outputs', ['incidence', 'suscept', 'r_t'])\n",
    "\n",
    "def renew(gen_time_densities, process_vals, pop, seed, n_times, gen_times_end) -> Outputs:\n",
    "    \"\"\"The renewal process.\n",
    "    \"\"\"\n",
    "    incidence = np.zeros(n_times)\n",
    "    suscept = np.zeros(n_times)\n",
    "    r_t = np.zeros(n_times)\n",
    "\n",
    "    incidence[0] = seed\n",
    "    suscept[0] = pop - seed\n",
    "    r_t[0] = np.nan\n",
    "        \n",
    "    for t in range(1, n_times):\n",
    "        gen_times_interest = min(t, gen_times_end)  # Number of generation times relevant to current loop\n",
    "        inc_vals = incidence[t - gen_times_interest :t]  # Incidence series\n",
    "        gen_vals = gen_time_densities[:gen_times_interest]  # Generation series\n",
    "        contribution_by_day = inc_vals * gen_vals[::-1]  # Product of incidence values and reversed generation times\n",
    "        r_t[t] = process_vals[t] * suscept[t - 1] / pop  # Pre-specified process by the proportion susceptible\n",
    "        incidence[t] = contribution_by_day.sum() * r_t[t]  # Incidence for this time point\n",
    "        suscept[t] = max(suscept[t - 1] - incidence[t], 0.0)  # Zero out any small negative susceptible values\n",
    "    \n",
    "    return Outputs(incidence, suscept, r_t)\n",
    "\n",
    "def model_func(gen_time_mean: float, gen_time_sd: float, process_req: List[float], pop: int, seed: int, n_times: int, gen_times_end: int) -> tuple:\n",
    "    \"\"\"The other epidemiological aspects of the model.\n",
    "    \"\"\"\n",
    "    gen_time_densities = get_gamma_densities_from_params(gen_time_mean, gen_time_sd, n_times)\n",
    "    process_vals = get_interp_vals_over_model_time(process_req, n_times)\n",
    "    process_vals_exp = np.exp(np.array(process_vals))\n",
    "    model_result = renew(gen_time_densities, process_vals_exp, pop, seed, n_times, gen_times_end)\n",
    "    return model_result, process_vals_exp\n",
    "\n",
    "def calib_func(parameters: List[float], pop: int, seed: int, n_times: int, targets: dict) -> float:\n",
    "    \"\"\"Get the loss function from the model.\n",
    "    \"\"\"\n",
    "    gen_time_mean, gen_time_sd, *process_req = parameters\n",
    "    incidence = model_func(gen_time_mean, gen_time_sd, process_req, pop, seed, n_times, gen_times_end)[0][0]\n",
    "    return sum([(incidence[t] - d) ** 2 for t, d in targets.items()])"
   ]
  },
  {
   "cell_type": "code",
   "execution_count": null,
   "id": "37777223-4e4b-4b55-b6a0-122cf31a2ffa",
   "metadata": {},
   "outputs": [],
   "source": [
    "# Model parameters\n",
    "population = 100.0\n",
    "infectious_seed = 1.0\n",
    "n_times = 40\n",
    "max_gen_mean = 10.0\n",
    "max_gen_sd = 4.0\n",
    "long_gen_densities = get_gamma_densities_from_params(max_gen_mean, max_gen_sd, n_times)\n",
    "gen_times_end = np.argmax(long_gen_densities.cumsum() > 0.9999)"
   ]
  },
  {
   "cell_type": "code",
   "execution_count": null,
   "id": "3927be6f-4704-42ef-8603-c47f38ca6813",
   "metadata": {},
   "outputs": [],
   "source": [
    "def interpret_params(params):\n",
    "    gen_mean_str = f'generation time mean: {params[0]}'\n",
    "    gen_sd_str = f'generation time sd: {params[1]}'\n",
    "    process_str = 'random process vals: ' + ', '.join([str(i) for i in params[2:]])\n",
    "    return f'{gen_mean_str} \\n{gen_sd_str} \\n{process_str}'"
   ]
  },
  {
   "cell_type": "code",
   "execution_count": null,
   "id": "209cb833-ab7d-41b5-ac33-da70c5eb56d0",
   "metadata": {},
   "outputs": [],
   "source": [
    "raw_data = pd.read_csv('https://github.com/monash-emu/wpro_working/raw/main/data/new_cases.csv', index_col=0)['MYS']\n",
    "raw_data.index = pd.to_datetime(raw_data.index)\n",
    "mys_data = raw_data.loc[datetime(2021, 3, 1): datetime(2021, 11, 1)].reset_index()['MYS'].to_dict()\n",
    "n_times = len(mys_data)\n",
    "\n",
    "# Scale up notifications to incidence outside of model\n",
    "mys_data = {k: v * 16 for k, v in mys_data.items()}"
   ]
  },
  {
   "cell_type": "code",
   "execution_count": null,
   "id": "2696ac0f-dd17-4afd-8fcc-6d2ca9322193",
   "metadata": {},
   "outputs": [],
   "source": [
    "import nevergrad as ng\n",
    "\n",
    "pop=33e6\n",
    "seed=120.0\n",
    "\n",
    "def obj_func(parameters):\n",
    "    return calib_func(parameters, pop=pop, seed=seed, n_times=n_times, targets=mys_data)\n",
    "\n",
    "optimizer = ng.optimizers.NGOpt(parametrization=8, budget=10000)\n",
    "y = optimizer.minimize(obj_func)"
   ]
  },
  {
   "cell_type": "code",
   "execution_count": null,
   "id": "a51692ee-70b1-4da3-b6a3-9b95944d42e5",
   "metadata": {},
   "outputs": [],
   "source": [
    "model_result, process_vals = model_func(y.value[0], y.value[1], y.value[2:], 33e6, 120.0, len(mys_data), gen_times_end)\n",
    "optimised, suscept, r_t = model_result"
   ]
  },
  {
   "cell_type": "code",
   "execution_count": null,
   "id": "74882ae0-50ce-457a-99de-d8ebde6933a0",
   "metadata": {},
   "outputs": [],
   "source": [
    "print(interpret_params(y.value))"
   ]
  },
  {
   "cell_type": "code",
   "execution_count": null,
   "id": "871f7512-d589-4907-9f7d-ce869f241f85",
   "metadata": {},
   "outputs": [],
   "source": [
    "plot_output_fit(mys_data, model_result, process_vals, n_times)"
   ]
  }
 ],
 "metadata": {
  "kernelspec": {
   "display_name": "Python 3 (ipykernel)",
   "language": "python",
   "name": "python3"
  },
  "language_info": {
   "codemirror_mode": {
    "name": "ipython",
    "version": 3
   },
   "file_extension": ".py",
   "mimetype": "text/x-python",
   "name": "python",
   "nbconvert_exporter": "python",
   "pygments_lexer": "ipython3",
   "version": "3.10.0"
  }
 },
 "nbformat": 4,
 "nbformat_minor": 5
}
