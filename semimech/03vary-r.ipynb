{
 "cells": [
  {
   "cell_type": "markdown",
   "id": "d316eb3c-d354-439c-ad0b-e896bb350ce8",
   "metadata": {},
   "source": [
    "## Susceptible depletion and varying $R_{0}$\n",
    "Building on the previous (`02suscept-deplete`) notebook,\n",
    "we'll now look at varying the reproduction number with time,\n",
    "because inferring the variation in this quantity is what\n",
    "I'd like to achieve from these models.\n",
    "\n",
    "As previously, the equation we're considering will be:\n",
    "$\\\\i_t = (1-\\frac{n_t}{N})R_t\\sum_{\\tau<t} i_{\\tau}g_{t-\\tau}$\n",
    "However, now the $R_{t}$ value is determined both\n",
    "by the proportion of the population remaining susceptible\n",
    "and an external \"random\" process.\n",
    "At this stage, the process will be arbitrary values,\n",
    "and there are several functions that could be used \n",
    "at this stage (including a random walk and an \n",
    "autoregressive process)."
   ]
  },
  {
   "cell_type": "code",
   "execution_count": null,
   "id": "1a49b5a0-50c7-468d-acfa-0a9a5ea6e067",
   "metadata": {},
   "outputs": [],
   "source": [
    "from typing import Dict\n",
    "from scipy.stats import gamma\n",
    "import numpy as np\n",
    "import pandas as pd\n",
    "pd.options.plotting.backend = 'plotly'"
   ]
  },
  {
   "cell_type": "markdown",
   "id": "073b80cd-3c77-40a1-aa83-9cd3b2fd8cf1",
   "metadata": {
    "tags": []
   },
   "source": [
    "### Parameters\n",
    "Set model parameters, now including the population size.\n",
    "Also get the generation times as previously."
   ]
  },
  {
   "cell_type": "code",
   "execution_count": null,
   "id": "37777223-4e4b-4b55-b6a0-122cf31a2ffa",
   "metadata": {},
   "outputs": [],
   "source": [
    "n_times = 40\n",
    "seed = 1.0\n",
    "r0 = 2.0\n",
    "pop = 100.0\n",
    "incidence = np.zeros(n_times)\n",
    "incidence[0] = seed\n",
    "gen_time_sd = 1.5\n",
    "gen_time_mean = 5.0\n",
    "\n",
    "def get_gamma_params_from_mean_sd(req_mean: float, req_sd: float) -> Dict[str, float]:\n",
    "    var = req_sd ** 2.0\n",
    "    scale = var / req_mean\n",
    "    a = req_mean / scale\n",
    "    return {'a': a, 'scale': scale}\n",
    "\n",
    "gamma_params = get_gamma_params_from_mean_sd(gen_time_mean, gen_time_sd)\n",
    "gen_time_densities = np.diff(gamma.cdf(range(n_times + 1), **gamma_params))"
   ]
  },
  {
   "cell_type": "markdown",
   "id": "2746bef5-d6c4-480c-b95b-ffbd64fdcd4e",
   "metadata": {},
   "source": [
    "### Model run\n",
    "Run the model with susceptible depletion,\n",
    "and a variable intrinsic reproduction number.\n",
    "Now we can manipulate the shape of the epicurve a little more."
   ]
  },
  {
   "cell_type": "code",
   "execution_count": null,
   "id": "686d7b9a-abdd-40fb-8703-4d03a422a13f",
   "metadata": {},
   "outputs": [],
   "source": [
    "process_req = [2.0, 1.2, 2.4, 1.8]\n",
    "process_times = np.linspace(0.0, n_times, len(process_req))\n",
    "process_vals = np.interp(range(n_times), process_times, process_req)\n",
    "suscept = pop - seed\n",
    "for t in range(1, n_times):\n",
    "    suscept_prop = suscept / pop\n",
    "    infect_contribution_by_day = incidence[:t] * gen_time_densities[:t][::-1] * r0\n",
    "    this_inc = infect_contribution_by_day.sum() * suscept_prop * process_vals[t]\n",
    "    incidence[t] = this_inc\n",
    "    suscept = max(suscept - this_inc, 0.0)\n",
    "pd.Series(incidence).plot(labels={'index': 'day', 'value': 'incidence'})"
   ]
  }
 ],
 "metadata": {
  "kernelspec": {
   "display_name": "Python 3 (ipykernel)",
   "language": "python",
   "name": "python3"
  },
  "language_info": {
   "codemirror_mode": {
    "name": "ipython",
    "version": 3
   },
   "file_extension": ".py",
   "mimetype": "text/x-python",
   "name": "python",
   "nbconvert_exporter": "python",
   "pygments_lexer": "ipython3",
   "version": "3.10.0"
  }
 },
 "nbformat": 4,
 "nbformat_minor": 5
}
