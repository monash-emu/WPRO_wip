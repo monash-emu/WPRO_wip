{
 "cells": [
  {
   "cell_type": "markdown",
   "id": "d316eb3c-d354-439c-ad0b-e896bb350ce8",
   "metadata": {},
   "source": [
    "## Simpler code with basics of semi-mechanistic approach\n",
    "Now aiming to include both susceptible depletion and a variable reproduction number, we'll target:\n",
    "$\\\\i_t = R_t\\sum_{\\tau<t} i_\\tau g_{t-\\tau}$"
   ]
  },
  {
   "cell_type": "code",
   "execution_count": null,
   "id": "1a49b5a0-50c7-468d-acfa-0a9a5ea6e067",
   "metadata": {},
   "outputs": [],
   "source": [
    "from typing import Dict\n",
    "from scipy.stats import gamma\n",
    "import numpy as np\n",
    "import pandas as pd\n",
    "pd.options.plotting.backend = 'plotly'"
   ]
  },
  {
   "cell_type": "code",
   "execution_count": null,
   "id": "1a343bc7-c944-45a2-a089-839a5699ae66",
   "metadata": {},
   "outputs": [],
   "source": [
    "def get_gamma_params_from_mean_sd(req_mean: float, req_sd: float) -> Dict[str, float]:\n",
    "    var = req_sd ** 2.0\n",
    "    scale = var / req_mean\n",
    "    a = req_mean / scale\n",
    "    return {'a': a, 'scale': scale}"
   ]
  },
  {
   "cell_type": "code",
   "execution_count": null,
   "id": "37777223-4e4b-4b55-b6a0-122cf31a2ffa",
   "metadata": {},
   "outputs": [],
   "source": [
    "# Model parameters\n",
    "seed = 1.0\n",
    "gen_time_sd = 1.5\n",
    "gen_time_mean = 5.0"
   ]
  },
  {
   "cell_type": "code",
   "execution_count": null,
   "id": "fe26a7ad-e2a4-43b6-9e32-2482dd84089f",
   "metadata": {},
   "outputs": [],
   "source": [
    "# Generation time\n",
    "times = 40\n",
    "gamma_params = get_gamma_params_from_mean_sd(gen_time_mean, gen_time_sd)\n",
    "gen_time_densities = np.diff(gamma.cdf(range(times + 1), **gamma_params))"
   ]
  },
  {
   "cell_type": "code",
   "execution_count": null,
   "id": "7d052cd9-0332-492e-adbc-92a1207475f9",
   "metadata": {},
   "outputs": [],
   "source": [
    "# Variable reproduction number\n",
    "process_vals = [2.0, 2.0, 2.0, 2.0]\n",
    "process_times = np.linspace(0.0, times, len(process_vals))\n",
    "process_model_vals = np.interp(range(times), process_times, process_vals)"
   ]
  },
  {
   "cell_type": "code",
   "execution_count": null,
   "id": "7dbaa3b5-2310-4a3b-9d7e-acbabd3d3945",
   "metadata": {},
   "outputs": [],
   "source": [
    "# The model loop\n",
    "inc = np.zeros(times)\n",
    "inc[0] = seed\n",
    "pop = 100.0\n",
    "suscept = pop - seed\n",
    "for t in range(1, times):\n",
    "    this_inc = (inc[:t] * gen_time_densities[t-1::-1] * process_model_vals[:t]).sum() * suscept / pop\n",
    "    inc[t] = this_inc\n",
    "    suscept = max(suscept - this_inc, 0.0)"
   ]
  },
  {
   "cell_type": "code",
   "execution_count": null,
   "id": "7c3bef00-e66b-4322-943c-093d17223be6",
   "metadata": {},
   "outputs": [],
   "source": [
    "pd.Series(inc).plot(labels={'index': 'day', 'value': 'incidence'})"
   ]
  }
 ],
 "metadata": {
  "kernelspec": {
   "display_name": "Python 3 (ipykernel)",
   "language": "python",
   "name": "python3"
  },
  "language_info": {
   "codemirror_mode": {
    "name": "ipython",
    "version": 3
   },
   "file_extension": ".py",
   "mimetype": "text/x-python",
   "name": "python",
   "nbconvert_exporter": "python",
   "pygments_lexer": "ipython3",
   "version": "3.10.0"
  }
 },
 "nbformat": 4,
 "nbformat_minor": 5
}
