{
 "cells": [
  {
   "cell_type": "markdown",
   "id": "d316eb3c-d354-439c-ad0b-e896bb350ce8",
   "metadata": {},
   "source": [
    "## Semi-mechanistic modelling exploration\n",
    "Thinking about this equation in Faria, et al:\n",
    "$\\\\i_{s,t} = (1-\\frac{n_{s,t}}{N})R_{s,t}\\sum_{\\tau<t} i_{s,\\tau}g_{t-\\tau}$\n",
    "\n",
    "For me, this is a more standard \"semi-mechanistic\" modelling approach,\n",
    "in that the population is not explicitly partitioned into categories or compartments.\n",
    "It is partitioned in this way for our standard compartmental models,\n",
    "including both standard SEIR `summer` models, \n",
    "as well as Romain's semi-mechanistic models,\n",
    "which are compartmental with an additional non-mechanistic random walk \n",
    "flow adjustment.\n",
    "\n",
    "First, ignoring strains, I'll consider:\n",
    "$\\\\i_t = (1-\\frac{n_t}{N})R_t\\sum_{\\tau<t} i_{\\tau}g_{t-\\tau}$\n",
    "\n",
    "For now, I'll also ignore susceptible depletion and a varying reproduction number, and so consider:\n",
    "$\\\\i_t = R_0\\sum_{\\tau<t} i_\\tau g_{t-\\tau}$\n",
    "\n",
    "This notebook builds up the basic code from the first principles,\n",
    "checking with each extension that the results we are getting back are the same\n",
    "as in the previous, more explicit version."
   ]
  },
  {
   "cell_type": "code",
   "execution_count": null,
   "id": "1a49b5a0-50c7-468d-acfa-0a9a5ea6e067",
   "metadata": {},
   "outputs": [],
   "source": [
    "from typing import Dict\n",
    "from scipy.stats import gamma\n",
    "import numpy as np\n",
    "import pandas as pd\n",
    "pd.options.plotting.backend = 'plotly'"
   ]
  },
  {
   "cell_type": "markdown",
   "id": "e3136042-a7b8-4887-9a3e-9f87525f4e22",
   "metadata": {},
   "source": [
    "Get some sort of distribution we can sensibly use for the generation time"
   ]
  },
  {
   "cell_type": "code",
   "execution_count": null,
   "id": "1a343bc7-c944-45a2-a089-839a5699ae66",
   "metadata": {},
   "outputs": [],
   "source": [
    "def get_gamma_params_from_mean_sd(req_mean: float, req_sd: float) -> Dict[str, float]:\n",
    "    var = req_sd ** 2.0\n",
    "    scale = var / req_mean\n",
    "    a = req_mean / scale\n",
    "    return {'a': a, 'scale': scale}"
   ]
  },
  {
   "cell_type": "code",
   "execution_count": null,
   "id": "37777223-4e4b-4b55-b6a0-122cf31a2ffa",
   "metadata": {},
   "outputs": [],
   "source": [
    "# Model parameters\n",
    "times = 20\n",
    "incidence = np.zeros(times)\n",
    "seed = 1.0\n",
    "incidence[0] = seed\n",
    "r0 = 2.0"
   ]
  },
  {
   "cell_type": "code",
   "execution_count": null,
   "id": "2c11d36e-d841-44d8-a42d-3b59ae16487f",
   "metadata": {},
   "outputs": [],
   "source": [
    "# Generation time parameters\n",
    "req_sd = 1.5\n",
    "req_mean = 5.0\n",
    "gamma_params = get_gamma_params_from_mean_sd(req_mean, req_sd)\n",
    "gen_time_densities = np.diff(gamma.cdf(range(times + 1), **gamma_params))"
   ]
  },
  {
   "cell_type": "code",
   "execution_count": null,
   "id": "820f801d-d03f-49b2-9730-42a19e2241a0",
   "metadata": {},
   "outputs": [],
   "source": [
    "pd.Series(gen_time_densities, index=range(times)).plot()"
   ]
  },
  {
   "cell_type": "markdown",
   "id": "3bf8f7a5-d9a4-4724-9d67-bcc079f9a7c3",
   "metadata": {},
   "source": [
    "Looping in Python, with pre-calculated generation times"
   ]
  },
  {
   "cell_type": "code",
   "execution_count": null,
   "id": "9953951d-c3e6-4b7e-a34c-0ba04c5878b7",
   "metadata": {},
   "outputs": [],
   "source": [
    "for t in range(1, times):\n",
    "    val = 0\n",
    "    for tau in range(t):  # For each day preceding the day of interest\n",
    "        delay = t - tau  # The time period from each preceding day to the day of interest\n",
    "        val += incidence[tau] * gen_time_densities[delay] * r0  # Increment the value for the day of interest\n",
    "    incidence[t] = val"
   ]
  },
  {
   "cell_type": "code",
   "execution_count": null,
   "id": "b01fd33a-faa5-485a-a2d1-db71b762cfc0",
   "metadata": {},
   "outputs": [],
   "source": [
    "incidence"
   ]
  },
  {
   "cell_type": "markdown",
   "id": "79049f42-ea25-4774-b241-c50b36606aa7",
   "metadata": {},
   "source": [
    "Get rid of one loop to get lists/arrays for the incidence and generation time distribution"
   ]
  },
  {
   "cell_type": "code",
   "execution_count": null,
   "id": "5c5d2fe8-96fb-4534-b185-7c02bbdb7ffb",
   "metadata": {},
   "outputs": [],
   "source": [
    "for t in range(1, times):\n",
    "    delays = [t - tau for tau in range(t)]\n",
    "    gammas = gen_time_densities[delays]\n",
    "    incidence[t] = (incidence[:t] * gammas).sum() * r0"
   ]
  },
  {
   "cell_type": "code",
   "execution_count": null,
   "id": "3f3cddb9-7587-47a6-96d4-b4c35f065c74",
   "metadata": {},
   "outputs": [],
   "source": [
    "incidence"
   ]
  },
  {
   "cell_type": "markdown",
   "id": "d417c5c5-b6c5-4e68-9552-87a76fe24af7",
   "metadata": {},
   "source": [
    "This is going to just keep going up exponentially, of course, because $R_{0} > 1$ and there is no susceptible depletion"
   ]
  },
  {
   "cell_type": "code",
   "execution_count": null,
   "id": "04a5bc8b-65f9-4375-ac92-f639be572dff",
   "metadata": {},
   "outputs": [],
   "source": [
    "for t in range(1, times):\n",
    "    incidence[t] = (incidence[:t] * gen_time_densities[t:0:-1]).sum() * r0"
   ]
  },
  {
   "cell_type": "code",
   "execution_count": null,
   "id": "55ba0682-39d5-4e2e-a43d-744400e2c4de",
   "metadata": {},
   "outputs": [],
   "source": [
    "incidence"
   ]
  },
  {
   "cell_type": "code",
   "execution_count": null,
   "id": "7c3bef00-e66b-4322-943c-093d17223be6",
   "metadata": {},
   "outputs": [],
   "source": [
    "pd.Series(incidence).plot(labels={'index': 'day', 'value': 'incidence'})"
   ]
  },
  {
   "cell_type": "markdown",
   "id": "c78e9349-423b-4b43-9fc0-b4d2ab5c17ad",
   "metadata": {},
   "source": [
    "Already some interesting phenomena there, \n",
    "in that the humps are the generations of cases from the first seeding infection,\n",
    "which progressively smooth into one-another with generations of cases.\n",
    "That's it for now.\n",
    "Next step is that I'll try to incorporate the depletion of susceptibles."
   ]
  }
 ],
 "metadata": {
  "kernelspec": {
   "display_name": "Python 3 (ipykernel)",
   "language": "python",
   "name": "python3"
  },
  "language_info": {
   "codemirror_mode": {
    "name": "ipython",
    "version": 3
   },
   "file_extension": ".py",
   "mimetype": "text/x-python",
   "name": "python",
   "nbconvert_exporter": "python",
   "pygments_lexer": "ipython3",
   "version": "3.10.0"
  }
 },
 "nbformat": 4,
 "nbformat_minor": 5
}
