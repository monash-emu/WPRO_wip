{
 "cells": [
  {
   "cell_type": "markdown",
   "id": "d316eb3c-d354-439c-ad0b-e896bb350ce8",
   "metadata": {},
   "source": [
    "## Try out a simple optimisation routine with scipy's `minimize` function\n",
    "Using the same model as in the previous notebook,\n",
    "get an arbitrarily chosen (local) optimisation algorithm running.\n",
    "$\\\\i_t = R_t\\sum_{\\tau<t} i_\\tau g_{t-\\tau}$\n",
    "So that we can start using these various model components in more sophisticated ways,\n",
    "I'll begin writing the code as properly encapsulated functions\n",
    "and tracking a few key model quantities."
   ]
  },
  {
   "cell_type": "code",
   "execution_count": null,
   "id": "1a49b5a0-50c7-468d-acfa-0a9a5ea6e067",
   "metadata": {},
   "outputs": [],
   "source": [
    "from typing import Dict, List\n",
    "import numpy as np\n",
    "import pandas as pd\n",
    "from scipy.optimize import minimize, shgo\n",
    "\n",
    "from distributions import get_gamma_params_from_mean_sd, get_gamma_densities_from_params\n",
    "from outputs import Outputs, plot_output_fit"
   ]
  },
  {
   "cell_type": "code",
   "execution_count": null,
   "id": "d3299a2b-b443-45a8-aa27-a3c90e575b8e",
   "metadata": {},
   "outputs": [],
   "source": [
    "def renew(gen_time_densities, process_vals, pop, seed, n_times) -> Outputs:\n",
    "    \"\"\"The renewal process.\n",
    "    \"\"\"\n",
    "    incidence = np.zeros(n_times)\n",
    "    suscept = np.zeros(n_times)\n",
    "    r_t = np.zeros(n_times)\n",
    "\n",
    "    incidence[0] = seed\n",
    "    suscept[0] = pop - seed\n",
    "    r_t[0] = process_vals[0] * suscept[0] / pop\n",
    "    \n",
    "    for t in range(1, n_times):\n",
    "        contribution_by_day = incidence[:t] * gen_time_densities[:t][::-1]  # Product of incidence values and reversed generation times\n",
    "        r_t[t] = process_vals[t] * suscept[t - 1] / pop  # Pre-specified process by the proportion susceptible\n",
    "        incidence[t] = contribution_by_day.sum() * r_t[t]  # Incidence\n",
    "        suscept[t] = max(suscept[t - 1] - incidence[t], 0.0)  # Zero out any small negative susceptible values\n",
    "        \n",
    "    return Outputs(incidence, suscept, r_t)\n",
    "\n",
    "def get_interp_vals_over_model_time(req: List[float], n_times: int) -> np.array:\n",
    "    \"\"\"Linear interpolation at requested values at regular intervals over simulation period.\n",
    "    \"\"\"\n",
    "    return np.interp(range(n_times), np.linspace(0.0, n_times, len(req)), req)\n",
    "\n",
    "def model_func(gen_time_mean: float, gen_time_sd: float, process_req: List[float], pop: int, seed: int, n_times: int) -> tuple:\n",
    "    \"\"\"The other epidemiological aspects of the model.\n",
    "    \"\"\"\n",
    "    gen_time_densities = get_gamma_densities_from_params(gen_time_mean, gen_time_sd, n_times)\n",
    "    process_vals = get_interp_vals_over_model_time(process_req, n_times)\n",
    "    process_vals_exp = np.exp(np.array(process_vals))\n",
    "    model_result = renew(gen_time_densities, process_vals_exp, pop, seed, n_times)\n",
    "    return model_result, process_vals_exp\n",
    "\n",
    "def process_calib_func(parameters: List[float], gen_time_mean, gen_time_sd, pop: int, seed: int, n_times: int, targets: dict) -> float:\n",
    "    incidence = model_func(gen_time_mean, gen_time_sd, parameters, pop, seed, n_times)[0][0]\n",
    "    return sum([(incidence[t] - d) ** 2 for t, d in targets.items()])    \n",
    "\n",
    "def all_param_calib_func(parameters: List[float], pop: int, seed: int, n_times: int, targets: dict) -> float:\n",
    "    \"\"\"Get the loss function from the model.\n",
    "    \"\"\"\n",
    "    gen_time_mean, gen_time_sd, *process_req = parameters\n",
    "    incidence = model_func(gen_time_mean, gen_time_sd, process_req, pop, seed, n_times)[0][0]\n",
    "    return sum([(incidence[t] - d) ** 2 for t, d in targets.items()])"
   ]
  },
  {
   "cell_type": "markdown",
   "id": "d3b4803a-137d-4990-a184-1019ec86879b",
   "metadata": {},
   "source": [
    "### Parameters and targets\n",
    "Set up some basic parameters and targets"
   ]
  },
  {
   "cell_type": "code",
   "execution_count": null,
   "id": "37777223-4e4b-4b55-b6a0-122cf31a2ffa",
   "metadata": {},
   "outputs": [],
   "source": [
    "n_times = 40\n",
    "infectious_seed = 1.0\n",
    "population = 100.0\n",
    "dummy_data = pd.Series(\n",
    "    {\n",
    "        5: 1.0,\n",
    "        10: 1.0,\n",
    "        15: 1.5,\n",
    "        25: 4.2,\n",
    "        30: 3.8,\n",
    "        35: 2.1,\n",
    "    },\n",
    ")"
   ]
  },
  {
   "cell_type": "markdown",
   "id": "26d42533-c135-4c09-a22f-12b64c101fe1",
   "metadata": {},
   "source": [
    "### Local optimisation with process values only\n",
    "Here is an optimisation algorithm applied to these dummy data.\n",
    "It works for this simple case, but I have tried out more\n",
    "complex data to optimise to and it quickly breaks down."
   ]
  },
  {
   "cell_type": "code",
   "execution_count": null,
   "id": "c6b9ae51-c010-4d9b-9e04-5da164127b0d",
   "metadata": {},
   "outputs": [],
   "source": [
    "param_bounds = [[-1000.0, np.log(10.0)]] * 4\n",
    "gen_time_mean = 5.5\n",
    "gen_time_sd = 1.7\n",
    "result = minimize(process_calib_func, [np.log(2.0)] * 4, method='Nelder-Mead', args=(gen_time_mean, gen_time_sd, population, infectious_seed, n_times, dummy_data), bounds=param_bounds)\n",
    "model_result, process_vals = model_func(gen_time_mean, gen_time_sd, result.x, population, infectious_seed, n_times)\n",
    "optimised, suscept, r_t = model_result\n",
    "plot_output_fit(dummy_data.to_dict(), model_result, process_vals, n_times)"
   ]
  },
  {
   "cell_type": "markdown",
   "id": "beca7386-b374-4be0-8913-bb07b43564da",
   "metadata": {
    "tags": []
   },
   "source": [
    "### Local optimisation including the generation time-related parameters"
   ]
  },
  {
   "cell_type": "code",
   "execution_count": null,
   "id": "4d852142-63be-4a0e-80fc-22aeff302b22",
   "metadata": {},
   "outputs": [],
   "source": [
    "param_bounds = [[5.0, 6.0]] + [[1.5, 2.0]] + [[-10000.0, np.log(10.0)]] * 4\n",
    "result = minimize(all_param_calib_func, [5.0, 1.5] + [np.log(2.0)] * 4, method='Nelder-Mead', args=(population, infectious_seed, n_times, dummy_data), bounds=param_bounds)\n",
    "model_result, process_vals = model_func(result.x[0], result.x[1], result.x[2:], population, infectious_seed, n_times)\n",
    "optimised, suscept, r_t = model_result\n",
    "plot_output_fit(dummy_data.to_dict(), model_result, process_vals, n_times)"
   ]
  },
  {
   "cell_type": "markdown",
   "id": "87d954d5-2437-477e-bd67-35c64981f092",
   "metadata": {},
   "source": [
    "### Calibrate to outputs produced by model\n",
    "Check that the optimisation algorithm can recover\n",
    "the parameters used in generating some arbitrary data.\n",
    "This does seem a little more robust and works \n",
    "for a broad range of parameter inputs I have\n",
    "tried, and can find the optimimum even with quite\n",
    "broad parameter bounds."
   ]
  },
  {
   "cell_type": "code",
   "execution_count": null,
   "id": "df78149a-a282-4a1f-9933-c7156edc3f83",
   "metadata": {},
   "outputs": [],
   "source": [
    "model_times = pd.Series(range(n_times))\n",
    "test_params = [5.5, 1.8, np.log(1.8), np.log(2.5), np.log(1.6), np.log(0.7)]\n",
    "test_data, _ = model_func(test_params[0], test_params[1], test_params[2:], population, infectious_seed, n_times)\n",
    "test_vals = {t: d for t, d in zip(model_times, test_data.incidence)}"
   ]
  },
  {
   "cell_type": "code",
   "execution_count": null,
   "id": "0afe849e-392b-4d2c-8722-8c41c0d108ca",
   "metadata": {},
   "outputs": [],
   "source": [
    "# Global optimisation with shgo - need to capture arguments through closure due to bug in optimisation function\n",
    "# as per comment at https://stackoverflow.com/questions/72794609/scipy-issue-passing-arguments-to-optimize-shgo-function\n",
    "param_bounds = [[0.1, 10.0]] + [[0.1, 4.0]] + [[np.log(1.0), np.log(5.0)]] * 4\n",
    "global_result = shgo(lambda x, p=population, s=infectious_seed, t=n_times, d=test_vals: all_param_calib_func(x, p, s, t, d), param_bounds)\n",
    "model_result, process_vals = model_func(global_result.x[0], global_result.x[1], global_result.x[2:], population, infectious_seed, n_times)\n",
    "optimised, suscept, r_t = model_result\n",
    "print(global_result.x[:2])\n",
    "print(np.exp(np.array(global_result.x[2:])))\n",
    "plot_output_fit(test_vals, model_result, process_vals, n_times)"
   ]
  }
 ],
 "metadata": {
  "kernelspec": {
   "display_name": "Python 3 (ipykernel)",
   "language": "python",
   "name": "python3"
  },
  "language_info": {
   "codemirror_mode": {
    "name": "ipython",
    "version": 3
   },
   "file_extension": ".py",
   "mimetype": "text/x-python",
   "name": "python",
   "nbconvert_exporter": "python",
   "pygments_lexer": "ipython3",
   "version": "3.10.0"
  }
 },
 "nbformat": 4,
 "nbformat_minor": 5
}
