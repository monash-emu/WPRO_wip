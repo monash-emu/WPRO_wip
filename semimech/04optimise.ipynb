{
 "cells": [
  {
   "cell_type": "markdown",
   "id": "d316eb3c-d354-439c-ad0b-e896bb350ce8",
   "metadata": {},
   "source": [
    "## Try out a simple optimisation routine with scipy's minimize function\n",
    "Using the same model as in the previous notebook.\n",
    "$\\\\i_t = R_t\\sum_{\\tau<t} i_\\tau g_{t-\\tau}$"
   ]
  },
  {
   "cell_type": "code",
   "execution_count": null,
   "id": "1a49b5a0-50c7-468d-acfa-0a9a5ea6e067",
   "metadata": {},
   "outputs": [],
   "source": [
    "from typing import Dict\n",
    "from scipy.stats import gamma\n",
    "import numpy as np\n",
    "import pandas as pd\n",
    "from plotly import graph_objects as go\n",
    "from plotly.subplots import make_subplots\n",
    "from scipy.optimize import minimize"
   ]
  },
  {
   "cell_type": "code",
   "execution_count": null,
   "id": "1a343bc7-c944-45a2-a089-839a5699ae66",
   "metadata": {},
   "outputs": [],
   "source": [
    "def get_gamma_params_from_mean_sd(req_mean: float, req_sd: float) -> Dict[str, float]:\n",
    "    var = req_sd ** 2.0\n",
    "    scale = var / req_mean\n",
    "    a = req_mean / scale\n",
    "    return {'a': a, 'scale': scale}"
   ]
  },
  {
   "cell_type": "code",
   "execution_count": null,
   "id": "37777223-4e4b-4b55-b6a0-122cf31a2ffa",
   "metadata": {},
   "outputs": [],
   "source": [
    "# Model parameters\n",
    "seed = 1.0\n",
    "gen_time_sd = 1.5\n",
    "gen_time_mean = 5.0"
   ]
  },
  {
   "cell_type": "code",
   "execution_count": null,
   "id": "fe26a7ad-e2a4-43b6-9e32-2482dd84089f",
   "metadata": {},
   "outputs": [],
   "source": [
    "# Generation time\n",
    "times = 40\n",
    "gamma_params = get_gamma_params_from_mean_sd(gen_time_mean, gen_time_sd)\n",
    "gen_time_densities = np.diff(gamma.cdf(range(times + 1), **gamma_params))"
   ]
  },
  {
   "cell_type": "code",
   "execution_count": null,
   "id": "8fe39b91-e99d-4e06-b917-84f17a2ea3ef",
   "metadata": {},
   "outputs": [],
   "source": [
    "dummy_data = pd.Series(\n",
    "    {\n",
    "        5: 1.0,\n",
    "        10: 1.0,\n",
    "        15: 1.5,\n",
    "        25: 4.2,\n",
    "        30: 3.8,\n",
    "        35: 2.1,\n",
    "    },\n",
    ")"
   ]
  },
  {
   "cell_type": "code",
   "execution_count": null,
   "id": "d3299a2b-b443-45a8-aa27-a3c90e575b8e",
   "metadata": {},
   "outputs": [],
   "source": [
    "def model_func(process_req):\n",
    "    process_times = np.linspace(0.0, times, len(process_req))\n",
    "    process_vals = np.interp(range(times), process_times, process_req)\n",
    "    incidence = np.zeros(times)\n",
    "    incidence[0] = seed\n",
    "    pop = 100.0\n",
    "    suscept = pop - seed\n",
    "    suscept_dict = {}\n",
    "    r_t = {}\n",
    "    for t in range(1, times):\n",
    "        suscept_prop = suscept / pop\n",
    "        infect_contribution_by_day = incidence[:t] * gen_time_densities[t-1::-1]\n",
    "        this_inc = infect_contribution_by_day.sum() * suscept_prop * process_vals[t]\n",
    "        r_t[t] = gen_time_densities[t-1::-1].sum() * suscept_prop * process_vals[t]\n",
    "        incidence[t] = this_inc\n",
    "        suscept = max(suscept - this_inc, 0.0)\n",
    "        suscept_dict[t] = suscept\n",
    "    incidence_df = pd.Series(incidence, index=range(times))\n",
    "    return incidence_df, pd.Series(suscept_dict), pd.Series(r_t)\n",
    "\n",
    "def calib_func(process_req):    \n",
    "    incidence_df, _, _ = model_func(process_req)\n",
    "    return sum([(incidence_df[t] - d) ** 2 for t, d in dummy_data.items()])"
   ]
  },
  {
   "cell_type": "code",
   "execution_count": null,
   "id": "4d852142-63be-4a0e-80fc-22aeff302b22",
   "metadata": {},
   "outputs": [],
   "source": [
    "result = minimize(calib_func, [1.0] * 4, method='Nelder-Mead')\n",
    "process_times = np.linspace(0.0, times, len(result.x))\n",
    "process_df = pd.Series(result.x, index=process_times)\n",
    "optimised_df, suscept_df, r_t = model_func(result.x)"
   ]
  },
  {
   "cell_type": "code",
   "execution_count": null,
   "id": "ee3e9319-4d6e-4a69-b965-e495c4910755",
   "metadata": {},
   "outputs": [],
   "source": [
    "fig = make_subplots(specs=[[{'secondary_y': True}]])\n",
    "fig.add_trace(go.Scatter(x=dummy_data.index, y=dummy_data, mode='markers', name='targets'))\n",
    "fig.add_trace(go.Scatter(x=optimised_df.index, y=optimised_df, name='model'))\n",
    "fig.add_trace(go.Scatter(x=process_df.index, y=process_df, name='transmission potential'))\n",
    "fig.add_trace(go.Scatter(x=suscept_df.index, y=suscept_df, name='susceptibles'), secondary_y=True)\n",
    "fig.add_trace(go.Scatter(x=r_t.index, y=r_t, name='Rt'))"
   ]
  }
 ],
 "metadata": {
  "kernelspec": {
   "display_name": "Python 3 (ipykernel)",
   "language": "python",
   "name": "python3"
  },
  "language_info": {
   "codemirror_mode": {
    "name": "ipython",
    "version": 3
   },
   "file_extension": ".py",
   "mimetype": "text/x-python",
   "name": "python",
   "nbconvert_exporter": "python",
   "pygments_lexer": "ipython3",
   "version": "3.10.0"
  }
 },
 "nbformat": 4,
 "nbformat_minor": 5
}
