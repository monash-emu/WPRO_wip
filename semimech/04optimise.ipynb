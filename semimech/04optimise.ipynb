{
 "cells": [
  {
   "cell_type": "markdown",
   "id": "d316eb3c-d354-439c-ad0b-e896bb350ce8",
   "metadata": {},
   "source": [
    "## Try out a simple optimisation routine with scipy's `minimize` function\n",
    "Using the same model as in the previous notebook,\n",
    "get an arbitrarily chosen (local) optimisation algorithm running.\n",
    "$\\\\i_t = R_t\\sum_{\\tau<t} i_\\tau g_{t-\\tau}$\n",
    "So that we can start using these various model components in more sophisticated ways,\n",
    "I'll begin writing the code as properly encapsulated functions\n",
    "and tracking a few key model quantities."
   ]
  },
  {
   "cell_type": "code",
   "execution_count": null,
   "id": "1a49b5a0-50c7-468d-acfa-0a9a5ea6e067",
   "metadata": {},
   "outputs": [],
   "source": [
    "from typing import List\n",
    "import numpy as np\n",
    "import pandas as pd\n",
    "pd.options.plotting.backend = 'plotly'\n",
    "from scipy.optimize import minimize, shgo\n",
    "import nevergrad as ng\n",
    "\n",
    "from emu_renewal.distributions import get_gamma_params_from_mean_sd, get_gamma_densities_from_params\n",
    "from emu_renewal.process import get_interp_vals_over_model_time\n",
    "from emu_renewal.renew import renew_basic\n",
    "from emu_renewal.outputs import Outputs, plot_output_fit"
   ]
  },
  {
   "cell_type": "code",
   "execution_count": null,
   "id": "d3299a2b-b443-45a8-aa27-a3c90e575b8e",
   "metadata": {},
   "outputs": [],
   "source": [
    "def model_func(gen_time_mean: float, gen_time_sd: float, process_req: List[float], pop: int, seed: int, n_times: int) -> tuple:\n",
    "    \"\"\"The common features of the model.\n",
    "    Get the generation time distribution from the user request,\n",
    "    linearly interpolate the non-mechanistic process,\n",
    "    exponentiate the result and run the renewal process.\n",
    "    \"\"\"\n",
    "    gen_time_densities = get_gamma_densities_from_params(gen_time_mean, gen_time_sd, n_times)\n",
    "    process_vals = get_interp_vals_over_model_time(process_req, n_times)\n",
    "    process_vals_exp = np.exp(np.array(process_vals))\n",
    "    model_result = renew_basic(gen_time_densities, process_vals_exp, pop, seed, n_times)\n",
    "    return model_result, process_vals_exp\n",
    "\n",
    "def process_calib_func(parameters: List[float], gen_time_mean, gen_time_sd, pop: int, seed: int, n_times: int, targets: dict) -> float:\n",
    "    \"\"\"Only optimise the non-mechanistic process parameters,\n",
    "    least squares loss function.\n",
    "    \"\"\"\n",
    "    incidence = model_func(gen_time_mean, gen_time_sd, parameters, pop, seed, n_times)[0][0]\n",
    "    return sum([(incidence[t] - d) ** 2 for t, d in targets.items()])    \n",
    "\n",
    "def all_param_calib_func(parameters: List[float], pop: int, seed: int, n_times: int, targets: dict) -> float:\n",
    "    \"\"\"Additionally include the generation time parameters as parameters,\n",
    "    least squares loss function.\n",
    "    \"\"\"\n",
    "    gen_time_mean, gen_time_sd, *process_req = parameters\n",
    "    incidence = model_func(gen_time_mean, gen_time_sd, process_req, pop, seed, n_times)[0][0]\n",
    "    return sum([(incidence[t] - d) ** 2 for t, d in targets.items()])"
   ]
  },
  {
   "cell_type": "markdown",
   "id": "d3b4803a-137d-4990-a184-1019ec86879b",
   "metadata": {},
   "source": [
    "### Parameters and targets\n",
    "Set up some basic parameters and targets"
   ]
  },
  {
   "cell_type": "code",
   "execution_count": null,
   "id": "37777223-4e4b-4b55-b6a0-122cf31a2ffa",
   "metadata": {},
   "outputs": [],
   "source": [
    "n_times = 40\n",
    "infectious_seed = 1.0\n",
    "population = 100.0\n",
    "dummy_data = pd.Series(\n",
    "    {\n",
    "        5: 1.0,\n",
    "        10: 1.0,\n",
    "        15: 1.5,\n",
    "        25: 4.2,\n",
    "        30: 3.8,\n",
    "        35: 2.1,\n",
    "    },\n",
    ")"
   ]
  },
  {
   "cell_type": "markdown",
   "id": "26d42533-c135-4c09-a22f-12b64c101fe1",
   "metadata": {},
   "source": [
    "### Local optimisation with process values only\n",
    "Optimisation algorithm applied to arbitrary dummy data.\n",
    "It works for this simple case, but quickly breaks down in many other use cases."
   ]
  },
  {
   "cell_type": "code",
   "execution_count": null,
   "id": "c6b9ae51-c010-4d9b-9e04-5da164127b0d",
   "metadata": {},
   "outputs": [],
   "source": [
    "param_bounds = [[-1000.0, np.log(10.0)]] * 4\n",
    "gen_time_mean = 5.5\n",
    "gen_time_sd = 1.7\n",
    "result = minimize(process_calib_func, [np.log(2.0)] * 4, method='Nelder-Mead', args=(gen_time_mean, gen_time_sd, population, infectious_seed, n_times, dummy_data), bounds=param_bounds)\n",
    "model_result, process_vals = model_func(gen_time_mean, gen_time_sd, result.x, population, infectious_seed, n_times)\n",
    "optimised, suscept, r_t = model_result\n",
    "plot_output_fit(dummy_data, model_result, process_vals, n_times)"
   ]
  },
  {
   "cell_type": "markdown",
   "id": "beca7386-b374-4be0-8913-bb07b43564da",
   "metadata": {
    "tags": []
   },
   "source": [
    "### Local optimisation including the generation time-related parameters\n",
    "As for previous analysis, but including generation time parameters in local optimisation."
   ]
  },
  {
   "cell_type": "code",
   "execution_count": null,
   "id": "4d852142-63be-4a0e-80fc-22aeff302b22",
   "metadata": {},
   "outputs": [],
   "source": [
    "param_bounds = [[5.0, 6.0]] + [[1.5, 2.0]] + [[-10000.0, np.log(10.0)]] * 4\n",
    "result = minimize(all_param_calib_func, [5.0, 1.5] + [np.log(2.0)] * 4, method='Nelder-Mead', args=(population, infectious_seed, n_times, dummy_data), bounds=param_bounds)\n",
    "model_result, process_vals = model_func(result.x[0], result.x[1], result.x[2:], population, infectious_seed, n_times)\n",
    "optimised, suscept, r_t = model_result\n",
    "plot_output_fit(dummy_data, model_result, process_vals, n_times)"
   ]
  },
  {
   "cell_type": "markdown",
   "id": "87d954d5-2437-477e-bd67-35c64981f092",
   "metadata": {},
   "source": [
    "### Calibrate to outputs produced by model\n",
    "Check that the optimisation algorithm can recover\n",
    "the parameters used in generating some arbitrary data.\n",
    "This actually worked better (closer fit to data)\n",
    "when using the raw process values rather than their logs."
   ]
  },
  {
   "cell_type": "code",
   "execution_count": null,
   "id": "df78149a-a282-4a1f-9933-c7156edc3f83",
   "metadata": {},
   "outputs": [],
   "source": [
    "model_times = pd.Series(range(n_times))\n",
    "test_process = [1.8, 2.5, 1.6, 0.7]\n",
    "test_data, _ = model_func(5.5, 1.8, np.log(test_process), population, infectious_seed, n_times)\n",
    "test_vals = pd.Series(test_data.incidence, index=model_times)"
   ]
  },
  {
   "cell_type": "code",
   "execution_count": null,
   "id": "0afe849e-392b-4d2c-8722-8c41c0d108ca",
   "metadata": {},
   "outputs": [],
   "source": [
    "# Global optimisation with shgo - need to capture arguments through closure due to bug in optimisation function\n",
    "# as per comment at https://stackoverflow.com/questions/72794609/scipy-issue-passing-arguments-to-optimize-shgo-function\n",
    "param_bounds = [[0.1, 10.0]] + [[0.1, 4.0]] + [[np.log(1.0), np.log(5.0)]] * 4\n",
    "global_result = shgo(lambda x, p=population, s=infectious_seed, t=n_times, d=test_vals: all_param_calib_func(x, p, s, t, d), param_bounds)\n",
    "model_result, process_vals = model_func(global_result.x[0], global_result.x[1], global_result.x[2:], population, infectious_seed, n_times)\n",
    "optimised, suscept, r_t = model_result\n",
    "print(test_process)\n",
    "print(np.exp(np.array(global_result.x[2:])))\n",
    "plot_output_fit(test_vals, model_result, process_vals, n_times)"
   ]
  },
  {
   "cell_type": "markdown",
   "id": "090d2941-b31f-4b2f-a463-72db3a705323",
   "metadata": {},
   "source": [
    "### Nevergrad optimisation with synthetic data\n",
    "Use NGOpt to optimise directly to the outputs from the model with known parameters."
   ]
  },
  {
   "cell_type": "code",
   "execution_count": null,
   "id": "35bd0cc9-6a4b-4b1a-a51a-1a996765ff76",
   "metadata": {},
   "outputs": [],
   "source": [
    "def obj_func(parameters):\n",
    "    return all_param_calib_func(parameters, pop=1e2, seed=1.0, n_times=n_times, targets=test_vals)\n",
    "optimizer = ng.optimizers.NGOpt(parametrization=6, budget=2000)\n",
    "ngopt_result = optimizer.minimize(obj_func)\n",
    "ngopt_output, ngopt_process = model_func(ngopt_result.value[0], ngopt_result.value[1], ngopt_result.value[2:], 1e2, 1.0, len(test_vals))\n",
    "print(test_process)\n",
    "print(np.exp(ngopt_result.value[2:]))\n",
    "plot_output_fit(test_vals, ngopt_output, ngopt_process, n_times)"
   ]
  },
  {
   "cell_type": "code",
   "execution_count": null,
   "id": "1d57a58a-c84f-4ccf-8baf-b79c4304176b",
   "metadata": {},
   "outputs": [],
   "source": [
    "gen_time_mean_param = ng.p.Scalar(init=5.0, lower=0.1, upper=10.0)\n",
    "gen_time_sd_param = ng.p.Scalar(init=1.0, lower=0.1, upper=4.0)\n",
    "process_param = ng.p.Array(init=[0.0] * 4, lower=-10.0, upper=10.0)\n",
    "instrum = ng.p.Instrumentation(gen_time_mean_param, gen_time_sd_param, process_param)\n",
    "def obj_func(gen_time_mean, gen_time_sd, parameters):\n",
    "    return all_param_calib_func([gen_time_mean, gen_time_sd] + list(parameters), pop=1e2, seed=1.0, n_times=n_times, targets=test_vals)\n",
    "optimizer = ng.optimizers.NGOpt(parametrization=instrum, budget=2000)\n",
    "ngopt_result = optimizer.minimize(obj_func).value[0]  # Only args, not kwargs\n",
    "ngopt_output, ngopt_process = model_func(ngopt_result[0], ngopt_result[1], ngopt_result[2], 1e2, 1.0, len(test_vals))\n",
    "print(ngopt_result[0])\n",
    "print(ngopt_result[1])\n",
    "print(test_process)\n",
    "print(np.exp(ngopt_result[2]))\n",
    "plot_output_fit(test_vals, ngopt_output, ngopt_process, n_times)"
   ]
  },
  {
   "cell_type": "markdown",
   "id": "47d4de3b-495c-4d15-99df-c22f9ad70beb",
   "metadata": {},
   "source": [
    "Doesn't work quite as well with `TwoPointsDE`."
   ]
  },
  {
   "cell_type": "code",
   "execution_count": null,
   "id": "ea83253d-9a37-4165-a58e-613bd64be8c7",
   "metadata": {},
   "outputs": [],
   "source": [
    "def obj_func(parameters):\n",
    "    return all_param_calib_func(parameters, pop=1e2, seed=1.0, n_times=n_times, targets=test_vals)\n",
    "optimizer = ng.optimizers.TwoPointsDE(parametrization=6, budget=10000)\n",
    "tpde_result = optimizer.minimize(obj_func)\n",
    "tpde_output, tpde_process = model_func(tpde_result.value[0], tpde_result.value[1], tpde_result.value[2:], 1e2, 1.0, len(test_vals))\n",
    "print(test_process)\n",
    "print(np.exp(tpde_result.value[2:]))\n",
    "plot_output_fit(test_vals, tpde_output, tpde_process, n_times)"
   ]
  },
  {
   "cell_type": "markdown",
   "id": "bbf2d766-f91b-4878-80ad-6d4ccb0f248c",
   "metadata": {},
   "source": [
    "### Nevergrad optimisation with jittered synthetic data\n",
    "NGOpt against synthetic data with jitter applied."
   ]
  },
  {
   "cell_type": "code",
   "execution_count": null,
   "id": "87da5ad0-cea0-4cfe-8910-2bce6105b747",
   "metadata": {},
   "outputs": [],
   "source": [
    "spread = 0.2\n",
    "jitter = pd.Series(np.random.normal(scale=spread, size=n_times) + 1.0)\n",
    "jittered_vals = test_vals * jitter\n",
    "def obj_func(parameters):\n",
    "    return all_param_calib_func(parameters, pop=1e2, seed=1.0, n_times=n_times, targets=jittered_vals)\n",
    "optimizer = ng.optimizers.NGOpt(parametrization=6, budget=10000)\n",
    "jitter_result = optimizer.minimize(obj_func)\n",
    "jitter_output, process_vals = model_func(jitter_result.value[0], jitter_result.value[1], jitter_result.value[2:], 1e2, 1.0, len(test_vals))\n",
    "print(test_process)\n",
    "print(np.exp(jitter_result.value[2:]))\n",
    "plot_output_fit(jittered_vals, jitter_output, process_vals, n_times)"
   ]
  }
 ],
 "metadata": {
  "kernelspec": {
   "display_name": "Python 3 (ipykernel)",
   "language": "python",
   "name": "python3"
  },
  "language_info": {
   "codemirror_mode": {
    "name": "ipython",
    "version": 3
   },
   "file_extension": ".py",
   "mimetype": "text/x-python",
   "name": "python",
   "nbconvert_exporter": "python",
   "pygments_lexer": "ipython3",
   "version": "3.10.11"
  }
 },
 "nbformat": 4,
 "nbformat_minor": 5
}
