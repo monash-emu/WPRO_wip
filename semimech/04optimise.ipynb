{
 "cells": [
  {
   "cell_type": "markdown",
   "id": "d316eb3c-d354-439c-ad0b-e896bb350ce8",
   "metadata": {},
   "source": [
    "## Try out a simple optimisation routine with scipy's `minimize` function\n",
    "Using the same model as in the previous notebook,\n",
    "get an arbitrarily chosen (local) optimisation algorithm running.\n",
    "$\\\\i_t = R_t\\sum_{\\tau<t} i_\\tau g_{t-\\tau}$\n",
    "So that we can start using these processes in more sophisticated ways,\n",
    "I'll begin writing the code as properly encapsulated functions."
   ]
  },
  {
   "cell_type": "code",
   "execution_count": null,
   "id": "1a49b5a0-50c7-468d-acfa-0a9a5ea6e067",
   "metadata": {},
   "outputs": [],
   "source": [
    "from typing import Dict, List\n",
    "from collections import namedtuple\n",
    "from scipy.stats import gamma\n",
    "import numpy as np\n",
    "import pandas as pd\n",
    "from plotly import graph_objects as go\n",
    "from plotly.subplots import make_subplots\n",
    "from scipy.optimize import minimize"
   ]
  },
  {
   "cell_type": "code",
   "execution_count": null,
   "id": "d3299a2b-b443-45a8-aa27-a3c90e575b8e",
   "metadata": {},
   "outputs": [],
   "source": [
    "Outputs = namedtuple('outputs', ['incidence', 'suscept', 'r_t'])\n",
    "\n",
    "def semimech(gen_time_densities, process_vals, pop, seed, n_times) -> Outputs:\n",
    "    \"\"\"The semimechanistic process.\n",
    "    \"\"\"\n",
    "    incidence = np.zeros(n_times)\n",
    "    suscept = np.zeros(n_times)\n",
    "    r_t = np.zeros(n_times)\n",
    "\n",
    "    incidence[0] = seed\n",
    "    suscept[0] = pop - seed\n",
    "    r_t[0] = np.nan\n",
    "    \n",
    "    for t in range(1, n_times):\n",
    "        \n",
    "        # Calculations\n",
    "        contribution_by_day = incidence[:t] * gen_time_densities[:t][::-1]  # Product of incidence values and reversed generation times\n",
    "        infect_modifier = process_vals[t] * suscept[t - 1] / pop  # Pre-specified process by the proportion susceptible\n",
    "        this_inc = contribution_by_day.sum() * infect_modifier  # Incidence\n",
    "        this_suscept = max(suscept[t - 1] - this_inc, 0.0)  # Zero out any small negative susceptible values\n",
    "\n",
    "        # Output tracking\n",
    "        incidence[t] = this_inc\n",
    "        suscept[t] = this_suscept\n",
    "        r_t[t] = gen_time_densities[t-1::-1].sum() * infect_modifier\n",
    "        \n",
    "    return Outputs(incidence, suscept, r_t)\n",
    "\n",
    "def get_gamma_params_from_mean_sd(req_mean: float, req_sd: float) -> Dict[str, float]:\n",
    "    \"\"\"Get values for constructive the gamma distribution from user requested mean and standard deviation.\n",
    "    \"\"\"\n",
    "    var = req_sd ** 2.0\n",
    "    scale = var / req_mean\n",
    "    a = req_mean / scale\n",
    "    return {'a': a, 'scale': scale}\n",
    "\n",
    "def get_gamma_densities_from_params(mean: float, sd: float) -> np.array:\n",
    "    \"\"\"Get integrals over integer differences in gamma distribution for simulation duration.\n",
    "    \"\"\"\n",
    "    params = get_gamma_params_from_mean_sd(mean, sd)\n",
    "    return np.diff(gamma.cdf(range(n_times + 1), **params))\n",
    "\n",
    "def get_interp_vals_over_model_time(req: List[float], n_times: int) -> np.array:\n",
    "    \"\"\"Linear interpolation at requested values at regular intervals over simulation period.\n",
    "    \"\"\"\n",
    "    return np.interp(range(n_times), np.linspace(0.0, n_times, len(req)), req)\n",
    "\n",
    "def model_func(gen_time_mean: float, gen_time_sd: float, process_req: List[float], pop: int, seed: int, n_times: int) -> tuple:\n",
    "    \"\"\"The other epidemiological aspects of the model.\n",
    "    \"\"\"\n",
    "    gen_time_densities = get_gamma_densities_from_params(gen_time_mean, gen_time_sd)\n",
    "    process_vals = get_interp_vals_over_model_time(process_req, n_times)\n",
    "    model_result = semimech(gen_time_densities, process_vals, pop, seed, n_times)\n",
    "    return model_result, process_vals\n",
    "\n",
    "def process_calib_func(parameters: List[float], gen_time_mean, gen_time_sd, pop: int, seed: int, n_times: int, targets: dict) -> float:\n",
    "    incidence = model_func(gen_time_mean, gen_time_sd, parameters, pop, seed, n_times)[0][0]\n",
    "    return sum([(incidence[t] - d) ** 2 for t, d in targets.items()])    \n",
    "\n",
    "def all_param_calib_func(parameters: List[float], pop: int, seed: int, n_times: int, targets: dict) -> float:\n",
    "    \"\"\"Get the loss function from the model.\n",
    "    \"\"\"\n",
    "    gen_time_mean, gen_time_sd, *process_req = parameters\n",
    "    incidence = model_func(gen_time_mean, gen_time_sd, process_req, pop, seed, n_times)[0][0]\n",
    "    return sum([(incidence[t] - d) ** 2 for t, d in targets.items()])\n",
    "\n",
    "def plot_output_fit(targets: Dict[int, float], result: Outputs, process_vals):\n",
    "    \"\"\"Plot results from a fitting attempt against the target data and show estimated random process.\n",
    "    \"\"\"\n",
    "    fitted, suscept, r_t = result\n",
    "    model_times = pd.Series(range(n_times))\n",
    "    fig = make_subplots(3, 1, shared_xaxes=True, vertical_spacing=0.05, subplot_titles=['incidence', 'reproduction number', 'susceptibles'])\n",
    "    fig.add_trace(go.Scatter(x=list(targets.keys()), y=list(targets.values()), mode='markers', name='targets'), row=1, col=1)\n",
    "    fig.add_trace(go.Scatter(x=model_times, y=fitted, name='model'), row=1, col=1)\n",
    "    fig.add_trace(go.Scatter(x=model_times, y=process_vals, name='transmission potential'), row=2, col=1)\n",
    "    fig.add_trace(go.Scatter(x=model_times, y=r_t, name='Rt'), row=2, col=1)\n",
    "    fig.add_trace(go.Scatter(x=model_times, y=suscept, name='susceptibles'), row=3, col=1)\n",
    "    return fig.update_layout(height=800, margin={'t': 20, 'b': 5, 'l': 5, 'r': 5})"
   ]
  },
  {
   "cell_type": "markdown",
   "id": "d3b4803a-137d-4990-a184-1019ec86879b",
   "metadata": {},
   "source": [
    "### Parameters and targets\n",
    "Set up some basic parameters and targets"
   ]
  },
  {
   "cell_type": "code",
   "execution_count": null,
   "id": "37777223-4e4b-4b55-b6a0-122cf31a2ffa",
   "metadata": {},
   "outputs": [],
   "source": [
    "n_times = 40\n",
    "infectious_seed = 1.0\n",
    "population = 100.0\n",
    "dummy_data = pd.Series(\n",
    "    {\n",
    "        5: 1.0,\n",
    "        10: 1.0,\n",
    "        15: 1.5,\n",
    "        25: 4.2,\n",
    "        30: 3.8,\n",
    "        35: 2.1,\n",
    "    },\n",
    ")"
   ]
  },
  {
   "cell_type": "markdown",
   "id": "26d42533-c135-4c09-a22f-12b64c101fe1",
   "metadata": {},
   "source": [
    "### Local optimisation with process values only"
   ]
  },
  {
   "cell_type": "code",
   "execution_count": null,
   "id": "c6b9ae51-c010-4d9b-9e04-5da164127b0d",
   "metadata": {},
   "outputs": [],
   "source": [
    "param_bounds = [[0.0, 10.0]] * 4\n",
    "gen_time_mean = 5.5\n",
    "gen_time_sd = 1.7\n",
    "result = minimize(process_calib_func, [2.0] * 4, method='Nelder-Mead', args=(gen_time_mean, gen_time_sd, population, infectious_seed, n_times, dummy_data), bounds=param_bounds)\n",
    "model_result, process_vals = model_func(gen_time_mean, gen_time_sd, result.x, population, infectious_seed, n_times)\n",
    "optimised, suscept, r_t = model_result\n",
    "plot_output_fit(dummy_data.to_dict(), model_result, process_vals)"
   ]
  },
  {
   "cell_type": "markdown",
   "id": "beca7386-b374-4be0-8913-bb07b43564da",
   "metadata": {},
   "source": [
    "### Local optimisation including the generation time-related parameters"
   ]
  },
  {
   "cell_type": "code",
   "execution_count": null,
   "id": "4d852142-63be-4a0e-80fc-22aeff302b22",
   "metadata": {},
   "outputs": [],
   "source": [
    "param_bounds = [[5.0, 6.0]] + [[1.5, 2.0]] + [[0.0, 10.0]] * 4\n",
    "result = minimize(all_param_calib_func, [5.0, 1.5] + [2.0] * 4, method='Nelder-Mead', args=(population, infectious_seed, n_times, dummy_data), bounds=param_bounds)\n",
    "model_result, process_vals = model_func(result.x[0], result.x[1], result.x[2:], population, infectious_seed, n_times)\n",
    "optimised, suscept, r_t = model_result\n",
    "plot_output_fit(dummy_data.to_dict(), model_result, process_vals)"
   ]
  }
 ],
 "metadata": {
  "kernelspec": {
   "display_name": "Python 3 (ipykernel)",
   "language": "python",
   "name": "python3"
  },
  "language_info": {
   "codemirror_mode": {
    "name": "ipython",
    "version": 3
   },
   "file_extension": ".py",
   "mimetype": "text/x-python",
   "name": "python",
   "nbconvert_exporter": "python",
   "pygments_lexer": "ipython3",
   "version": "3.10.0"
  }
 },
 "nbformat": 4,
 "nbformat_minor": 5
}
