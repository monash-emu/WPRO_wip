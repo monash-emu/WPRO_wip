{
 "cells": [
  {
   "cell_type": "markdown",
   "id": "d316eb3c-d354-439c-ad0b-e896bb350ce8",
   "metadata": {},
   "source": [
    "## Simpler code with basics of semi-mechanistic approach\n",
    "Again, thinking about this equation in Faria, et al:\n",
    "$\\\\i_{s,t} = (1-\\frac{n_{s,t}}{N})R_{s,t}\\sum_{\\tau<t} i_{s,\\tau}g_{t-\\tau}$\n",
    "\n",
    "And again reducing the complexity of this by ignoring strains, I'll consider:\n",
    "$\\\\i_t = (1-\\frac{n_t}{N})R_t\\sum_{\\tau<t} i_{\\tau}g_{t-\\tau}$\n",
    "\n",
    "Now aiming to include susceptible depletion and move to:\n",
    "$\\\\i_t = R_t\\sum_{\\tau<t} i_\\tau g_{t-\\tau}$"
   ]
  },
  {
   "cell_type": "code",
   "execution_count": null,
   "id": "1a49b5a0-50c7-468d-acfa-0a9a5ea6e067",
   "metadata": {},
   "outputs": [],
   "source": [
    "from typing import Dict\n",
    "from scipy.stats import gamma\n",
    "import numpy as np\n",
    "import pandas as pd\n",
    "pd.options.plotting.backend = 'plotly'"
   ]
  },
  {
   "cell_type": "markdown",
   "id": "e3136042-a7b8-4887-9a3e-9f87525f4e22",
   "metadata": {},
   "source": [
    "Get some sort of distribution we can sensibly use for the generation time"
   ]
  },
  {
   "cell_type": "code",
   "execution_count": null,
   "id": "1a343bc7-c944-45a2-a089-839a5699ae66",
   "metadata": {},
   "outputs": [],
   "source": [
    "def get_gamma_params_from_mean_sd(req_mean: float, req_sd: float) -> Dict[str, float]:\n",
    "    var = req_sd ** 2.0\n",
    "    scale = var / req_mean\n",
    "    a = req_mean / scale\n",
    "    return {'a': a, 'scale': scale}"
   ]
  },
  {
   "cell_type": "code",
   "execution_count": null,
   "id": "74d7c169-c978-4bf2-98ce-c20aa39ea6d3",
   "metadata": {},
   "outputs": [],
   "source": [
    "def update_inc(working_vals, time, gen_time_dens, r0):\n",
    "    return (working_vals[:time] * gen_time_dens[time-1::-1]).sum() * r0"
   ]
  },
  {
   "cell_type": "code",
   "execution_count": null,
   "id": "37777223-4e4b-4b55-b6a0-122cf31a2ffa",
   "metadata": {},
   "outputs": [],
   "source": [
    "# Model parameters\n",
    "seed = 1.0\n",
    "r0 = 2.0\n",
    "gen_time_sd = 1.5\n",
    "gen_time_mean = 5.0"
   ]
  },
  {
   "cell_type": "markdown",
   "id": "d417c5c5-b6c5-4e68-9552-87a76fe24af7",
   "metadata": {},
   "source": [
    "This is going to just keep going up exponentially, of course, because $R_{0} > 1$ and there is no susceptible depletion"
   ]
  },
  {
   "cell_type": "code",
   "execution_count": null,
   "id": "04a5bc8b-65f9-4375-ac92-f639be572dff",
   "metadata": {},
   "outputs": [],
   "source": [
    "gamma_params = get_gamma_params_from_mean_sd(gen_time_mean, gen_time_sd)\n",
    "times = 20\n",
    "inc = np.zeros(times)\n",
    "inc[0] = seed\n",
    "gen_time_densities = gamma.pdf(range(times), **gamma_params)\n",
    "for t in range(1, times):\n",
    "    inc[t] = update_inc(inc, t, gen_time_densities, r0)"
   ]
  },
  {
   "cell_type": "code",
   "execution_count": null,
   "id": "7c3bef00-e66b-4322-943c-093d17223be6",
   "metadata": {},
   "outputs": [],
   "source": [
    "pd.Series(inc).plot(labels={'index': 'day', 'value': 'incidence'})"
   ]
  },
  {
   "cell_type": "markdown",
   "id": "c78e9349-423b-4b43-9fc0-b4d2ab5c17ad",
   "metadata": {},
   "source": [
    "Already some interesting phenomena there, \n",
    "in that the humps are the generations of cases from the first seeding infection,\n",
    "which progressively smooth into one-another with generations of cases.\n",
    "That's it for now.\n",
    "Next step is that I'll try to incorporate the depletion of susceptibles."
   ]
  }
 ],
 "metadata": {
  "kernelspec": {
   "display_name": "Python 3 (ipykernel)",
   "language": "python",
   "name": "python3"
  },
  "language_info": {
   "codemirror_mode": {
    "name": "ipython",
    "version": 3
   },
   "file_extension": ".py",
   "mimetype": "text/x-python",
   "name": "python",
   "nbconvert_exporter": "python",
   "pygments_lexer": "ipython3",
   "version": "3.10.0"
  }
 },
 "nbformat": 4,
 "nbformat_minor": 5
}
