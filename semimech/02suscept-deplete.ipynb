{
 "cells": [
  {
   "cell_type": "markdown",
   "id": "d316eb3c-d354-439c-ad0b-e896bb350ce8",
   "metadata": {},
   "source": [
    "## Simpler code with basics of semi-mechanistic approach\n",
    "Again, thinking about this equation in Faria, et al:\n",
    "$\\\\i_{s,t} = (1-\\frac{n_{s,t}}{N})R_{s,t}\\sum_{\\tau<t} i_{s,\\tau}g_{t-\\tau}$\n",
    "\n",
    "And again reducing the complexity of this by ignoring strains,\n",
    "we'll now consider the equation with susceptible depletion included:\n",
    "$\\\\i_t = (1-\\frac{n_t}{N})R_t\\sum_{\\tau<t} i_{\\tau}g_{t-\\tau}$"
   ]
  },
  {
   "cell_type": "code",
   "execution_count": null,
   "id": "1a49b5a0-50c7-468d-acfa-0a9a5ea6e067",
   "metadata": {},
   "outputs": [],
   "source": [
    "from typing import Dict\n",
    "from scipy.stats import gamma\n",
    "import numpy as np\n",
    "import pandas as pd\n",
    "pd.options.plotting.backend = 'plotly'"
   ]
  },
  {
   "cell_type": "code",
   "execution_count": null,
   "id": "1a343bc7-c944-45a2-a089-839a5699ae66",
   "metadata": {},
   "outputs": [],
   "source": [
    "def get_gamma_params_from_mean_sd(req_mean: float, req_sd: float) -> Dict[str, float]:\n",
    "    var = req_sd ** 2.0\n",
    "    scale = var / req_mean\n",
    "    a = req_mean / scale\n",
    "    return {'a': a, 'scale': scale}"
   ]
  },
  {
   "cell_type": "code",
   "execution_count": null,
   "id": "37777223-4e4b-4b55-b6a0-122cf31a2ffa",
   "metadata": {},
   "outputs": [],
   "source": [
    "# Model parameters\n",
    "seed = 1.0\n",
    "r0 = 8.0\n",
    "gen_time_sd = 1.5\n",
    "gen_time_mean = 5.0"
   ]
  },
  {
   "cell_type": "code",
   "execution_count": null,
   "id": "fe26a7ad-e2a4-43b6-9e32-2482dd84089f",
   "metadata": {},
   "outputs": [],
   "source": [
    "# Generation time\n",
    "times = 40\n",
    "gamma_params = get_gamma_params_from_mean_sd(gen_time_mean, gen_time_sd)\n",
    "gen_time_densities = np.diff(gamma.cdf(range(times + 1), **gamma_params))\n",
    "pd.Series(gen_time_densities, index=range(times)).plot()"
   ]
  },
  {
   "cell_type": "code",
   "execution_count": null,
   "id": "04a5bc8b-65f9-4375-ac92-f639be572dff",
   "metadata": {},
   "outputs": [],
   "source": [
    "inc = np.zeros(times)\n",
    "inc[0] = seed\n",
    "pop = 100.0\n",
    "suscept = pop - seed\n",
    "for t in range(1, times):\n",
    "    this_inc = (inc[:t] * gen_time_densities[t-1::-1]).sum() * r0 * suscept / pop\n",
    "    inc[t] = this_inc\n",
    "    suscept = max(suscept - this_inc, 0.0)"
   ]
  },
  {
   "cell_type": "code",
   "execution_count": null,
   "id": "7c3bef00-e66b-4322-943c-093d17223be6",
   "metadata": {},
   "outputs": [],
   "source": [
    "pd.Series(inc).plot(labels={'index': 'day', 'value': 'incidence'})"
   ]
  },
  {
   "cell_type": "markdown",
   "id": "c78e9349-423b-4b43-9fc0-b4d2ab5c17ad",
   "metadata": {},
   "source": [
    "Now with susceptible depletion, we have an epi-curve that goes up in the initial phase with $R_0 > 1$,\n",
    "but comes back down as susceptibles are depleted and so $R_t$ falls below one."
   ]
  }
 ],
 "metadata": {
  "kernelspec": {
   "display_name": "Python 3 (ipykernel)",
   "language": "python",
   "name": "python3"
  },
  "language_info": {
   "codemirror_mode": {
    "name": "ipython",
    "version": 3
   },
   "file_extension": ".py",
   "mimetype": "text/x-python",
   "name": "python",
   "nbconvert_exporter": "python",
   "pygments_lexer": "ipython3",
   "version": "3.10.0"
  }
 },
 "nbformat": 4,
 "nbformat_minor": 5
}
