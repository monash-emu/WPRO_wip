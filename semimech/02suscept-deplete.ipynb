{
 "cells": [
  {
   "cell_type": "markdown",
   "id": "d316eb3c-d354-439c-ad0b-e896bb350ce8",
   "metadata": {},
   "source": [
    "## Susceptible depletion\n",
    "Building on the previous (`01basics`) notebook,\n",
    "we'll now start to think about susceptible depletion.\n",
    "\n",
    "Again, from this equation in Faria, et al:\n",
    "$\\\\i_{s,t} = (1-\\frac{n_{s,t}}{N})R_{s,t}\\sum_{\\tau<t} i_{s,\\tau}g_{t-\\tau}$\n",
    "\n",
    "And again reducing the complexity of this by ignoring strains,\n",
    "we'll now consider the equation with susceptible depletion included:\n",
    "$\\\\i_t = (1-\\frac{n_t}{N})R_t\\sum_{\\tau<t} i_{\\tau}g_{t-\\tau}$"
   ]
  },
  {
   "cell_type": "code",
   "execution_count": null,
   "id": "1a49b5a0-50c7-468d-acfa-0a9a5ea6e067",
   "metadata": {},
   "outputs": [],
   "source": [
    "from typing import Dict\n",
    "from scipy.stats import gamma\n",
    "import numpy as np\n",
    "import pandas as pd\n",
    "pd.options.plotting.backend = 'plotly'"
   ]
  },
  {
   "cell_type": "markdown",
   "id": "073b80cd-3c77-40a1-aa83-9cd3b2fd8cf1",
   "metadata": {
    "tags": []
   },
   "source": [
    "### Parameters\n",
    "Set model parameters, now including the population size.\n",
    "Also get the generation times as described previously."
   ]
  },
  {
   "cell_type": "code",
   "execution_count": null,
   "id": "37777223-4e4b-4b55-b6a0-122cf31a2ffa",
   "metadata": {},
   "outputs": [],
   "source": [
    "n_times = 40\n",
    "seed = 1.0\n",
    "r0 = 2.0\n",
    "pop = 100.0\n",
    "incidence = np.zeros(n_times)\n",
    "incidence[0] = seed\n",
    "gen_time_sd = 1.5\n",
    "gen_time_mean = 5.0\n",
    "\n",
    "def get_gamma_params_from_mean_sd(req_mean: float, req_sd: float) -> Dict[str, float]:\n",
    "    var = req_sd ** 2.0\n",
    "    scale = var / req_mean\n",
    "    a = req_mean / scale\n",
    "    return {'a': a, 'scale': scale}\n",
    "\n",
    "gamma_params = get_gamma_params_from_mean_sd(gen_time_mean, gen_time_sd)\n",
    "gen_time_densities = np.diff(gamma.cdf(range(n_times + 1), **gamma_params))"
   ]
  },
  {
   "cell_type": "markdown",
   "id": "2746bef5-d6c4-480c-b95b-ffbd64fdcd4e",
   "metadata": {},
   "source": [
    "### Model run\n",
    "Run the model with susceptible depletion,\n",
    "decrementing the susceptible population by the incidence at each step.\n",
    "We'll also zero out any negative values for the susceptibles\n",
    "that could occur if the time step is too large.\n",
    "For reasonable parameter values, these typically seem to be very small."
   ]
  },
  {
   "cell_type": "code",
   "execution_count": null,
   "id": "686d7b9a-abdd-40fb-8703-4d03a422a13f",
   "metadata": {},
   "outputs": [],
   "source": [
    "suscept = pop - seed\n",
    "for t in range(1, n_times):\n",
    "    suscept_prop = suscept / pop\n",
    "    infect_contribution_by_day = incidence[:t] * gen_time_densities[:t][::-1] * r0\n",
    "    this_inc = infect_contribution_by_day.sum() * suscept_prop\n",
    "    incidence[t] = this_inc\n",
    "    suscept = max(suscept - this_inc, 0.0)\n",
    "pd.Series(incidence).plot(labels={'index': 'day', 'value': 'incidence'})"
   ]
  },
  {
   "cell_type": "markdown",
   "id": "c78e9349-423b-4b43-9fc0-b4d2ab5c17ad",
   "metadata": {},
   "source": [
    "Now with susceptible depletion, we have an epi-curve that goes up in the initial phase with $R_0 > 1$,\n",
    "but comes back down as susceptibles are depleted and so $R_t$ falls below one."
   ]
  }
 ],
 "metadata": {
  "kernelspec": {
   "display_name": "Python 3 (ipykernel)",
   "language": "python",
   "name": "python3"
  },
  "language_info": {
   "codemirror_mode": {
    "name": "ipython",
    "version": 3
   },
   "file_extension": ".py",
   "mimetype": "text/x-python",
   "name": "python",
   "nbconvert_exporter": "python",
   "pygments_lexer": "ipython3",
   "version": "3.10.0"
  }
 },
 "nbformat": 4,
 "nbformat_minor": 5
}
