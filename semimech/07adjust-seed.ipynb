{
 "cells": [
  {
   "cell_type": "markdown",
   "id": "d316eb3c-d354-439c-ad0b-e896bb350ce8",
   "metadata": {},
   "source": [
    "### Warning, work in progress\n",
    "Trying to get models to actually fit to real-world\n",
    "data, with very limited success so far.\n",
    "Here I am exponentiating the random process values."
   ]
  },
  {
   "cell_type": "markdown",
   "id": "531d8192-1704-4e48-b220-4c43b257b693",
   "metadata": {},
   "source": [
    "Possible next steps:\n",
    "- Make the random walk actually a walk\n",
    "- Allow for time step other than one (possibly)\n",
    "- Distinguish infection time from symptom onset time"
   ]
  },
  {
   "cell_type": "code",
   "execution_count": null,
   "id": "1a49b5a0-50c7-468d-acfa-0a9a5ea6e067",
   "metadata": {},
   "outputs": [],
   "source": [
    "from typing import List\n",
    "import numpy as np\n",
    "import pandas as pd\n",
    "from datetime import datetime\n",
    "from scipy.optimize import minimize, shgo\n",
    "import nevergrad as ng\n",
    "\n",
    "from emu_renewal.distributions import get_gamma_params_from_mean_sd, get_gamma_densities_from_params\n",
    "# from emu_renewal.renew import renew_basic\n",
    "from emu_renewal.process import get_interp_vals_over_model_time\n",
    "from emu_renewal.outputs import Outputs, plot_output_fit"
   ]
  },
  {
   "cell_type": "code",
   "execution_count": null,
   "id": "882f4d94-4767-430b-8e75-b2a67df01bec",
   "metadata": {},
   "outputs": [],
   "source": [
    "def renew_basic(\n",
    "    gen_time_densities: np.array, \n",
    "    process_vals: np.array, \n",
    "    pop: float, \n",
    "    seed: float, \n",
    "    n_times: int,\n",
    ") -> Outputs:\n",
    "    incidence = np.zeros(n_times)\n",
    "    suscept = np.zeros(n_times)\n",
    "    r_t = np.zeros(n_times)\n",
    "    \n",
    "    start_index = 25\n",
    "\n",
    "    incidence[0] = seed\n",
    "    suscept[0] = pop - seed\n",
    "    r_t[0] = process_vals[0] * suscept[0] / pop\n",
    "    \n",
    "    for t in range(1, n_times):\n",
    "        r_t[t] = process_vals[t] * suscept[t - 1] / pop\n",
    "        if t < start_index:\n",
    "            incidence[t] = seed\n",
    "        else:\n",
    "            contribution_by_day = incidence[:t] * gen_time_densities[:t][::-1]\n",
    "            incidence[t] = contribution_by_day.sum() * r_t[t]\n",
    "        suscept[t] = max(suscept[t - 1] - incidence[t], 0.0)\n",
    "        \n",
    "    return Outputs(incidence, suscept, r_t)"
   ]
  },
  {
   "cell_type": "code",
   "execution_count": null,
   "id": "d3299a2b-b443-45a8-aa27-a3c90e575b8e",
   "metadata": {},
   "outputs": [],
   "source": [
    "def model_func(gen_time_mean: float, gen_time_sd: float, process_req: List[float], pop: int, seed: int, n_times: int) -> tuple:\n",
    "    \"\"\"The common features of the model.\n",
    "    Get the generation time distribution from the user request,\n",
    "    linearly interpolate the non-mechanistic process,\n",
    "    exponentiate the result and run the renewal process.\n",
    "    \"\"\"\n",
    "    gen_time_densities = get_gamma_densities_from_params(gen_time_mean, gen_time_sd, n_times)\n",
    "    process_vals = get_interp_vals_over_model_time(process_req, n_times)\n",
    "    process_vals_exp = np.exp(np.array(process_vals))\n",
    "    model_result = renew_basic(gen_time_densities, process_vals_exp, pop, seed, n_times)\n",
    "    return model_result, process_vals_exp\n",
    "\n",
    "def calib_func(parameters: List[float], pop: int, n_times: int, targets: dict) -> float:\n",
    "    \"\"\"Additionally include the generation time parameters as parameters,\n",
    "    least squares loss function.\n",
    "    \"\"\"\n",
    "    gen_time_mean, gen_time_sd, cdr, seed, *process_req = parameters\n",
    "    incidence = model_func(gen_time_mean, gen_time_sd, process_req, pop, seed, n_times)[0][0]\n",
    "    return sum([(incidence[t] * cdr - d) ** 2 for t, d in targets.items()])"
   ]
  },
  {
   "cell_type": "code",
   "execution_count": null,
   "id": "209cb833-ab7d-41b5-ac33-da70c5eb56d0",
   "metadata": {},
   "outputs": [],
   "source": [
    "raw_data = pd.read_csv('https://github.com/monash-emu/wpro_working/raw/main/data/new_cases.csv', index_col=0)['MYS']\n",
    "raw_data.index = pd.to_datetime(raw_data.index)\n",
    "mys_data = raw_data.loc[datetime(2021, 3, 1): datetime(2021, 11, 1)].reset_index()['MYS']\n",
    "n_times = len(mys_data)"
   ]
  },
  {
   "cell_type": "code",
   "execution_count": null,
   "id": "37777223-4e4b-4b55-b6a0-122cf31a2ffa",
   "metadata": {},
   "outputs": [],
   "source": [
    "# Fixed parameter\n",
    "population = 33e6"
   ]
  },
  {
   "cell_type": "code",
   "execution_count": null,
   "id": "bc7458b1-8c73-4e6d-9358-b9d056276fa0",
   "metadata": {},
   "outputs": [],
   "source": [
    "# Optimisation\n",
    "gen_time_mean_param = ng.p.Scalar(init=5.0, lower=0.1, upper=20.0)\n",
    "gen_time_sd_param = ng.p.Scalar(init=1.0, lower=0.1, upper=4.0)\n",
    "cdr_param = ng.p.Scalar(init=0.06, lower=0.04, upper=0.2)\n",
    "seed_param = ng.p.Scalar(init=1000.0, lower=99.0, upper=20000.0)\n",
    "process_param = ng.p.Array(init=[0.0] * 4, lower=-10.0, upper=10.0)\n",
    "instrum = ng.p.Instrumentation(gen_time_mean_param, gen_time_sd_param, cdr_param, seed_param, process_param)\n",
    "def obj_func(gen_time_mean, gen_time_sd, cdr_param, seed, parameters):\n",
    "    return calib_func([gen_time_mean, gen_time_sd, cdr_param, seed] + list(parameters), pop=population, n_times=n_times, targets=mys_data[20:])\n",
    "optimizer = ng.optimizers.NGOpt(parametrization=instrum, budget=2000)\n",
    "ngopt_result = optimizer.minimize(obj_func).value[0]"
   ]
  },
  {
   "cell_type": "code",
   "execution_count": null,
   "id": "c7f2f233-e997-48ed-b02c-1b1ffdcecc72",
   "metadata": {},
   "outputs": [],
   "source": [
    "# Reporting\n",
    "ngopt_output, ngopt_process = model_func(ngopt_result[0], ngopt_result[1], ngopt_result[4], 33e6, ngopt_result[3], n_times)\n",
    "print(f'generation time mean: {ngopt_result[0]}')\n",
    "print(f'generation time sd: {ngopt_result[1]}')\n",
    "print(f'cdr: {ngopt_result[2]}')\n",
    "print(f'seed: {ngopt_result[3]}')\n",
    "print('random process vals: ' + ', '.join([str(i) for i in ngopt_result[4:]]))\n",
    "plot_output_fit(mys_data[20:], ngopt_output, ngopt_process, n_times, cdr=ngopt_result[2])"
   ]
  }
 ],
 "metadata": {
  "kernelspec": {
   "display_name": "Python 3 (ipykernel)",
   "language": "python",
   "name": "python3"
  },
  "language_info": {
   "codemirror_mode": {
    "name": "ipython",
    "version": 3
   },
   "file_extension": ".py",
   "mimetype": "text/x-python",
   "name": "python",
   "nbconvert_exporter": "python",
   "pygments_lexer": "ipython3",
   "version": "3.10.0"
  }
 },
 "nbformat": 4,
 "nbformat_minor": 5
}
