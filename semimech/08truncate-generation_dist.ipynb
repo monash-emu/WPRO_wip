{
 "cells": [
  {
   "cell_type": "markdown",
   "id": "d316eb3c-d354-439c-ad0b-e896bb350ce8",
   "metadata": {},
   "source": [
    "## Try out a simple optimisation routine with scipy's minimize function\n",
    "Using the same model as in the previous notebook.\n",
    "$\\\\i_t = R_t\\sum_{\\tau<t} i_\\tau g_{t-\\tau}$"
   ]
  },
  {
   "cell_type": "markdown",
   "id": "531d8192-1704-4e48-b220-4c43b257b693",
   "metadata": {},
   "source": [
    "Possible next steps:\n",
    "- Allow for truncated generation time distribution\n",
    "- Make the random walk actually a walk\n",
    "- Fit to actual data"
   ]
  },
  {
   "cell_type": "code",
   "execution_count": null,
   "id": "1a49b5a0-50c7-468d-acfa-0a9a5ea6e067",
   "metadata": {},
   "outputs": [],
   "source": [
    "from typing import Dict, List\n",
    "from collections import namedtuple\n",
    "from scipy.stats import gamma\n",
    "import numpy as np\n",
    "import pandas as pd\n",
    "from plotly import graph_objects as go\n",
    "from plotly.subplots import make_subplots\n",
    "from scipy.optimize import minimize, shgo"
   ]
  },
  {
   "cell_type": "code",
   "execution_count": null,
   "id": "d3299a2b-b443-45a8-aa27-a3c90e575b8e",
   "metadata": {},
   "outputs": [],
   "source": [
    "Outputs = namedtuple('outputs', ['incidence', 'suscept', 'r_t'])\n",
    "\n",
    "gen_times_end = 20\n",
    "\n",
    "def semimech(gen_time_densities, process_vals, pop, seed, n_times) -> Outputs:\n",
    "    \"\"\"The semimechanistic process.\n",
    "    \"\"\"\n",
    "    incidence = np.zeros(n_times)\n",
    "    incidence[0] = seed\n",
    "    this_suscept = pop - seed\n",
    "    suscept = [this_suscept]\n",
    "    r_t = [np.nan]\n",
    "    for t in range(1, n_times):\n",
    "\n",
    "        # Update outputs\n",
    "        gen_times_interest = min(t, gen_times_end)\n",
    "        new_gen_times = gen_time_densities[:gen_times_interest][::-1]\n",
    "        new_inc_vals = incidence[t-gen_times_interest:t]\n",
    "        \n",
    "        infect_modifier = process_vals[t] * this_suscept / pop  # Product of pre-specified process value and proportion susceptible\n",
    "        infect_contribution_by_day = incidence[:t] * gen_time_densities[t-1::-1]  # Product of past incidence and their generation time densities\n",
    "        \n",
    "        \n",
    "        infect_contribution_by_day = incidence[t-gen_times_interest:t] * gen_time_densities[:gen_times_interest][::-1]\n",
    "        \n",
    "        \n",
    "        this_inc = infect_contribution_by_day.sum() * infect_modifier  # Incidence\n",
    "        this_suscept = max(this_suscept - this_inc, 0.0)  # Zero out any small negative values\n",
    "\n",
    "        # Track quantities of interest\n",
    "        incidence[t] = this_inc\n",
    "        suscept.append(this_suscept)\n",
    "        r_t.append(gen_time_densities[t-1::-1].sum() * infect_modifier)\n",
    "    return Outputs(incidence, suscept, r_t)\n",
    "\n",
    "def get_gamma_params_from_mean_sd(req_mean: float, req_sd: float) -> Dict[str, float]:\n",
    "    \"\"\"Get values for constructive the gamma distribution from user requested mean and standard deviation.\n",
    "    \"\"\"\n",
    "    var = req_sd ** 2.0\n",
    "    scale = var / req_mean\n",
    "    a = req_mean / scale\n",
    "    return {'a': a, 'scale': scale}\n",
    "\n",
    "def get_gamma_densities_from_params(mean: float, sd: float) -> np.array:\n",
    "    \"\"\"Get integrals over integer differences in gamma distribution for simulation duration.\n",
    "    \"\"\"\n",
    "    params = get_gamma_params_from_mean_sd(mean, sd)\n",
    "    return np.diff(gamma.cdf(range(n_times + 1), **params))\n",
    "\n",
    "def get_interp_vals_over_model_time(req: List[float], n_times: int) -> np.array:\n",
    "    \"\"\"Linear interpolation at requested values at regular intervals over simulation period.\n",
    "    \"\"\"\n",
    "    return np.interp(range(n_times), np.linspace(0.0, n_times, len(req)), req)\n",
    "\n",
    "def model_func(gen_time_mean: float, gen_time_sd: float, process_req: List[float], pop: int, seed: int, n_times: int) -> tuple:\n",
    "    \"\"\"The other epidemiological aspects of the model.\n",
    "    \"\"\"\n",
    "    gen_time_densities = get_gamma_densities_from_params(gen_time_mean, gen_time_sd)\n",
    "    process_req_exp = np.exp(np.array(process_req))\n",
    "    process_vals = get_interp_vals_over_model_time(process_req_exp, n_times)\n",
    "    model_result = semimech(gen_time_densities, process_vals, pop, seed, n_times)\n",
    "    return model_result, process_vals\n",
    "\n",
    "def calib_func(parameters: List[float], pop: int, seed: int, n_times: int, targets: dict) -> float:\n",
    "    \"\"\"Get the loss function from the model.\n",
    "    \"\"\"\n",
    "    gen_time_mean, gen_time_sd, *process_req = parameters\n",
    "    incidence = model_func(gen_time_mean, gen_time_sd, process_req, pop, seed, n_times)[0][0]\n",
    "    return sum([(incidence[t] - d) ** 2 for t, d in targets.items()])"
   ]
  },
  {
   "cell_type": "code",
   "execution_count": null,
   "id": "37777223-4e4b-4b55-b6a0-122cf31a2ffa",
   "metadata": {},
   "outputs": [],
   "source": [
    "# Model parameters\n",
    "population = 100.0\n",
    "infectious_seed = 1.0\n",
    "n_times = 40"
   ]
  },
  {
   "cell_type": "code",
   "execution_count": null,
   "id": "9c696b28-8b7d-4c84-92f5-58125547b9e7",
   "metadata": {},
   "outputs": [],
   "source": [
    "model_times = pd.Series(range(n_times))\n",
    "test_params = [5.5, 1.8, 1.0, 0.5, 1.5, 0.8]\n",
    "test_data, _ = model_func(test_params[0], test_params[1], test_params[2:], population, infectious_seed, n_times)\n",
    "test_vals = {t: d for t, d in zip(model_times, test_data.incidence)}"
   ]
  },
  {
   "cell_type": "code",
   "execution_count": null,
   "id": "1d417c26-7b6b-46e7-b02a-4f26eef7be83",
   "metadata": {},
   "outputs": [],
   "source": [
    "example, _ = model_func(test_params[0], test_params[1], test_params[2:], population, infectious_seed, n_times)\n"
   ]
  },
  {
   "cell_type": "code",
   "execution_count": null,
   "id": "4d852142-63be-4a0e-80fc-22aeff302b22",
   "metadata": {},
   "outputs": [],
   "source": [
    "# Local optimisation with Nelder-Mead\n",
    "param_bounds = [[0.0, 10.0]] + [[0.0, 4.0]] + [[-10.0, 10.0]] * 4\n",
    "result = minimize(calib_func, [2.0, 1.0] + [0.5] * 4, method='Nelder-Mead', args=(population, infectious_seed, n_times, test_vals), bounds=param_bounds)\n",
    "model_result, process_vals = model_func(result.x[0], result.x[1], result.x[2:], population, infectious_seed, n_times)\n",
    "optimised, suscept, r_t = model_result"
   ]
  },
  {
   "cell_type": "code",
   "execution_count": null,
   "id": "11623a7f-f327-4f29-b41f-5eeae3b4a7e6",
   "metadata": {},
   "outputs": [],
   "source": [
    "print(result.x[:2])\n",
    "print(np.array(result.x[2:]))"
   ]
  },
  {
   "cell_type": "code",
   "execution_count": null,
   "id": "857a7994-d700-4695-894c-9f20ab50257a",
   "metadata": {},
   "outputs": [],
   "source": [
    "# Global optimisation with shgo - need to capture arguments through closure due to bug in optimisation function\n",
    "# as per comment at https://stackoverflow.com/questions/72794609/scipy-issue-passing-arguments-to-optimize-shgo-function\n",
    "param_bounds = [[0.1, 30.0]] + [[0.1, 10.0]] + [[-10.0, 10.0]] * 4\n",
    "global_result = shgo(lambda x, p=population, s=infectious_seed, t=n_times, d=test_vals: calib_func(x, p, s, t, d), param_bounds)\n",
    "model_result, process_vals = model_func(global_result.x[0], global_result.x[1], global_result.x[2:], population, infectious_seed, n_times)\n",
    "optimised, suscept, r_t = model_result"
   ]
  },
  {
   "cell_type": "code",
   "execution_count": null,
   "id": "40224487-c8c0-4d6b-a227-9888a5c7b832",
   "metadata": {},
   "outputs": [],
   "source": [
    "print(global_result.x[:2])\n",
    "print(np.array(global_result.x[2:]))"
   ]
  },
  {
   "cell_type": "code",
   "execution_count": null,
   "id": "23cab736-e084-4f07-a124-a6543da7b54b",
   "metadata": {},
   "outputs": [],
   "source": [
    "# Plot\n",
    "fig = make_subplots(3, 1, shared_xaxes=True, vertical_spacing=0.05, subplot_titles=['incidence', 'reproduction number', 'susceptibles'])\n",
    "fig.add_trace(go.Scatter(x=list(test_vals.keys()), y=list(test_vals.values()), mode='markers', name='targets'), row=1, col=1)\n",
    "fig.add_trace(go.Scatter(x=model_times, y=optimised, name='model'), row=1, col=1)\n",
    "fig.add_trace(go.Scatter(x=model_times, y=process_vals, name='transmission potential'), row=2, col=1)\n",
    "fig.add_trace(go.Scatter(x=model_times, y=r_t, name='Rt'), row=2, col=1)\n",
    "fig.add_trace(go.Scatter(x=model_times, y=suscept, name='susceptibles'), row=3, col=1).update_layout(height=800, margin={'t': 20, 'b': 5, 'l': 5, 'r': 5})"
   ]
  }
 ],
 "metadata": {
  "kernelspec": {
   "display_name": "Python 3 (ipykernel)",
   "language": "python",
   "name": "python3"
  },
  "language_info": {
   "codemirror_mode": {
    "name": "ipython",
    "version": 3
   },
   "file_extension": ".py",
   "mimetype": "text/x-python",
   "name": "python",
   "nbconvert_exporter": "python",
   "pygments_lexer": "ipython3",
   "version": "3.10.0"
  }
 },
 "nbformat": 4,
 "nbformat_minor": 5
}
