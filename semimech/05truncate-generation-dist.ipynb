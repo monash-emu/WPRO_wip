{
 "cells": [
  {
   "cell_type": "markdown",
   "id": "d316eb3c-d354-439c-ad0b-e896bb350ce8",
   "metadata": {},
   "source": [
    "## Truncate generation times distribution\n",
    "Here, we will truncate the generation times distribution,\n",
    "to avoid the need always to make the calculations\n",
    "over the full simulation period at each time step.\n",
    "Considering all time points prior to the \n",
    "time of interest is unlikely to be desirable\n",
    "for longer (including real-world) analyses.\n",
    "All functions except for `renew` and \n",
    "`get_gamma_densities_from_params`\n",
    "are unchanged from the previous notebook, \n",
    "other than feeding through one additional argument\n",
    "for the number of generation times to use.\n",
    "\n",
    "Note that I did try out the approach of\n",
    "calculating the truncation time for the generation\n",
    "time distribution within the model function,\n",
    "such that it could be determined by the \n",
    "distribution being used. However, this resulted \n",
    "in the optimisations all going completely haywire.\n",
    "Although I'm not quite sure why this happened,\n",
    "this version is probably fine for our purposes\n",
    "and allowing for adaptive truncations is probably\n",
    "unnecessary."
   ]
  },
  {
   "cell_type": "code",
   "execution_count": null,
   "id": "1a49b5a0-50c7-468d-acfa-0a9a5ea6e067",
   "metadata": {},
   "outputs": [],
   "source": [
    "from typing import Dict, List\n",
    "import numpy as np\n",
    "import pandas as pd\n",
    "from scipy.optimize import minimize\n",
    "\n",
    "from distributions import get_gamma_params_from_mean_sd, get_gamma_densities_from_params\n",
    "from process import get_interp_vals_over_model_time\n",
    "from renew import renew_trunc_gen\n",
    "from outputs import Outputs, plot_output_fit"
   ]
  },
  {
   "cell_type": "code",
   "execution_count": null,
   "id": "d3299a2b-b443-45a8-aa27-a3c90e575b8e",
   "metadata": {},
   "outputs": [],
   "source": [
    "def model_func(gen_time_mean: float, gen_time_sd: float, process_req: List[float], pop: int, seed: int, n_times: int, gen_times_end: int) -> tuple:\n",
    "    \"\"\"The other epidemiological aspects of the model.\n",
    "    \"\"\"\n",
    "    gen_time_densities = get_gamma_densities_from_params(gen_time_mean, gen_time_sd, n_times)\n",
    "    process_vals = get_interp_vals_over_model_time(process_req, n_times)\n",
    "    process_vals_exp = np.exp(np.array(process_vals))\n",
    "    model_result = renew_trunc_gen(gen_time_densities, process_vals_exp, pop, seed, n_times, gen_times_end)\n",
    "    return model_result, process_vals_exp\n",
    "\n",
    "def calib_func(parameters: List[float], pop: int, seed: int, n_times: int, targets: dict, ) -> float:\n",
    "    \"\"\"Get the loss function from the model.\n",
    "    \"\"\"\n",
    "    gen_time_mean, gen_time_sd, *process_req = parameters\n",
    "    incidence = model_func(gen_time_mean, gen_time_sd, process_req, pop, seed, n_times, gen_times_end)[0][0]\n",
    "    return sum([(incidence[t] - d) ** 2 for t, d in targets.items()])"
   ]
  },
  {
   "cell_type": "markdown",
   "id": "beca7386-b374-4be0-8913-bb07b43564da",
   "metadata": {
    "tags": []
   },
   "source": [
    "### Optimisation with above model adaptations\n",
    "Simple, arbitrary parameters and targets"
   ]
  },
  {
   "cell_type": "code",
   "execution_count": null,
   "id": "4d852142-63be-4a0e-80fc-22aeff302b22",
   "metadata": {},
   "outputs": [],
   "source": [
    "n_times = 40\n",
    "infectious_seed = 1.0\n",
    "population = 100.0\n",
    "dummy_data = pd.Series(\n",
    "    {\n",
    "        5: 1.0,\n",
    "        10: 1.0,\n",
    "        15: 1.5,\n",
    "        25: 4.2,\n",
    "        30: 3.8,\n",
    "        35: 2.1,\n",
    "    },\n",
    ")\n",
    "gen_time_mean = 5.5\n",
    "gen_time_sd = 1.7\n",
    "max_gen_mean = 6.0\n",
    "max_gen_sd = 2.0\n",
    "\n",
    "# Calculate the longest distribution we could be interested in outside of the model function,\n",
    "# otherwise if this is allowed to adapt to the distribution, things seem to go haywire\n",
    "long_gen_densities = get_gamma_densities_from_params(max_gen_mean, max_gen_sd, n_times)\n",
    "gen_times_end = np.argmax(long_gen_densities.cumsum() > 0.999)\n",
    "\n",
    "param_bounds = [[5.0, max_gen_mean]] + [[1.5, max_gen_sd]] + [[-1000.0, np.log(10.0)]] * 4\n",
    "result = minimize(calib_func, [5.0, 1.5] + [np.log(2.0)] * 4, method='Nelder-Mead', args=(population, infectious_seed, n_times, dummy_data), bounds=param_bounds)\n",
    "model_result, process_vals = model_func(result.x[0], result.x[1], result.x[2:], population, infectious_seed, n_times, gen_times_end)\n",
    "optimised, suscept, r_t = model_result\n",
    "plot_output_fit(dummy_data.to_dict(), model_result, process_vals, n_times)"
   ]
  }
 ],
 "metadata": {
  "kernelspec": {
   "display_name": "Python 3 (ipykernel)",
   "language": "python",
   "name": "python3"
  },
  "language_info": {
   "codemirror_mode": {
    "name": "ipython",
    "version": 3
   },
   "file_extension": ".py",
   "mimetype": "text/x-python",
   "name": "python",
   "nbconvert_exporter": "python",
   "pygments_lexer": "ipython3",
   "version": "3.10.0"
  }
 },
 "nbformat": 4,
 "nbformat_minor": 5
}
